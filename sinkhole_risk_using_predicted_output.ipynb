{
 "cells": [
  {
   "cell_type": "code",
   "execution_count": 90,
   "metadata": {
    "collapsed": false
   },
   "outputs": [],
   "source": [
    "library(data.table)\n",
    "#library(dplyr)\n",
    "library(geosphere)\n",
    "library(stringr)\n",
    "library(SearchTrees)\n",
    "library(randomForest)"
   ]
  },
  {
   "cell_type": "code",
   "execution_count": 70,
   "metadata": {
    "collapsed": false
   },
   "outputs": [
    {
     "data": {
      "text/html": [
       "<table>\n",
       "<thead><tr><th scope=col>STATEFP10</th><th scope=col>COUNTYFP10</th><th scope=col>TRACTCE10</th><th scope=col>BLOCKCE10</th><th scope=col>GEOID10</th><th scope=col>NAME10</th><th scope=col>MTFCC10</th><th scope=col>UR10</th><th scope=col>UACE10</th><th scope=col>FUNCSTAT10</th><th scope=col>ALAND10</th><th scope=col>AWATER10</th><th scope=col>INTPTLAT10</th><th scope=col>INTPTLON10</th><th scope=col>POP10</th><th scope=col>HU10</th><th scope=col>Longitude</th><th scope=col>Latitude</th></tr></thead>\n",
       "<tbody>\n",
       "\t<tr><td>12        </td><td>1         </td><td>2205      </td><td>4006      </td><td>1.2001e+14</td><td>Block 4006</td><td>G5040     </td><td>NA        </td><td>NA        </td><td>S         </td><td> 10458    </td><td>0         </td><td>29.59290  </td><td>-82.43768 </td><td>19        </td><td> 8        </td><td>-82.43766 </td><td>29.59292  </td></tr>\n",
       "\t<tr><td>12        </td><td>1         </td><td>2205      </td><td>4021      </td><td>1.2001e+14</td><td>Block 4021</td><td>G5040     </td><td>NA        </td><td>NA        </td><td>S         </td><td>  8429    </td><td>0         </td><td>29.59521  </td><td>-82.43767 </td><td>21        </td><td> 8        </td><td>-82.43768 </td><td>29.59520  </td></tr>\n",
       "\t<tr><td>12        </td><td>1         </td><td>1604      </td><td>4040      </td><td>1.2001e+14</td><td>Block 4040</td><td>G5040     </td><td>NA        </td><td>NA        </td><td>S         </td><td>  4595    </td><td>0         </td><td>29.63753  </td><td>-82.39491 </td><td>20        </td><td>12        </td><td>-82.39493 </td><td>29.63753  </td></tr>\n",
       "\t<tr><td>12        </td><td>1         </td><td>1604      </td><td>4029      </td><td>1.2001e+14</td><td>Block 4029</td><td>G5040     </td><td>NA        </td><td>NA        </td><td>S         </td><td>  6249    </td><td>0         </td><td>29.64370  </td><td>-82.40072 </td><td>19        </td><td>10        </td><td>-82.40069 </td><td>29.64369  </td></tr>\n",
       "\t<tr><td>12        </td><td>1         </td><td>2204      </td><td>2027      </td><td>1.2001e+14</td><td>Block 2027</td><td>G5040     </td><td>NA        </td><td>NA        </td><td>S         </td><td>123118    </td><td>0         </td><td>29.67882  </td><td>-82.49133 </td><td>52        </td><td>21        </td><td>-82.49156 </td><td>29.67901  </td></tr>\n",
       "\t<tr><td>12        </td><td>1         </td><td>2204      </td><td>2048      </td><td>1.2001e+14</td><td>Block 2048</td><td>G5040     </td><td>NA        </td><td>NA        </td><td>S         </td><td> 11802    </td><td>0         </td><td>29.65910  </td><td>-82.48407 </td><td>34        </td><td>14        </td><td>-82.48427 </td><td>29.65871  </td></tr>\n",
       "</tbody>\n",
       "</table>\n"
      ],
      "text/latex": [
       "\\begin{tabular}{r|llllllllllllllllll}\n",
       " STATEFP10 & COUNTYFP10 & TRACTCE10 & BLOCKCE10 & GEOID10 & NAME10 & MTFCC10 & UR10 & UACE10 & FUNCSTAT10 & ALAND10 & AWATER10 & INTPTLAT10 & INTPTLON10 & POP10 & HU10 & Longitude & Latitude\\\\\n",
       "\\hline\n",
       "\t 12         & 1          & 2205       & 4006       & 1.2001e+14 & Block 4006 & G5040      & NA         & NA         & S          &  10458     & 0          & 29.59290   & -82.43768  & 19         &  8         & -82.43766  & 29.59292  \\\\\n",
       "\t 12         & 1          & 2205       & 4021       & 1.2001e+14 & Block 4021 & G5040      & NA         & NA         & S          &   8429     & 0          & 29.59521   & -82.43767  & 21         &  8         & -82.43768  & 29.59520  \\\\\n",
       "\t 12         & 1          & 1604       & 4040       & 1.2001e+14 & Block 4040 & G5040      & NA         & NA         & S          &   4595     & 0          & 29.63753   & -82.39491  & 20         & 12         & -82.39493  & 29.63753  \\\\\n",
       "\t 12         & 1          & 1604       & 4029       & 1.2001e+14 & Block 4029 & G5040      & NA         & NA         & S          &   6249     & 0          & 29.64370   & -82.40072  & 19         & 10         & -82.40069  & 29.64369  \\\\\n",
       "\t 12         & 1          & 2204       & 2027       & 1.2001e+14 & Block 2027 & G5040      & NA         & NA         & S          & 123118     & 0          & 29.67882   & -82.49133  & 52         & 21         & -82.49156  & 29.67901  \\\\\n",
       "\t 12         & 1          & 2204       & 2048       & 1.2001e+14 & Block 2048 & G5040      & NA         & NA         & S          &  11802     & 0          & 29.65910   & -82.48407  & 34         & 14         & -82.48427  & 29.65871  \\\\\n",
       "\\end{tabular}\n"
      ],
      "text/plain": [
       "  STATEFP10 COUNTYFP10 TRACTCE10 BLOCKCE10 GEOID10    NAME10     MTFCC10 UR10\n",
       "1 12        1          2205      4006      1.2001e+14 Block 4006 G5040   NA  \n",
       "2 12        1          2205      4021      1.2001e+14 Block 4021 G5040   NA  \n",
       "3 12        1          1604      4040      1.2001e+14 Block 4040 G5040   NA  \n",
       "4 12        1          1604      4029      1.2001e+14 Block 4029 G5040   NA  \n",
       "5 12        1          2204      2027      1.2001e+14 Block 2027 G5040   NA  \n",
       "6 12        1          2204      2048      1.2001e+14 Block 2048 G5040   NA  \n",
       "  UACE10 FUNCSTAT10 ALAND10 AWATER10 INTPTLAT10 INTPTLON10 POP10 HU10 Longitude\n",
       "1 NA     S           10458  0        29.59290   -82.43768  19     8   -82.43766\n",
       "2 NA     S            8429  0        29.59521   -82.43767  21     8   -82.43768\n",
       "3 NA     S            4595  0        29.63753   -82.39491  20    12   -82.39493\n",
       "4 NA     S            6249  0        29.64370   -82.40072  19    10   -82.40069\n",
       "5 NA     S          123118  0        29.67882   -82.49133  52    21   -82.49156\n",
       "6 NA     S           11802  0        29.65910   -82.48407  34    14   -82.48427\n",
       "  Latitude\n",
       "1 29.59292\n",
       "2 29.59520\n",
       "3 29.63753\n",
       "4 29.64369\n",
       "5 29.67901\n",
       "6 29.65871"
      ]
     },
     "metadata": {},
     "output_type": "display_data"
    }
   ],
   "source": [
    "# get blocks\n",
    "get_blocks <- function(state_number, block_directory) {\n",
    "    block_file_name <- paste(\"tl_2010_\", state_number, \"_tabblock10.txt\", sep=\"\")\n",
    "    block_file_loc <- file.path(block_directory, block_file_name)\n",
    "\n",
    "    # blockfile csvs are pipe delimited\n",
    "    return(read.csv(block_file_name, sep=\"|\", stringsAsFactors=FALSE))\n",
    "}\n",
    "# 12 is the census value for FL\n",
    "state_blocks <- get_blocks(state_number='12', block_directory='./')\n",
    "head(state_blocks)"
   ]
  },
  {
   "cell_type": "code",
   "execution_count": 71,
   "metadata": {
    "collapsed": false
   },
   "outputs": [],
   "source": [
    "# reduce columns and get only those blocks where people seem to live\n",
    "# \"STATEFP10\"  \"COUNTYFP10\" \"TRACTCE10\"  \"BLOCKCE10\"  \"INTPTLAT10\" \"INTPTLON10\" \"HU10\"\n",
    "state_blocks <- state_blocks[c(1,2,3,4,13,14,16)]\n",
    "state_blocks <- subset(state_blocks, state_blocks$HU10 > 0)"
   ]
  },
  {
   "cell_type": "code",
   "execution_count": 72,
   "metadata": {
    "collapsed": false
   },
   "outputs": [
    {
     "data": {
      "text/html": [
       "<table>\n",
       "<thead><tr><th scope=col>STATEFP10</th><th scope=col>COUNTYFP10</th><th scope=col>TRACTCE10</th><th scope=col>BLOCKCE10</th><th scope=col>INTPTLAT10</th><th scope=col>INTPTLON10</th><th scope=col>HU10</th><th scope=col>geoid</th></tr></thead>\n",
       "<tbody>\n",
       "\t<tr><td>12             </td><td>001            </td><td>002205         </td><td>4006           </td><td>29.59290       </td><td>-82.43768      </td><td> 8             </td><td>120010022054006</td></tr>\n",
       "\t<tr><td>12             </td><td>001            </td><td>002205         </td><td>4021           </td><td>29.59521       </td><td>-82.43767      </td><td> 8             </td><td>120010022054021</td></tr>\n",
       "\t<tr><td>12             </td><td>001            </td><td>001604         </td><td>4040           </td><td>29.63753       </td><td>-82.39491      </td><td>12             </td><td>120010016044040</td></tr>\n",
       "\t<tr><td>12             </td><td>001            </td><td>001604         </td><td>4029           </td><td>29.64370       </td><td>-82.40072      </td><td>10             </td><td>120010016044029</td></tr>\n",
       "\t<tr><td>12             </td><td>001            </td><td>002204         </td><td>2027           </td><td>29.67882       </td><td>-82.49133      </td><td>21             </td><td>120010022042027</td></tr>\n",
       "\t<tr><td>12             </td><td>001            </td><td>002204         </td><td>2048           </td><td>29.65910       </td><td>-82.48407      </td><td>14             </td><td>120010022042048</td></tr>\n",
       "</tbody>\n",
       "</table>\n"
      ],
      "text/latex": [
       "\\begin{tabular}{r|llllllll}\n",
       " STATEFP10 & COUNTYFP10 & TRACTCE10 & BLOCKCE10 & INTPTLAT10 & INTPTLON10 & HU10 & geoid\\\\\n",
       "\\hline\n",
       "\t 12              & 001             & 002205          & 4006            & 29.59290        & -82.43768       &  8              & 120010022054006\\\\\n",
       "\t 12              & 001             & 002205          & 4021            & 29.59521        & -82.43767       &  8              & 120010022054021\\\\\n",
       "\t 12              & 001             & 001604          & 4040            & 29.63753        & -82.39491       & 12              & 120010016044040\\\\\n",
       "\t 12              & 001             & 001604          & 4029            & 29.64370        & -82.40072       & 10              & 120010016044029\\\\\n",
       "\t 12              & 001             & 002204          & 2027            & 29.67882        & -82.49133       & 21              & 120010022042027\\\\\n",
       "\t 12              & 001             & 002204          & 2048            & 29.65910        & -82.48407       & 14              & 120010022042048\\\\\n",
       "\\end{tabular}\n"
      ],
      "text/plain": [
       "  STATEFP10 COUNTYFP10 TRACTCE10 BLOCKCE10 INTPTLAT10 INTPTLON10 HU10\n",
       "1 12        001        002205    4006      29.59290   -82.43768   8  \n",
       "2 12        001        002205    4021      29.59521   -82.43767   8  \n",
       "3 12        001        001604    4040      29.63753   -82.39491  12  \n",
       "4 12        001        001604    4029      29.64370   -82.40072  10  \n",
       "5 12        001        002204    2027      29.67882   -82.49133  21  \n",
       "6 12        001        002204    2048      29.65910   -82.48407  14  \n",
       "  geoid          \n",
       "1 120010022054006\n",
       "2 120010022054021\n",
       "3 120010016044040\n",
       "4 120010016044029\n",
       "5 120010022042027\n",
       "6 120010022042048"
      ]
     },
     "metadata": {},
     "output_type": "display_data"
    }
   ],
   "source": [
    "# pad dataframe columns and add 'geoid' to dataframe which is the concatination of the four key identifiers\n",
    "state_blocks$STATEFP10 <- str_pad(state_blocks$STATEFP10, width=2, side='left', pad='0')\n",
    "state_blocks$COUNTYFP10 <- str_pad(state_blocks$COUNTYFP10, width=3, side='left', pad='0')\n",
    "state_blocks$TRACTCE10 <- str_pad(state_blocks$TRACTCE10, width=6, side='left', pad='0')\n",
    "state_blocks$BLOCKCE10 <- str_pad(state_blocks$BLOCKCE10, width=4, side='left', pad='0')\n",
    "state_blocks$geoid <- str_c(state_blocks$STATEFP10, \n",
    "                            state_blocks$COUNTYFP10, \n",
    "                            state_blocks$TRACTCE10, \n",
    "                            state_blocks$BLOCKCE10)\n",
    "head(state_blocks)"
   ]
  },
  {
   "cell_type": "code",
   "execution_count": null,
   "metadata": {
    "collapsed": true
   },
   "outputs": [],
   "source": [
    "# Read in sinkhole incidents\n",
    "# Data Dictionary http://geodata.dep.state.fl.us/datasets/194ac159bd1e4be294b14dd882d42dcf_0\n",
    "#florida_incidents <- read.csv(file = 'Florida_Subsidence_Incident_Reports.csv', stringsAsFactors=FALSE)\n",
    "#florida_incidents <- florida_incidents[c('OBJECTID', \n",
    " #                                        'LATDD', \n",
    "  #                                       'LONGDD', \n",
    "   #                                      'EVENT_DATE', \n",
    "    #                                     'SIZDIM', \n",
    "     #                                    'SINSHAPE', \n",
    "      #                                   'SINLNGTH', \n",
    "       #                                  'SINWIDTH', \n",
    "        #                                 'SINDEPTH',\n",
    "         #                                'SUBRATE', \n",
    "          #                               'PROPDAM', \n",
    "           #                              'REPAIR_S')]\n",
    "#head(florida_incidents)"
   ]
  },
  {
   "cell_type": "code",
   "execution_count": null,
   "metadata": {
    "collapsed": false
   },
   "outputs": [],
   "source": [
    "#florida_lon_lat <- as.data.frame(florida_incidents[,c('LONGDD', 'LATDD')])\n",
    "#incident_tree <- createTree(florida_lon_lat, maxDepth=50)\n",
    "\n",
    "#blkPt <- as.matrix(state_blocks[,c(3,2)]) #\n",
    "\n",
    "#t1 <- Sys.time()\n",
    "#NN <- knnLookup(incident_tree, newdat=blkPt, k=2) # euclidean dist miss nearest geodesic pt\n",
    "#t2 <- Sys.time()\n",
    "#t2-t1"
   ]
  },
  {
   "cell_type": "code",
   "execution_count": null,
   "metadata": {
    "collapsed": false
   },
   "outputs": [],
   "source": [
    "#length(rectLookup(incident_tree, xlims=c(-82.43768 - 0.2, -82.43768 + 0.2), ylims=c(29.59290 - 0.2, 29.59290 + 0.2)))\n",
    "#nrow(slice(florida_incidents, rectLookup(incident_tree, xlims=c(-82.43768 - 0.2, -82.43768 + 0.2), ylims=c(29.59290 - 0.2, 29.59290 + 0.2))))\n",
    "\n",
    "#incidents_within_13_miles <- function(long_lat_pt) {\n",
    "    # returns the incidents within ~13 miles of long_lat_pt.  All calculations in lat/long or lat/long approximations\n",
    "#    xmin_max <- c(long_lat_pt[1] - 0.2, long_lat_pt[1] + 0.2)\n",
    " #   ymin_max <- c(long_lat_pt[2] - 0.2, long_lat_pt[2] + 0.2)\n",
    "  #  thirteen_mile_rect <- rectLookup(incident_tree, xlims=xmin_max, ylims=ymin_max)\n",
    "   # return(slice(florida_incidents, thirteen_mile_rect))\n",
    "#}\n",
    "\n",
    "#incidents_within_x_miles <- function(long_lat_pt, incidents, x=1) {\n",
    "#    great_circle_dist <- function(x) { return(distGeo(long_lat_pt, x) * 0.000621371) } # in miles\n",
    "#    incidents$dist <- apply(incidents[,c('LONGDD', 'LATDD')], 1, great_circle_dist)\n",
    "#    less_than_x_mile <- filter(incidents, incidents$dist < x)\n",
    "#    return(less_than_x_mile)\n",
    "#}\n",
    "\n",
    "#num_incidents_within_x_miles <- function(incidents) {return(nrow(incidents))}\n",
    "\n",
    "#pt <- c(-82.43768, 29.59290)\n",
    "#lt_1_mile <- function(pt) {return(num_incidents_within_x_miles(incidents_within_x_miles(pt, incidents_within_13_miles(pt))))}\n",
    "#lt_875_mile <- function(pt) {return(num_incidents_within_x_miles(incidents_within_x_miles(pt, incidents_within_13_miles(pt), x=0.875)))}\n",
    "#lt_75_mile <- function(pt) {return(num_incidents_within_x_miles(incidents_within_x_miles(pt, incidents_within_13_miles(pt), x=0.75)))}\n",
    "#lt_625_mile <- function(pt) {return(num_incidents_within_x_miles(incidents_within_x_miles(pt, incidents_within_13_miles(pt), x=0.625)))}\n",
    "#lt_5_mile <- function(pt) {return(num_incidents_within_x_miles(incidents_within_x_miles(pt, incidents_within_13_miles(pt), x=0.5)))}\n",
    "#lt_375_mile <- function(pt) {return(num_incidents_within_x_miles(incidents_within_x_miles(pt, incidents_within_13_miles(pt), x=0.375)))}\n",
    "#lt_25_mile <- function(pt) {return(num_incidents_within_x_miles(incidents_within_x_miles(pt, incidents_within_13_miles(pt), x=0.25)))}\n",
    "#lt_125_mile <- function(pt) {return(num_incidents_within_x_miles(incidents_within_x_miles(pt, incidents_within_13_miles(pt), x=0.125)))}"
   ]
  },
  {
   "cell_type": "code",
   "execution_count": null,
   "metadata": {
    "collapsed": false
   },
   "outputs": [],
   "source": [
    "# Calculation of the various distances from the centroid by which to calculate the probability.\n",
    "# If I were better with R this could probably be sped up tremendously ~10 hours with the below method \n",
    "# on my i7 laptop with 8GB of Ram overnight\n",
    "#t1 <- Sys.time()\n",
    "#lat_lng <- state_blocks[c(\"INTPTLON10\", \"INTPTLAT10\")]\n",
    "#state_blocks$num_sinkholes_within_mile <- apply(lat_lng, 1, lt_1_mile)\n",
    "#state_blocks$num_sinkholes_within_875 <- apply(lat_lng, 1, lt_875_mile)\n",
    "#state_blocks$num_sinkholes_within_75 <- apply(lat_lng, 1, lt_75_mile)\n",
    "#state_blocks$num_sinkholes_within_625 <- apply(lat_lng, 1, lt_625_mile)\n",
    "#state_blocks$num_sinkholes_within_5 <- apply(lat_lng, 1, lt_5_mile)\n",
    "#state_blocks$num_sinkholes_within_375 <- apply(lat_lng, 1, lt_375_mile)\n",
    "#state_blocks$num_sinkholes_within_25 <- apply(lat_lng, 1, lt_25_mile)\n",
    "#state_blocks$num_sinkholes_within_125 <- apply(lat_lng, 1, lt_125_mile)\n",
    "#t2 <- Sys.time()\n",
    "#t2 - t1"
   ]
  },
  {
   "cell_type": "code",
   "execution_count": 9,
   "metadata": {
    "collapsed": false
   },
   "outputs": [],
   "source": [
    "#head(state_blocks, n=5)"
   ]
  },
  {
   "cell_type": "code",
   "execution_count": 10,
   "metadata": {
    "collapsed": false
   },
   "outputs": [],
   "source": [
    "# Write output for backup of time consuming step and for consumption later as backup\n",
    "#write.table(state_blocks, file=\"state_blocks_num_sinkholes_output_bak.csv\", sep=\",\")\n",
    "#state_blocks <- read.table(file=\"state_blocks_num_sinkholes_output_bak.csv\", sep=\",\")"
   ]
  },
  {
   "cell_type": "code",
   "execution_count": 11,
   "metadata": {
    "collapsed": false
   },
   "outputs": [
    {
     "data": {
      "text/html": [
       "<table>\n",
       "<thead><tr><th scope=col>X0.75</th><th scope=col>X0.5</th><th scope=col>X0.25</th><th scope=col>X0.125</th></tr></thead>\n",
       "<tbody>\n",
       "\t<tr><td>0.000016</td><td>0.000016</td><td>0.000016</td><td>0.000016</td></tr>\n",
       "\t<tr><td>0.000120</td><td>0.000243</td><td>0.000760</td><td>0.002434</td></tr>\n",
       "\t<tr><td>0.000144</td><td>0.000304</td><td>0.001023</td><td>0.003607</td></tr>\n",
       "\t<tr><td>0.000160</td><td>0.000351</td><td>0.001254</td><td>0.004602</td></tr>\n",
       "\t<tr><td>0.000177</td><td>0.000400</td><td>0.001435</td><td>0.005549</td></tr>\n",
       "\t<tr><td>0.000192</td><td>0.000442</td><td>0.001594</td><td>0.006400</td></tr>\n",
       "\t<tr><td>0.000209</td><td>0.000483</td><td>0.001794</td><td>0.007341</td></tr>\n",
       "\t<tr><td>0.000221</td><td>0.000525</td><td>0.001935</td><td>0.008427</td></tr>\n",
       "\t<tr><td>0.000235</td><td>0.000558</td><td>0.002079</td><td>0.009020</td></tr>\n",
       "\t<tr><td>0.000249</td><td>0.000589</td><td>0.002220</td><td>0.009450</td></tr>\n",
       "\t<tr><td>0.000262</td><td>0.000625</td><td>0.002355</td><td>0.010303</td></tr>\n",
       "</tbody>\n",
       "</table>\n"
      ],
      "text/latex": [
       "\\begin{tabular}{r|llll}\n",
       " X0.75 & X0.5 & X0.25 & X0.125\\\\\n",
       "\\hline\n",
       "\t 0.000016 & 0.000016 & 0.000016 & 0.000016\\\\\n",
       "\t 0.000120 & 0.000243 & 0.000760 & 0.002434\\\\\n",
       "\t 0.000144 & 0.000304 & 0.001023 & 0.003607\\\\\n",
       "\t 0.000160 & 0.000351 & 0.001254 & 0.004602\\\\\n",
       "\t 0.000177 & 0.000400 & 0.001435 & 0.005549\\\\\n",
       "\t 0.000192 & 0.000442 & 0.001594 & 0.006400\\\\\n",
       "\t 0.000209 & 0.000483 & 0.001794 & 0.007341\\\\\n",
       "\t 0.000221 & 0.000525 & 0.001935 & 0.008427\\\\\n",
       "\t 0.000235 & 0.000558 & 0.002079 & 0.009020\\\\\n",
       "\t 0.000249 & 0.000589 & 0.002220 & 0.009450\\\\\n",
       "\t 0.000262 & 0.000625 & 0.002355 & 0.010303\\\\\n",
       "\\end{tabular}\n"
      ],
      "text/plain": [
       "   X0.75    X0.5     X0.25    X0.125  \n",
       "1  0.000016 0.000016 0.000016 0.000016\n",
       "2  0.000120 0.000243 0.000760 0.002434\n",
       "3  0.000144 0.000304 0.001023 0.003607\n",
       "4  0.000160 0.000351 0.001254 0.004602\n",
       "5  0.000177 0.000400 0.001435 0.005549\n",
       "6  0.000192 0.000442 0.001594 0.006400\n",
       "7  0.000209 0.000483 0.001794 0.007341\n",
       "8  0.000221 0.000525 0.001935 0.008427\n",
       "9  0.000235 0.000558 0.002079 0.009020\n",
       "10 0.000249 0.000589 0.002220 0.009450\n",
       "11 0.000262 0.000625 0.002355 0.010303"
      ]
     },
     "metadata": {},
     "output_type": "display_data"
    }
   ],
   "source": [
    "sinkhole_probabilities <- read.table(\"Sinkhole_Probabilities.csv\", sep=',', header=TRUE)\n",
    "sinkhole_probabilities <- sinkhole_probabilities[1:11, -c(10, 11, 12, 13)] # Get rid of excess columns\n",
    "sinkhole_probabilities <- sinkhole_probabilities[,c('X0.75', 'X0.5', 'X0.25', 'X0.125')]\n",
    "sinkhole_probabilities"
   ]
  },
  {
   "cell_type": "code",
   "execution_count": 32,
   "metadata": {
    "collapsed": false
   },
   "outputs": [
    {
     "data": {
      "text/html": [
       "<table>\n",
       "<thead><tr><th scope=col>X</th><th scope=col>STATEFP10</th><th scope=col>COUNTYFP10</th><th scope=col>TRACTCE10</th><th scope=col>BLOCKCE10</th><th scope=col>INTPTLAT10</th><th scope=col>INTPTLON10</th><th scope=col>HU10</th><th scope=col>geoid</th><th scope=col>num_sinkholes_within_mile</th><th scope=col>num_sinkholes_within_875</th><th scope=col>num_sinkholes_within_75</th><th scope=col>num_sinkholes_within_5</th><th scope=col>num_sinkholes_within_375</th><th scope=col>num_sinkholes_within_25</th><th scope=col>num_sinkholes_within_125</th><th scope=col>idx</th><th scope=col>state_county_tract</th></tr></thead>\n",
       "<tbody>\n",
       "\t<tr><td>1         </td><td>12        </td><td>1         </td><td>2205      </td><td>4006      </td><td>29.59290  </td><td>-82.43768 </td><td> 8        </td><td>1.2001e+14</td><td>2         </td><td>2         </td><td>2         </td><td>2         </td><td>0         </td><td>0         </td><td>0         </td><td>1         </td><td>1.2012e+10</td></tr>\n",
       "\t<tr><td>2         </td><td>12        </td><td>1         </td><td>2205      </td><td>4021      </td><td>29.59521  </td><td>-82.43767 </td><td> 8        </td><td>1.2001e+14</td><td>2         </td><td>2         </td><td>2         </td><td>2         </td><td>0         </td><td>0         </td><td>0         </td><td>2         </td><td>1.2012e+10</td></tr>\n",
       "\t<tr><td>3         </td><td>12        </td><td>1         </td><td>1604      </td><td>4040      </td><td>29.63753  </td><td>-82.39491 </td><td>12        </td><td>1.2001e+14</td><td>1         </td><td>1         </td><td>0         </td><td>0         </td><td>0         </td><td>0         </td><td>0         </td><td>3         </td><td>1.2012e+10</td></tr>\n",
       "\t<tr><td>4         </td><td>12        </td><td>1         </td><td>1604      </td><td>4029      </td><td>29.64370  </td><td>-82.40072 </td><td>10        </td><td>1.2001e+14</td><td>0         </td><td>0         </td><td>0         </td><td>0         </td><td>0         </td><td>0         </td><td>0         </td><td>4         </td><td>1.2012e+10</td></tr>\n",
       "\t<tr><td>5         </td><td>12        </td><td>1         </td><td>2204      </td><td>2027      </td><td>29.67882  </td><td>-82.49133 </td><td>21        </td><td>1.2001e+14</td><td>1         </td><td>1         </td><td>1         </td><td>1         </td><td>0         </td><td>0         </td><td>0         </td><td>5         </td><td>1.2012e+10</td></tr>\n",
       "\t<tr><td>6         </td><td>12        </td><td>1         </td><td>2204      </td><td>2048      </td><td>29.65910  </td><td>-82.48407 </td><td>14        </td><td>1.2001e+14</td><td>0         </td><td>0         </td><td>0         </td><td>0         </td><td>0         </td><td>0         </td><td>0         </td><td>6         </td><td>1.2012e+10</td></tr>\n",
       "</tbody>\n",
       "</table>\n"
      ],
      "text/latex": [
       "\\begin{tabular}{r|llllllllllllllllll}\n",
       " X & STATEFP10 & COUNTYFP10 & TRACTCE10 & BLOCKCE10 & INTPTLAT10 & INTPTLON10 & HU10 & geoid & num\\_sinkholes\\_within\\_mile & num\\_sinkholes\\_within\\_875 & num\\_sinkholes\\_within\\_75 & num\\_sinkholes\\_within\\_5 & num\\_sinkholes\\_within\\_375 & num\\_sinkholes\\_within\\_25 & num\\_sinkholes\\_within\\_125 & idx & state\\_county\\_tract\\\\\n",
       "\\hline\n",
       "\t 1          & 12         & 1          & 2205       & 4006       & 29.59290   & -82.43768  &  8         & 1.2001e+14 & 2          & 2          & 2          & 2          & 0          & 0          & 0          & 1          & 1.2012e+10\\\\\n",
       "\t 2          & 12         & 1          & 2205       & 4021       & 29.59521   & -82.43767  &  8         & 1.2001e+14 & 2          & 2          & 2          & 2          & 0          & 0          & 0          & 2          & 1.2012e+10\\\\\n",
       "\t 3          & 12         & 1          & 1604       & 4040       & 29.63753   & -82.39491  & 12         & 1.2001e+14 & 1          & 1          & 0          & 0          & 0          & 0          & 0          & 3          & 1.2012e+10\\\\\n",
       "\t 4          & 12         & 1          & 1604       & 4029       & 29.64370   & -82.40072  & 10         & 1.2001e+14 & 0          & 0          & 0          & 0          & 0          & 0          & 0          & 4          & 1.2012e+10\\\\\n",
       "\t 5          & 12         & 1          & 2204       & 2027       & 29.67882   & -82.49133  & 21         & 1.2001e+14 & 1          & 1          & 1          & 1          & 0          & 0          & 0          & 5          & 1.2012e+10\\\\\n",
       "\t 6          & 12         & 1          & 2204       & 2048       & 29.65910   & -82.48407  & 14         & 1.2001e+14 & 0          & 0          & 0          & 0          & 0          & 0          & 0          & 6          & 1.2012e+10\\\\\n",
       "\\end{tabular}\n"
      ],
      "text/plain": [
       "  X STATEFP10 COUNTYFP10 TRACTCE10 BLOCKCE10 INTPTLAT10 INTPTLON10 HU10\n",
       "1 1 12        1          2205      4006      29.59290   -82.43768   8  \n",
       "2 2 12        1          2205      4021      29.59521   -82.43767   8  \n",
       "3 3 12        1          1604      4040      29.63753   -82.39491  12  \n",
       "4 4 12        1          1604      4029      29.64370   -82.40072  10  \n",
       "5 5 12        1          2204      2027      29.67882   -82.49133  21  \n",
       "6 6 12        1          2204      2048      29.65910   -82.48407  14  \n",
       "  geoid      num_sinkholes_within_mile num_sinkholes_within_875\n",
       "1 1.2001e+14 2                         2                       \n",
       "2 1.2001e+14 2                         2                       \n",
       "3 1.2001e+14 1                         1                       \n",
       "4 1.2001e+14 0                         0                       \n",
       "5 1.2001e+14 1                         1                       \n",
       "6 1.2001e+14 0                         0                       \n",
       "  num_sinkholes_within_75 num_sinkholes_within_5 num_sinkholes_within_375\n",
       "1 2                       2                      0                       \n",
       "2 2                       2                      0                       \n",
       "3 0                       0                      0                       \n",
       "4 0                       0                      0                       \n",
       "5 1                       1                      0                       \n",
       "6 0                       0                      0                       \n",
       "  num_sinkholes_within_25 num_sinkholes_within_125 idx state_county_tract\n",
       "1 0                       0                        1   1.2012e+10        \n",
       "2 0                       0                        2   1.2012e+10        \n",
       "3 0                       0                        3   1.2012e+10        \n",
       "4 0                       0                        4   1.2012e+10        \n",
       "5 0                       0                        5   1.2012e+10        \n",
       "6 0                       0                        6   1.2012e+10        "
      ]
     },
     "metadata": {},
     "output_type": "display_data"
    },
    {
     "data": {
      "text/html": [
       "<table>\n",
       "<thead><tr><th scope=col>X</th><th scope=col>TRACT</th><th scope=col>ZIP</th><th scope=col>RES_RATIO</th><th scope=col>BUS_RATIO</th><th scope=col>OTH_RATIO</th><th scope=col>TOT_RATIO</th></tr></thead>\n",
       "<tbody>\n",
       "\t<tr><td>0          </td><td>1001020100 </td><td>36067      </td><td>1.00000000 </td><td>1.000000000</td><td>1.00000000 </td><td>1.00000000 </td></tr>\n",
       "\t<tr><td>1          </td><td>1001020200 </td><td>36067      </td><td>0.41019956 </td><td>0.425174825</td><td>0.94736842 </td><td>0.42054521 </td></tr>\n",
       "\t<tr><td>2          </td><td>1001020200 </td><td>36008      </td><td>0.01197339 </td><td>0.005594406</td><td>0.00000000 </td><td>0.01030585 </td></tr>\n",
       "\t<tr><td>3          </td><td>1001020200 </td><td>36068      </td><td>0.57782705 </td><td>0.569230769</td><td>0.05263158 </td><td>0.56914894 </td></tr>\n",
       "\t<tr><td>4          </td><td>1001020300 </td><td>36067      </td><td>1.00000000 </td><td>1.000000000</td><td>1.00000000 </td><td>1.00000000 </td></tr>\n",
       "\t<tr><td>5          </td><td>1001020400 </td><td>36067      </td><td>0.02552960 </td><td>0.589743590</td><td>0.25000000 </td><td>0.07103825 </td></tr>\n",
       "</tbody>\n",
       "</table>\n"
      ],
      "text/latex": [
       "\\begin{tabular}{r|lllllll}\n",
       " X & TRACT & ZIP & RES\\_RATIO & BUS\\_RATIO & OTH\\_RATIO & TOT\\_RATIO\\\\\n",
       "\\hline\n",
       "\t 0           & 1001020100  & 36067       & 1.00000000  & 1.000000000 & 1.00000000  & 1.00000000 \\\\\n",
       "\t 1           & 1001020200  & 36067       & 0.41019956  & 0.425174825 & 0.94736842  & 0.42054521 \\\\\n",
       "\t 2           & 1001020200  & 36008       & 0.01197339  & 0.005594406 & 0.00000000  & 0.01030585 \\\\\n",
       "\t 3           & 1001020200  & 36068       & 0.57782705  & 0.569230769 & 0.05263158  & 0.56914894 \\\\\n",
       "\t 4           & 1001020300  & 36067       & 1.00000000  & 1.000000000 & 1.00000000  & 1.00000000 \\\\\n",
       "\t 5           & 1001020400  & 36067       & 0.02552960  & 0.589743590 & 0.25000000  & 0.07103825 \\\\\n",
       "\\end{tabular}\n"
      ],
      "text/plain": [
       "  X TRACT      ZIP   RES_RATIO  BUS_RATIO   OTH_RATIO  TOT_RATIO \n",
       "1 0 1001020100 36067 1.00000000 1.000000000 1.00000000 1.00000000\n",
       "2 1 1001020200 36067 0.41019956 0.425174825 0.94736842 0.42054521\n",
       "3 2 1001020200 36008 0.01197339 0.005594406 0.00000000 0.01030585\n",
       "4 3 1001020200 36068 0.57782705 0.569230769 0.05263158 0.56914894\n",
       "5 4 1001020300 36067 1.00000000 1.000000000 1.00000000 1.00000000\n",
       "6 5 1001020400 36067 0.02552960 0.589743590 0.25000000 0.07103825"
      ]
     },
     "metadata": {},
     "output_type": "display_data"
    },
    {
     "data": {
      "text/html": [
       "'Tracts in TRACTS_TO_ZIP file: 73463'"
      ],
      "text/latex": [
       "'Tracts in TRACTS\\_TO\\_ZIP file: 73463'"
      ],
      "text/markdown": [
       "'Tracts in TRACTS_TO_ZIP file: 73463'"
      ],
      "text/plain": [
       "[1] \"Tracts in TRACTS_TO_ZIP file: 73463\""
      ]
     },
     "metadata": {},
     "output_type": "display_data"
    },
    {
     "data": {
      "text/html": [
       "'Tracts in Florida Calculated Sinkholes (HU&gt;0): 2976'"
      ],
      "text/latex": [
       "'Tracts in Florida Calculated Sinkholes (HU>0): 2976'"
      ],
      "text/markdown": [
       "'Tracts in Florida Calculated Sinkholes (HU&gt;0): 2976'"
      ],
      "text/plain": [
       "[1] \"Tracts in Florida Calculated Sinkholes (HU>0): 2976\""
      ]
     },
     "metadata": {},
     "output_type": "display_data"
    },
    {
     "data": {
      "text/html": [
       "'Florida Tracts (HU&gt;0) joined with zips: 648985'"
      ],
      "text/latex": [
       "'Florida Tracts (HU>0) joined with zips: 648985'"
      ],
      "text/markdown": [
       "'Florida Tracts (HU&gt;0) joined with zips: 648985'"
      ],
      "text/plain": [
       "[1] \"Florida Tracts (HU>0) joined with zips: 648985\""
      ]
     },
     "metadata": {},
     "output_type": "display_data"
    },
    {
     "data": {
      "text/html": [
       "'Unique Zips in join: 1389'"
      ],
      "text/latex": [
       "'Unique Zips in join: 1389'"
      ],
      "text/markdown": [
       "'Unique Zips in join: 1389'"
      ],
      "text/plain": [
       "[1] \"Unique Zips in join: 1389\""
      ]
     },
     "metadata": {},
     "output_type": "display_data"
    },
    {
     "data": {
      "text/html": [
       "'Calculated sinkholes nrows: 304910'"
      ],
      "text/latex": [
       "'Calculated sinkholes nrows: 304910'"
      ],
      "text/markdown": [
       "'Calculated sinkholes nrows: 304910'"
      ],
      "text/plain": [
       "[1] \"Calculated sinkholes nrows: 304910\""
      ]
     },
     "metadata": {},
     "output_type": "display_data"
    },
    {
     "data": {
      "text/html": [
       "'Merged Sinkholes File nrow: 648985'"
      ],
      "text/latex": [
       "'Merged Sinkholes File nrow: 648985'"
      ],
      "text/markdown": [
       "'Merged Sinkholes File nrow: 648985'"
      ],
      "text/plain": [
       "[1] \"Merged Sinkholes File nrow: 648985\""
      ]
     },
     "metadata": {},
     "output_type": "display_data"
    },
    {
     "name": "stdout",
     "output_type": "stream",
     "text": [
      "[1] \"Note: there are more zips than tracts which is why the count has expanded so rapidly.  We will deal with that below in the max risk function\"\n"
     ]
    }
   ],
   "source": [
    "# read old centroid with calculations in\n",
    "calculated_sinkholes <- read.csv(\"state_blocks_num_sinkholes_output_bak.csv\")\n",
    "head(calculated_sinkholes)\n",
    "\n",
    "# have to join tracts to zips \n",
    "# Obtained data here: https://www.huduser.gov/portal/datasets/usps_crosswalk.html\n",
    "tract_to_csv <- read.csv(\"TRACT_ZIP_062016.csv\")\n",
    "head(tract_to_csv)\n",
    "\n",
    "sprintf(\"Tracts in TRACTS_TO_ZIP file: %s\", length(unique(tract_to_csv$TRACT)))\n",
    "sprintf(\"Tracts in Florida Calculated Sinkholes (HU>0): %s\", length(unique(calculated_sinkholes$TRACTCE10)))\n",
    "\n",
    "calculated_sinkholes$state_county_tract <- substr(calculated_sinkholes$geoid, 1, 11)\n",
    "tracts_with_zips <- merge(x = calculated_sinkholes, y = tract_to_csv, \n",
    "                          by.x = \"state_county_tract\", by.y='TRACT', \n",
    "                          all.x = TRUE)\n",
    "sprintf(\"Florida Tracts (HU>0) joined with zips: %s\", nrow(tracts_with_zips))\n",
    "sprintf(\"Unique Zips in join: %s\", length(unique(tracts_with_zips$ZIP)))\n",
    "\n",
    "sprintf(\"Calculated sinkholes nrows: %s\", nrow(calculated_sinkholes))\n",
    "sprintf(\"Merged Sinkholes File nrow: %s\", nrow(tracts_with_zips))\n",
    "\n",
    "print(\"Note: there are more zips than tracts which is why the count has expanded so rapidly.  We will deal with that below in the max risk function\")"
   ]
  },
  {
   "cell_type": "code",
   "execution_count": 33,
   "metadata": {
    "collapsed": false
   },
   "outputs": [],
   "source": [
    "# For zips that didn't merge correctly we need to find the closest zip and join with that\n",
    "#tracts_without_zips <- tracts_with_zips[is.na(tracts_with_zips$ZIP),]\n",
    "#tracts_with_zips <- tracts_with_zips[!is.na(tracts_with_zips$ZIP),]\n",
    "#tracts_without_zips\n",
    "#nrow(tracts_with_zips)\n",
    "\n",
    "# These zips are necessary as they represent all the tracts that weren't covered by the above merge but are necessary as the model was trained with that column\n",
    "# although these territories aren't associated with zips we pick (via brute force Google map geocoding) the closest zip code by eyeball\n",
    "tracts_with_zips[tracts_with_zips$idx==29876,]['ZIP'] <- '33071' # Everglades\n",
    "tracts_with_zips[tracts_with_zips$idx==157121,]['ZIP'] <- '33033' # Islandia, FL \"Ragged Keys\"\n",
    "tracts_with_zips[tracts_with_zips$idx==165352,]['ZIP'] <- '33033' # Islandia, FL \"Eliot Key\"\n",
    "tracts_with_zips[tracts_with_zips$idx==185410,]['ZIP'] <- '33040' # Dry Tortuga National Park Ft Jackson Key \n",
    "tracts_with_zips[tracts_with_zips$idx==184739,]['ZIP'] <- '33040' # Dry Tortuga National Park Ft Jackson Key \n",
    "tracts_with_zips[tracts_with_zips$idx==221804,]['ZIP'] <- '33403' # Weird area near Palm Beach Gardens\n",
    "tracts_with_zips[tracts_with_zips$idx==212373,]['ZIP'] <- '33478' # Loxahatchee Slough Natural Area\n",
    "tracts_with_zips[tracts_with_zips$idx==257806,]['ZIP'] <- '34759' # Poinciana Park (lots of lakes)\n",
    "\n",
    "# Create tree for searching\n",
    "#tracts_with_zips_lon_lat <- as.data.frame(tracts_with_zips[,c('INTPTLON10', 'INTPTLAT10')])\n",
    "#tract_zips_latlon_tree <- createTree(tracts_with_zips_lon_lat, maxDepth=50)\n",
    "\n",
    "#tracts_within_13_miles <- function(long_lat_pt) {\n",
    "#    # returns the incidents within ~13 miles of long_lat_pt.  All calculations in lat/long or lat/long approximations\n",
    "#    xmin_max <- c(long_lat_pt[1] - 0.2, long_lat_pt[1] + 0.2)\n",
    "#    ymin_max <- c(long_lat_pt[2] - 0.2, long_lat_pt[2] + 0.2)\n",
    "#    thirteen_mile_rect <- rectLookup(tract_zips_latlon_tree, xlims=xmin_max, ylims=ymin_max)\n",
    "#    return(slice(tracts_with_zips, thirteen_mile_rect))\n",
    "#}\n",
    "\n",
    "# Return zip with min geoDist between our tracts without zips and tracts_with_zips\n",
    "#zip_of_min_geodist <- function(row) {\n",
    "#    row_lat <- row['INTPTLAT10']\n",
    "#    row_lon <- row['INTPTLON10']\n",
    "#    slice_of_close_tracts <- tracts_within_13_miles(as.data.frame(c(row_lon, row_lat)))\n",
    "#    geodist_row <- function(row) {\n",
    "#        return(distGeo(c(row_lon, row_lat), c(row['INTPTLON10'], row['INTPTLAT10'])))\n",
    "#    }\n",
    "    # calculates distances to all tracts\n",
    "#    tracts_with_zips$distances <- apply(slice_of_close_tracts, 1, geodist_row)\n",
    "    # returns zip of tiniest distance\n",
    "#    print(with(tracts_with_zips, ZIP[distances == min(distances)]))\n",
    "#}\n",
    "#apply(tracts_without_zips[1], 1, zip_of_min_geodist)\n"
   ]
  },
  {
   "cell_type": "code",
   "execution_count": 42,
   "metadata": {
    "collapsed": false
   },
   "outputs": [
    {
     "name": "stdout",
     "output_type": "stream",
     "text": [
      "Loading objects:\n",
      "  fit_RF_train_reg_125\n",
      "  fit_RF_train_reg_250\n",
      "  fit_RF_train_reg_500\n",
      "  fit_RF_train_reg_1000\n"
     ]
    }
   ],
   "source": [
    "# Loading our best models created via \"Sample For Risknet.r\"\n",
    "load(file = \"predicted_sinkhole_models.bin\", verbose=TRUE)"
   ]
  },
  {
   "cell_type": "code",
   "execution_count": 43,
   "metadata": {
    "collapsed": false
   },
   "outputs": [],
   "source": [
    "# We rename columns to match our prediction column names, not sure if this is necessary but doing it just in case\n",
    "X_df <- tracts_with_zips[c('ZIP', 'INTPTLAT10', 'INTPTLON10', 'num_sinkholes_within_75', 'num_sinkholes_within_mile')]\n",
    "prediction_columns <- c('PropertyZip', 'PropertyLatitude', 'PropertyLongitude', \n",
    "                        'num_sinkholes_within_75', 'num_sinkholes_within_mile')\n",
    "names(X_df) <- prediction_columns\n",
    "# our new predictions for the various thresholds\n",
    "num_sinkholes_125_yhat <- predict(fit_RF_train_reg_125, X_df)\n",
    "num_sinkholes_250_yhat <- predict(fit_RF_train_reg_250, X_df)\n",
    "num_sinkholes_500_yhat <- predict(fit_RF_train_reg_500, X_df)\n",
    "num_sinkholes_1000_yhat <- predict(fit_RF_train_reg_1000, X_df)"
   ]
  },
  {
   "cell_type": "code",
   "execution_count": 44,
   "metadata": {
    "collapsed": true
   },
   "outputs": [],
   "source": [
    "#recombine into one new big giant df\n",
    "new_tracts_with_zips_predicted <- cbind(tracts_with_zips, \n",
    "                                        num_sinkholes_125_yhat, num_sinkholes_250_yhat, \n",
    "                                        num_sinkholes_500_yhat, num_sinkholes_1000_yhat)"
   ]
  },
  {
   "cell_type": "code",
   "execution_count": 45,
   "metadata": {
    "collapsed": false
   },
   "outputs": [],
   "source": [
    "sinkhole_predicted_cols <- c('num_sinkholes_125_yhat', 'num_sinkholes_250_yhat', \n",
    "                             'num_sinkholes_500_yhat', 'num_sinkholes_1000_yhat')\n",
    "lookup_probability <- function(row) {\n",
    "    max_probability <- 0.000016\n",
    "    for(index in 1:(length(row)-1)) { # we subtract 1 for idx column\n",
    "        threshold <- sinkhole_predicted_cols[index]\n",
    "        num_of_sinkholes_at_threshold <- new_tracts_with_zips_predicted[row['idx'], threshold] + 1 # because indexing begins at 1 in R\n",
    "        sinkholes_idx <- ifelse(num_of_sinkholes_at_threshold > 10, 10, num_of_sinkholes_at_threshold)\n",
    "        prob <- sinkhole_probabilities[sinkholes_idx, index]\n",
    "        max_probability <- ifelse(max_probability < prob, prob, max_probability)\n",
    "    }\n",
    "    return(max_probability)\n",
    "}\n",
    "new_tracts_with_zips_predicted$idx <- 1:nrow(new_tracts_with_zips_predicted)\n",
    "probabilities <- apply(new_tracts_with_zips_predicted[c(sinkhole_predicted_cols, 'idx')], 1, lookup_probability)"
   ]
  },
  {
   "cell_type": "code",
   "execution_count": 46,
   "metadata": {
    "collapsed": false
   },
   "outputs": [],
   "source": [
    "new_tracts_with_zips_predicted_prob <- cbind(new_tracts_with_zips_predicted, probabilities)\n",
    "write.table(new_tracts_with_zips_predicted_prob, file='new_tracts_with_zips_predicted_prob.csv', sep=',')"
   ]
  },
  {
   "cell_type": "code",
   "execution_count": 115,
   "metadata": {
    "collapsed": false
   },
   "outputs": [
    {
     "data": {
      "text/html": [
       "<table>\n",
       "<thead><tr><th scope=col>STATEFP10</th><th scope=col>COUNTYFP10</th><th scope=col>TRACTCE10</th><th scope=col>BLOCKCE10</th><th scope=col>INTPTLAT10</th><th scope=col>INTPTLON10</th><th scope=col>HU10</th><th scope=col>geoid</th><th scope=col>num_sinkholes_within_mile</th><th scope=col>num_sinkholes_within_75</th><th scope=col>num_sinkholes_within_5</th><th scope=col>num_sinkholes_within_25</th><th scope=col>num_sinkholes_within_125</th><th scope=col>num_sinkholes_1000_yhat</th><th scope=col>num_sinkholes_500_yhat</th><th scope=col>num_sinkholes_250_yhat</th><th scope=col>num_sinkholes_125_yhat</th><th scope=col>probabilities</th></tr></thead>\n",
       "<tbody>\n",
       "\t<tr><td>12                 </td><td> 77                </td><td>950100             </td><td>2174               </td><td>30.26624           </td><td>-84.74247          </td><td>34                 </td><td>120779501002174    </td><td>0                  </td><td>0                  </td><td>0                  </td><td>0                  </td><td>0                  </td><td>0.197911921645538  </td><td>0.0880912733477405 </td><td>0.0353168106342222 </td><td>0.00586195900608518</td><td>1.6e-05            </td></tr>\n",
       "\t<tr><td>12                 </td><td> 77                </td><td>950100             </td><td>2180               </td><td>30.26727           </td><td>-84.75843          </td><td> 1                 </td><td>120779501002180    </td><td>0                  </td><td>0                  </td><td>0                  </td><td>0                  </td><td>0                  </td><td>0.197911921645538  </td><td>0.0880912733477405 </td><td>0.0353168106342222 </td><td>0.00586195900608518</td><td>1.6e-05            </td></tr>\n",
       "\t<tr><td>12                 </td><td>129                </td><td> 10100             </td><td>1028               </td><td>30.27061           </td><td>-84.70576          </td><td> 5                 </td><td>121290101001028    </td><td>0                  </td><td>0                  </td><td>0                  </td><td>0                  </td><td>0                  </td><td>0.197911921645538  </td><td>0.0900912733477405 </td><td>0.0353168106342222 </td><td>0.00586195900608518</td><td>1.6e-05            </td></tr>\n",
       "\t<tr><td>12                 </td><td> 77                </td><td>950100             </td><td>2189               </td><td>30.23826           </td><td>-84.71542          </td><td> 3                 </td><td>120779501002189    </td><td>0                  </td><td>0                  </td><td>0                  </td><td>0                  </td><td>0                  </td><td>0.18814116134604   </td><td>0.0874691365983197 </td><td>0.0353554980419085 </td><td>0.00586195900608518</td><td>1.6e-05            </td></tr>\n",
       "\t<tr><td>12                 </td><td> 77                </td><td>950100             </td><td>2447               </td><td>30.22898           </td><td>-84.72236          </td><td> 1                 </td><td>120779501002447    </td><td>0                  </td><td>0                  </td><td>0                  </td><td>0                  </td><td>0                  </td><td>0.18814116134604   </td><td>0.0874691365983197 </td><td>0.0353554980419085 </td><td>0.00586195900608518</td><td>1.6e-05            </td></tr>\n",
       "\t<tr><td>12                 </td><td>129                </td><td> 10100             </td><td>1018               </td><td>30.22969           </td><td>-84.68637          </td><td>41                 </td><td>121290101001018    </td><td>0                  </td><td>0                  </td><td>0                  </td><td>0                  </td><td>0                  </td><td>0.18814116134604   </td><td>0.0874691365983197 </td><td>0.0353554980419085 </td><td>0.00586195900608518</td><td>1.6e-05            </td></tr>\n",
       "</tbody>\n",
       "</table>\n"
      ],
      "text/latex": [
       "\\begin{tabular}{r|llllllllllllllllll}\n",
       " STATEFP10 & COUNTYFP10 & TRACTCE10 & BLOCKCE10 & INTPTLAT10 & INTPTLON10 & HU10 & geoid & num\\_sinkholes\\_within\\_mile & num\\_sinkholes\\_within\\_75 & num\\_sinkholes\\_within\\_5 & num\\_sinkholes\\_within\\_25 & num\\_sinkholes\\_within\\_125 & num\\_sinkholes\\_1000\\_yhat & num\\_sinkholes\\_500\\_yhat & num\\_sinkholes\\_250\\_yhat & num\\_sinkholes\\_125\\_yhat & probabilities\\\\\n",
       "\\hline\n",
       "\t 12                  &  77                 & 950100              & 2174                & 30.26624            & -84.74247           & 34                  & 120779501002174     & 0                   & 0                   & 0                   & 0                   & 0                   & 0.197911921645538   & 0.0880912733477405  & 0.0353168106342222  & 0.00586195900608518 & 1.6e-05            \\\\\n",
       "\t 12                  &  77                 & 950100              & 2180                & 30.26727            & -84.75843           &  1                  & 120779501002180     & 0                   & 0                   & 0                   & 0                   & 0                   & 0.197911921645538   & 0.0880912733477405  & 0.0353168106342222  & 0.00586195900608518 & 1.6e-05            \\\\\n",
       "\t 12                  & 129                 &  10100              & 1028                & 30.27061            & -84.70576           &  5                  & 121290101001028     & 0                   & 0                   & 0                   & 0                   & 0                   & 0.197911921645538   & 0.0900912733477405  & 0.0353168106342222  & 0.00586195900608518 & 1.6e-05            \\\\\n",
       "\t 12                  &  77                 & 950100              & 2189                & 30.23826            & -84.71542           &  3                  & 120779501002189     & 0                   & 0                   & 0                   & 0                   & 0                   & 0.18814116134604    & 0.0874691365983197  & 0.0353554980419085  & 0.00586195900608518 & 1.6e-05            \\\\\n",
       "\t 12                  &  77                 & 950100              & 2447                & 30.22898            & -84.72236           &  1                  & 120779501002447     & 0                   & 0                   & 0                   & 0                   & 0                   & 0.18814116134604    & 0.0874691365983197  & 0.0353554980419085  & 0.00586195900608518 & 1.6e-05            \\\\\n",
       "\t 12                  & 129                 &  10100              & 1018                & 30.22969            & -84.68637           & 41                  & 121290101001018     & 0                   & 0                   & 0                   & 0                   & 0                   & 0.18814116134604    & 0.0874691365983197  & 0.0353554980419085  & 0.00586195900608518 & 1.6e-05            \\\\\n",
       "\\end{tabular}\n"
      ],
      "text/plain": [
       "  STATEFP10 COUNTYFP10 TRACTCE10 BLOCKCE10 INTPTLAT10 INTPTLON10 HU10\n",
       "1 12         77        950100    2174      30.26624   -84.74247  34  \n",
       "2 12         77        950100    2180      30.26727   -84.75843   1  \n",
       "3 12        129         10100    1028      30.27061   -84.70576   5  \n",
       "4 12         77        950100    2189      30.23826   -84.71542   3  \n",
       "5 12         77        950100    2447      30.22898   -84.72236   1  \n",
       "6 12        129         10100    1018      30.22969   -84.68637  41  \n",
       "  geoid           num_sinkholes_within_mile num_sinkholes_within_75\n",
       "1 120779501002174 0                         0                      \n",
       "2 120779501002180 0                         0                      \n",
       "3 121290101001028 0                         0                      \n",
       "4 120779501002189 0                         0                      \n",
       "5 120779501002447 0                         0                      \n",
       "6 121290101001018 0                         0                      \n",
       "  num_sinkholes_within_5 num_sinkholes_within_25 num_sinkholes_within_125\n",
       "1 0                      0                       0                       \n",
       "2 0                      0                       0                       \n",
       "3 0                      0                       0                       \n",
       "4 0                      0                       0                       \n",
       "5 0                      0                       0                       \n",
       "6 0                      0                       0                       \n",
       "  num_sinkholes_1000_yhat num_sinkholes_500_yhat num_sinkholes_250_yhat\n",
       "1 0.197911921645538       0.0880912733477405     0.0353168106342222    \n",
       "2 0.197911921645538       0.0880912733477405     0.0353168106342222    \n",
       "3 0.197911921645538       0.0900912733477405     0.0353168106342222    \n",
       "4 0.18814116134604        0.0874691365983197     0.0353554980419085    \n",
       "5 0.18814116134604        0.0874691365983197     0.0353554980419085    \n",
       "6 0.18814116134604        0.0874691365983197     0.0353554980419085    \n",
       "  num_sinkholes_125_yhat probabilities\n",
       "1 0.00586195900608518    1.6e-05      \n",
       "2 0.00586195900608518    1.6e-05      \n",
       "3 0.00586195900608518    1.6e-05      \n",
       "4 0.00586195900608518    1.6e-05      \n",
       "5 0.00586195900608518    1.6e-05      \n",
       "6 0.00586195900608518    1.6e-05      "
      ]
     },
     "metadata": {},
     "output_type": "display_data"
    },
    {
     "data": {
      "text/html": [
       "589799"
      ],
      "text/latex": [
       "589799"
      ],
      "text/markdown": [
       "589799"
      ],
      "text/plain": [
       "[1] 589799"
      ]
     },
     "metadata": {},
     "output_type": "display_data"
    },
    {
     "data": {
      "text/html": [
       "304910"
      ],
      "text/latex": [
       "304910"
      ],
      "text/markdown": [
       "304910"
      ],
      "text/plain": [
       "[1] 304910"
      ]
     },
     "metadata": {},
     "output_type": "display_data"
    }
   ],
   "source": [
    "# remove un-needed columns from final result\n",
    "cols_in_final_df <- names(new_tracts_with_zips_predicted_prob)\n",
    "drops <- c('state_county_tract', 'X.x', 'idx', 'X.y', 'ZIP', 'RES_RATIO', 'BUS_RATIO', 'OTH_RATIO', 'TOT_RATIO')\n",
    "names_not_in_drops <- !(cols_in_final_df %in% drops)\n",
    "new_tracts_with_zips_predicted_prob <- new_tracts_with_zips_predicted_prob[,names_not_in_drops]\n",
    "new_tracts_with_zips_predicted_prob$geoid <- as.character(new_tracts_with_zips_predicted_prob$geoid)\n",
    "\n",
    "# group by max(prob) per tract (tracts can have multiple zip codes)\n",
    "# Note: we're going to use all the columns except for the probabilities which we'll take the max as risk\n",
    "cols_in_final_df <- names(new_tracts_with_zips_predicted_prob)\n",
    "all_cols_except_prob_vec <- !(cols_in_final_df %in% c('probabilities'))\n",
    "all_cols_except_prob <- cols_in_final_df[all_cols_except_prob_vec]\n",
    "\n",
    "foo <- new_tracts_with_zips_predicted_prob[,c('STATEFP10', 'COUNTYFP10', 'TRACTCE10', 'BLOCKCE10', \n",
    "                                              'INTPTLAT10', 'INTPTLON10', 'HU10', 'geoid', 'num_sinkholes_within_mile',\n",
    "                                              'num_sinkholes_within_75', 'num_sinkholes_within_5', \n",
    "                                              'num_sinkholes_within_25', 'num_sinkholes_within_125', \n",
    "                                              'num_sinkholes_1000_yhat', 'num_sinkholes_500_yhat',\n",
    "                                              'num_sinkholes_250_yhat', 'num_sinkholes_125_yhat', 'probabilities')]\n",
    "\n",
    "foo$num_sinkholes_1000_yhat <- as.character(foo$num_sinkholes_1000_yhat)\n",
    "foo$num_sinkholes_500_yhat <- as.character(foo$num_sinkholes_500_yhat)\n",
    "foo$num_sinkholes_250_yhat <- as.character(foo$num_sinkholes_250_yhat)\n",
    "foo$num_sinkholes_125_yhat <- as.character(foo$num_sinkholes_125_yhat)\n",
    "\n",
    "#new_tracts_with_zips_predicted_prob_dt <- data.table(new_tracts_with_zips_predicted_prob)\n",
    "#new_tracts_with_zips_predicted_prob_dt[, probability=max(probabilities), by=list(all_cols_except_prob)]\n",
    "agg <- aggregate(probabilities ~ ., data=foo, FUN=max)\n",
    "head(agg)\n",
    "nrow(agg)\n",
    "#agg\n",
    "nrow(state_blocks)\n",
    "\n",
    "# to get relative probability of sinkhole occurring\n",
    "agg$relative_probability <- agg$probabilities / 0.000016\n",
    "\n",
    "# write out file for final result\n",
    "write.csv(agg, file=\"final_output_risk_per_block.csv\")"
   ]
  },
  {
   "cell_type": "code",
   "execution_count": null,
   "metadata": {
    "collapsed": true
   },
   "outputs": [],
   "source": []
  }
 ],
 "metadata": {
  "kernelspec": {
   "display_name": "R",
   "language": "R",
   "name": "ir"
  },
  "language_info": {
   "codemirror_mode": "r",
   "file_extension": ".r",
   "mimetype": "text/x-r-source",
   "name": "R",
   "pygments_lexer": "r",
   "version": "3.3.1"
  }
 },
 "nbformat": 4,
 "nbformat_minor": 0
}
