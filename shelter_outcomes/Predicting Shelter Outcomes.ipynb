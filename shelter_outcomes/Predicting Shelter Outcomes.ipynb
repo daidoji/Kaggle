{
 "cells": [
  {
   "cell_type": "code",
   "execution_count": 2,
   "metadata": {
    "collapsed": false
   },
   "outputs": [],
   "source": [
    "library(stringr)"
   ]
  },
  {
   "cell_type": "code",
   "execution_count": 3,
   "metadata": {
    "collapsed": false
   },
   "outputs": [],
   "source": [
    "train_df <- read.csv(gzfile(\"train.csv.gz\"), as.is=TRUE)\n",
    "test_df <- read.csv(gzfile(\"test.csv.gz\"), as.is=TRUE)"
   ]
  },
  {
   "cell_type": "code",
   "execution_count": 4,
   "metadata": {
    "collapsed": false
   },
   "outputs": [
    {
     "data": {
      "text/html": [
       "<table>\n",
       "<thead><tr><th></th><th scope=col>AnimalID</th><th scope=col>Name</th><th scope=col>DateTime</th><th scope=col>OutcomeType</th><th scope=col>OutcomeSubtype</th><th scope=col>AnimalType</th><th scope=col>SexuponOutcome</th><th scope=col>AgeuponOutcome</th><th scope=col>Breed</th><th scope=col>Color</th></tr></thead>\n",
       "<tbody>\n",
       "\t<tr><th scope=row>1</th><td>A671945</td><td>Hambone</td><td>2014-02-12 18:22:00</td><td>Return_to_owner</td><td></td><td>Dog</td><td>Neutered Male</td><td>1 year</td><td>Shetland Sheepdog Mix</td><td>Brown/White</td></tr>\n",
       "\t<tr><th scope=row>2</th><td>A656520</td><td>Emily</td><td>2013-10-13 12:44:00</td><td>Euthanasia</td><td>Suffering</td><td>Cat</td><td>Spayed Female</td><td>1 year</td><td>Domestic Shorthair Mix</td><td>Cream Tabby</td></tr>\n",
       "\t<tr><th scope=row>3</th><td>A686464</td><td>Pearce</td><td>2015-01-31 12:28:00</td><td>Adoption</td><td>Foster</td><td>Dog</td><td>Neutered Male</td><td>2 years</td><td>Pit Bull Mix</td><td>Blue/White</td></tr>\n",
       "\t<tr><th scope=row>4</th><td>A683430</td><td></td><td>2014-07-11 19:09:00</td><td>Transfer</td><td>Partner</td><td>Cat</td><td>Intact Male</td><td>3 weeks</td><td>Domestic Shorthair Mix</td><td>Blue Cream</td></tr>\n",
       "\t<tr><th scope=row>5</th><td>A667013</td><td></td><td>2013-11-15 12:52:00</td><td>Transfer</td><td>Partner</td><td>Dog</td><td>Neutered Male</td><td>2 years</td><td>Lhasa Apso/Miniature Poodle</td><td>Tan</td></tr>\n",
       "\t<tr><th scope=row>6</th><td>A677334</td><td>Elsa</td><td>2014-04-25 13:04:00</td><td>Transfer</td><td>Partner</td><td>Dog</td><td>Intact Female</td><td>1 month</td><td>Cairn Terrier/Chihuahua Shorthair</td><td>Black/Tan</td></tr>\n",
       "</tbody>\n",
       "</table>\n"
      ],
      "text/latex": [
       "\\begin{tabular}{r|llllllllll}\n",
       "  & AnimalID & Name & DateTime & OutcomeType & OutcomeSubtype & AnimalType & SexuponOutcome & AgeuponOutcome & Breed & Color\\\\\n",
       "\\hline\n",
       "\t1 & A671945 & Hambone & 2014-02-12 18:22:00 & Return_to_owner &  & Dog & Neutered Male & 1 year & Shetland Sheepdog Mix & Brown/White\\\\\n",
       "\t2 & A656520 & Emily & 2013-10-13 12:44:00 & Euthanasia & Suffering & Cat & Spayed Female & 1 year & Domestic Shorthair Mix & Cream Tabby\\\\\n",
       "\t3 & A686464 & Pearce & 2015-01-31 12:28:00 & Adoption & Foster & Dog & Neutered Male & 2 years & Pit Bull Mix & Blue/White\\\\\n",
       "\t4 & A683430 &  & 2014-07-11 19:09:00 & Transfer & Partner & Cat & Intact Male & 3 weeks & Domestic Shorthair Mix & Blue Cream\\\\\n",
       "\t5 & A667013 &  & 2013-11-15 12:52:00 & Transfer & Partner & Dog & Neutered Male & 2 years & Lhasa Apso/Miniature Poodle & Tan\\\\\n",
       "\t6 & A677334 & Elsa & 2014-04-25 13:04:00 & Transfer & Partner & Dog & Intact Female & 1 month & Cairn Terrier/Chihuahua Shorthair & Black/Tan\\\\\n",
       "\\end{tabular}\n"
      ],
      "text/plain": [
       "  AnimalID    Name            DateTime     OutcomeType OutcomeSubtype\n",
       "1  A671945 Hambone 2014-02-12 18:22:00 Return_to_owner               \n",
       "2  A656520   Emily 2013-10-13 12:44:00      Euthanasia      Suffering\n",
       "3  A686464  Pearce 2015-01-31 12:28:00        Adoption         Foster\n",
       "4  A683430         2014-07-11 19:09:00        Transfer        Partner\n",
       "5  A667013         2013-11-15 12:52:00        Transfer        Partner\n",
       "6  A677334    Elsa 2014-04-25 13:04:00        Transfer        Partner\n",
       "  AnimalType SexuponOutcome AgeuponOutcome                             Breed\n",
       "1        Dog  Neutered Male         1 year             Shetland Sheepdog Mix\n",
       "2        Cat  Spayed Female         1 year            Domestic Shorthair Mix\n",
       "3        Dog  Neutered Male        2 years                      Pit Bull Mix\n",
       "4        Cat    Intact Male        3 weeks            Domestic Shorthair Mix\n",
       "5        Dog  Neutered Male        2 years       Lhasa Apso/Miniature Poodle\n",
       "6        Dog  Intact Female        1 month Cairn Terrier/Chihuahua Shorthair\n",
       "        Color\n",
       "1 Brown/White\n",
       "2 Cream Tabby\n",
       "3  Blue/White\n",
       "4  Blue Cream\n",
       "5         Tan\n",
       "6   Black/Tan"
      ]
     },
     "execution_count": 4,
     "metadata": {},
     "output_type": "execute_result"
    }
   ],
   "source": [
    "head(train_df)"
   ]
  },
  {
   "cell_type": "code",
   "execution_count": 5,
   "metadata": {
    "collapsed": false
   },
   "outputs": [
    {
     "data": {
      "text/html": [
       "<table>\n",
       "<thead><tr><th></th><th scope=col>ID</th><th scope=col>Name</th><th scope=col>DateTime</th><th scope=col>AnimalType</th><th scope=col>SexuponOutcome</th><th scope=col>AgeuponOutcome</th><th scope=col>Breed</th><th scope=col>Color</th></tr></thead>\n",
       "<tbody>\n",
       "\t<tr><th scope=row>1</th><td>1</td><td>Summer</td><td>2015-10-12 12:15:00</td><td>Dog</td><td>Intact Female</td><td>10 months</td><td>Labrador Retriever Mix</td><td>Red/White</td></tr>\n",
       "\t<tr><th scope=row>2</th><td>2</td><td>Cheyenne</td><td>2014-07-26 17:59:00</td><td>Dog</td><td>Spayed Female</td><td>2 years</td><td>German Shepherd/Siberian Husky</td><td>Black/Tan</td></tr>\n",
       "\t<tr><th scope=row>3</th><td>3</td><td>Gus</td><td>2016-01-13 12:20:00</td><td>Cat</td><td>Neutered Male</td><td>1 year</td><td>Domestic Shorthair Mix</td><td>Brown Tabby</td></tr>\n",
       "\t<tr><th scope=row>4</th><td>4</td><td>Pongo</td><td>2013-12-28 18:12:00</td><td>Dog</td><td>Intact Male</td><td>4 months</td><td>Collie Smooth Mix</td><td>Tricolor</td></tr>\n",
       "\t<tr><th scope=row>5</th><td>5</td><td>Skooter</td><td>2015-09-24 17:59:00</td><td>Dog</td><td>Neutered Male</td><td>2 years</td><td>Miniature Poodle Mix</td><td>White</td></tr>\n",
       "\t<tr><th scope=row>6</th><td>6</td><td>Beau</td><td>2015-06-23 11:17:00</td><td>Dog</td><td>Neutered Male</td><td>3 years</td><td>Beagle Mix</td><td>Brown/White</td></tr>\n",
       "</tbody>\n",
       "</table>\n"
      ],
      "text/latex": [
       "\\begin{tabular}{r|llllllll}\n",
       "  & ID & Name & DateTime & AnimalType & SexuponOutcome & AgeuponOutcome & Breed & Color\\\\\n",
       "\\hline\n",
       "\t1 & 1 & Summer & 2015-10-12 12:15:00 & Dog & Intact Female & 10 months & Labrador Retriever Mix & Red/White\\\\\n",
       "\t2 & 2 & Cheyenne & 2014-07-26 17:59:00 & Dog & Spayed Female & 2 years & German Shepherd/Siberian Husky & Black/Tan\\\\\n",
       "\t3 & 3 & Gus & 2016-01-13 12:20:00 & Cat & Neutered Male & 1 year & Domestic Shorthair Mix & Brown Tabby\\\\\n",
       "\t4 & 4 & Pongo & 2013-12-28 18:12:00 & Dog & Intact Male & 4 months & Collie Smooth Mix & Tricolor\\\\\n",
       "\t5 & 5 & Skooter & 2015-09-24 17:59:00 & Dog & Neutered Male & 2 years & Miniature Poodle Mix & White\\\\\n",
       "\t6 & 6 & Beau & 2015-06-23 11:17:00 & Dog & Neutered Male & 3 years & Beagle Mix & Brown/White\\\\\n",
       "\\end{tabular}\n"
      ],
      "text/plain": [
       "  ID     Name            DateTime AnimalType SexuponOutcome AgeuponOutcome\n",
       "1  1   Summer 2015-10-12 12:15:00        Dog  Intact Female      10 months\n",
       "2  2 Cheyenne 2014-07-26 17:59:00        Dog  Spayed Female        2 years\n",
       "3  3      Gus 2016-01-13 12:20:00        Cat  Neutered Male         1 year\n",
       "4  4    Pongo 2013-12-28 18:12:00        Dog    Intact Male       4 months\n",
       "5  5  Skooter 2015-09-24 17:59:00        Dog  Neutered Male        2 years\n",
       "6  6     Beau 2015-06-23 11:17:00        Dog  Neutered Male        3 years\n",
       "                           Breed       Color\n",
       "1         Labrador Retriever Mix   Red/White\n",
       "2 German Shepherd/Siberian Husky   Black/Tan\n",
       "3         Domestic Shorthair Mix Brown Tabby\n",
       "4              Collie Smooth Mix    Tricolor\n",
       "5           Miniature Poodle Mix       White\n",
       "6                     Beagle Mix Brown/White"
      ]
     },
     "execution_count": 5,
     "metadata": {},
     "output_type": "execute_result"
    }
   ],
   "source": [
    "head(test_df)"
   ]
  },
  {
   "cell_type": "code",
   "execution_count": 6,
   "metadata": {
    "collapsed": false
   },
   "outputs": [
    {
     "data": {
      "text/html": [
       "26729"
      ],
      "text/latex": [
       "26729"
      ],
      "text/markdown": [
       "26729"
      ],
      "text/plain": [
       "[1] 26729"
      ]
     },
     "execution_count": 6,
     "metadata": {},
     "output_type": "execute_result"
    },
    {
     "data": {
      "text/html": [
       "26729"
      ],
      "text/latex": [
       "26729"
      ],
      "text/markdown": [
       "26729"
      ],
      "text/plain": [
       "[1] 26729"
      ]
     },
     "execution_count": 6,
     "metadata": {},
     "output_type": "execute_result"
    }
   ],
   "source": [
    "length(unique(train_df$AnimalID))\n",
    "nrow(train_df)"
   ]
  },
  {
   "cell_type": "code",
   "execution_count": 7,
   "metadata": {
    "collapsed": false
   },
   "outputs": [
    {
     "data": {
      "text/plain": [
       "\n",
       " Cat  Dog \n",
       "4800 6656 "
      ]
     },
     "execution_count": 7,
     "metadata": {},
     "output_type": "execute_result"
    }
   ],
   "source": [
    "table(test_df$AnimalType)"
   ]
  },
  {
   "cell_type": "code",
   "execution_count": 8,
   "metadata": {
    "collapsed": false
   },
   "outputs": [
    {
     "data": {
      "text/plain": [
       "\n",
       "Intact Female   Intact Male Neutered Male Spayed Female       Unknown \n",
       "         1493          1460          4235          3813           455 "
      ]
     },
     "execution_count": 8,
     "metadata": {},
     "output_type": "execute_result"
    }
   ],
   "source": [
    "table(test_df$SexuponOutcome)"
   ]
  },
  {
   "cell_type": "code",
   "execution_count": 9,
   "metadata": {
    "collapsed": false
   },
   "outputs": [
    {
     "data": {
      "text/plain": [
       "\n",
       "            0 years     1 day   1 month    1 week   1 weeks    1 year 10 months \n",
       "        6        13        18       501        74        76      1768       196 \n",
       " 10 years 11 months  11 years  12 years  13 years  14 years  15 years  16 years \n",
       "      152        75        48        96        71        46        30         9 \n",
       " 17 years  18 years  19 years    2 days  2 months   2 weeks   2 years  20 years \n",
       "       13         2         2        40      1532       198      1641         5 \n",
       " 22 years    3 days  3 months   3 weeks   3 years    4 days  4 months   4 weeks \n",
       "        2        39       511       291       766        28       395       131 \n",
       "  4 years    5 days  5 months   5 weeks   5 years    6 days  6 months   6 years \n",
       "      435        14       277         4       414        30       247       257 \n",
       " 7 months   7 years  8 months   8 years  9 months   9 years \n",
       "      167       238       167       236        89       106 "
      ]
     },
     "execution_count": 9,
     "metadata": {},
     "output_type": "execute_result"
    }
   ],
   "source": [
    "table(test_df$AgeuponOutcome)"
   ]
  },
  {
   "cell_type": "code",
   "execution_count": 72,
   "metadata": {
    "collapsed": false
   },
   "outputs": [],
   "source": [
    "unit_multiplier <- c(day=1, week=7, month=30, year=365)\n",
    "text_2_time_in_days <- function(str_value) {\n",
    "    match <- str_match(str_value, \"(\\\\d+) ([a-r,t-z]+)\")\n",
    "    value <- as.numeric(match[2])\n",
    "    unit <- match[3]\n",
    "    value_in_days <- value * as.numeric(unit_multiplier[unit])\n",
    "    return(value_in_days)\n",
    "}"
   ]
  },
  {
   "cell_type": "code",
   "execution_count": 73,
   "metadata": {
    "collapsed": false
   },
   "outputs": [],
   "source": [
    "match <- mapply(text_2_time_in_days, train_df$AgeuponOutcome)\n",
    "new_train_df <- cbind(train_df, age_in_days=match)"
   ]
  },
  {
   "cell_type": "code",
   "execution_count": 89,
   "metadata": {
    "collapsed": false
   },
   "outputs": [
    {
     "data": {
      "image/png": "[encoded data removed]",
      "image/svg+xml": [
       "<?xml version=\"1.0\" encoding=\"UTF-8\"?>\n",
       "<svg xmlns=\"http://www.w3.org/2000/svg\" xmlns:xlink=\"http://www.w3.org/1999/xlink\" width=\"504pt\" height=\"504pt\" viewBox=\"0 0 504 504\" version=\"1.1\">\n",
       "<defs>\n",
       "<g>\n",
       "<symbol overflow=\"visible\" id=\"glyph0-0\">\n",
       "<path style=\"stroke:none;\" d=\"\"/>\n",
       "</symbol>\n",
       "<symbol overflow=\"visible\" id=\"glyph0-1\">\n",
       "<path style=\"stroke:none;\" d=\"M 7.296875 -4.765625 L 7.296875 0 L 9.46875 0 L 9.46875 -10.5 L 7.296875 -10.5 L 7.296875 -6.5625 L 3.140625 -6.5625 L 3.140625 -10.5 L 0.984375 -10.5 L 0.984375 0 L 3.140625 0 L 3.140625 -4.765625 Z M 7.296875 -4.765625 \"/>\n",
       "</symbol>\n",
       "<symbol overflow=\"visible\" id=\"glyph0-2\">\n",
       "<path style=\"stroke:none;\" d=\"M 2.984375 -7.78125 L 0.96875 -7.78125 L 0.96875 0 L 2.984375 0 Z M 2.984375 -10.5 L 0.96875 -10.5 L 0.96875 -8.703125 L 2.984375 -8.703125 Z M 2.984375 -10.5 \"/>\n",
       "</symbol>\n",
       "<symbol overflow=\"visible\" id=\"glyph0-3\">\n",
       "<path style=\"stroke:none;\" d=\"M 7.28125 -5.265625 C 7.25 -6.921875 5.984375 -7.90625 3.890625 -7.90625 C 1.921875 -7.90625 0.6875 -6.921875 0.6875 -5.3125 C 0.6875 -4.796875 0.84375 -4.34375 1.125 -4.046875 C 1.390625 -3.78125 1.640625 -3.640625 2.390625 -3.40625 L 4.796875 -2.65625 C 5.296875 -2.5 5.46875 -2.328125 5.46875 -2.015625 C 5.46875 -1.546875 4.90625 -1.25 3.96875 -1.25 C 3.453125 -1.25 3.046875 -1.359375 2.78125 -1.53125 C 2.5625 -1.6875 2.484375 -1.84375 2.390625 -2.265625 L 0.421875 -2.265625 C 0.46875 -0.5625 1.734375 0.328125 4.09375 0.328125 C 5.171875 0.328125 6 0.09375 6.5625 -0.359375 C 7.140625 -0.828125 7.484375 -1.546875 7.484375 -2.3125 C 7.484375 -3.3125 6.984375 -3.96875 5.96875 -4.265625 L 3.421875 -5 C 2.859375 -5.171875 2.703125 -5.28125 2.703125 -5.609375 C 2.703125 -6.03125 3.171875 -6.328125 3.875 -6.328125 C 4.84375 -6.328125 5.3125 -5.984375 5.328125 -5.265625 Z M 7.28125 -5.265625 \"/>\n",
       "</symbol>\n",
       "<symbol overflow=\"visible\" id=\"glyph0-4\">\n",
       "<path style=\"stroke:none;\" d=\"M 4.34375 -7.625 L 3.21875 -7.625 L 3.21875 -9.703125 L 1.203125 -9.703125 L 1.203125 -7.625 L 0.203125 -7.625 L 0.203125 -6.28125 L 1.203125 -6.28125 L 1.203125 -1.5 C 1.203125 -0.28125 1.84375 0.328125 3.171875 0.328125 C 3.609375 0.328125 3.96875 0.28125 4.34375 0.171875 L 4.34375 -1.234375 C 4.140625 -1.203125 4.015625 -1.203125 3.875 -1.203125 C 3.34375 -1.203125 3.21875 -1.359375 3.21875 -2.046875 L 3.21875 -6.28125 L 4.34375 -6.28125 Z M 4.34375 -7.625 \"/>\n",
       "</symbol>\n",
       "<symbol overflow=\"visible\" id=\"glyph0-5\">\n",
       "<path style=\"stroke:none;\" d=\"M 4.34375 -7.90625 C 1.953125 -7.90625 0.5 -6.34375 0.5 -3.78125 C 0.5 -1.21875 1.953125 0.328125 4.34375 0.328125 C 6.71875 0.328125 8.203125 -1.234375 8.203125 -3.734375 C 8.203125 -6.375 6.765625 -7.90625 4.34375 -7.90625 Z M 4.34375 -6.28125 C 5.453125 -6.28125 6.1875 -5.28125 6.1875 -3.765625 C 6.1875 -2.3125 5.4375 -1.296875 4.34375 -1.296875 C 3.25 -1.296875 2.515625 -2.3125 2.515625 -3.78125 C 2.515625 -5.265625 3.25 -6.28125 4.34375 -6.28125 Z M 4.34375 -6.28125 \"/>\n",
       "</symbol>\n",
       "<symbol overflow=\"visible\" id=\"glyph0-6\">\n",
       "<path style=\"stroke:none;\" d=\"M 5.875 -7.78125 L 5.875 -6.578125 C 5.265625 -7.5 4.609375 -7.90625 3.71875 -7.90625 C 1.875 -7.90625 0.484375 -6.109375 0.484375 -3.703125 C 0.484375 -1.28125 1.75 0.328125 3.671875 0.328125 C 4.578125 0.328125 5.125 0.0625 5.875 -0.796875 L 5.875 0.265625 C 5.875 1.203125 5.171875 1.84375 4.15625 1.84375 C 3.40625 1.84375 2.890625 1.53125 2.734375 0.9375 L 0.640625 0.9375 C 0.65625 1.546875 0.890625 1.953125 1.40625 2.390625 C 2.03125 2.890625 2.890625 3.140625 4.09375 3.140625 C 6.4375 3.140625 7.796875 2.09375 7.796875 0.265625 L 7.796875 -7.78125 Z M 4.15625 -6.21875 C 5.15625 -6.21875 5.90625 -5.171875 5.90625 -3.734375 C 5.90625 -2.3125 5.171875 -1.359375 4.125 -1.359375 C 3.171875 -1.359375 2.5 -2.3125 2.5 -3.734375 C 2.5 -5.203125 3.171875 -6.21875 4.15625 -6.21875 Z M 4.15625 -6.21875 \"/>\n",
       "</symbol>\n",
       "<symbol overflow=\"visible\" id=\"glyph0-7\">\n",
       "<path style=\"stroke:none;\" d=\"M 0.90625 -7.78125 L 0.90625 0 L 2.921875 0 L 2.921875 -4.140625 C 2.921875 -5.3125 3.515625 -5.90625 4.703125 -5.90625 C 4.90625 -5.90625 5.0625 -5.890625 5.328125 -5.84375 L 5.328125 -7.890625 C 5.21875 -7.90625 5.140625 -7.90625 5.078125 -7.90625 C 4.15625 -7.90625 3.359375 -7.296875 2.921875 -6.25 L 2.921875 -7.78125 Z M 0.90625 -7.78125 \"/>\n",
       "</symbol>\n",
       "<symbol overflow=\"visible\" id=\"glyph0-8\">\n",
       "<path style=\"stroke:none;\" d=\"M 7.546875 -0.25 C 7.1875 -0.578125 7.09375 -0.796875 7.09375 -1.203125 L 7.09375 -5.515625 C 7.09375 -7.109375 6 -7.90625 3.90625 -7.90625 C 1.796875 -7.90625 0.703125 -7.015625 0.578125 -5.21875 L 2.515625 -5.21875 C 2.625 -6.015625 2.953125 -6.28125 3.953125 -6.28125 C 4.71875 -6.28125 5.109375 -6.015625 5.109375 -5.5 C 5.109375 -5.25 4.984375 -5.015625 4.765625 -4.890625 C 4.5 -4.75 4.5 -4.75 3.5 -4.59375 L 2.6875 -4.453125 C 1.15625 -4.1875 0.40625 -3.40625 0.40625 -2 C 0.40625 -1.34375 0.59375 -0.796875 0.953125 -0.40625 C 1.390625 0.0625 2.078125 0.328125 2.765625 0.328125 C 3.625 0.328125 4.421875 -0.046875 5.125 -0.78125 C 5.125 -0.375 5.171875 -0.234375 5.359375 0 L 7.546875 0 Z M 5.109375 -3.125 C 5.109375 -1.953125 4.53125 -1.296875 3.515625 -1.296875 C 2.84375 -1.296875 2.421875 -1.65625 2.421875 -2.234375 C 2.421875 -2.84375 2.734375 -3.125 3.578125 -3.296875 L 4.265625 -3.421875 C 4.796875 -3.53125 4.890625 -3.5625 5.109375 -3.671875 Z M 5.109375 -3.125 \"/>\n",
       "</symbol>\n",
       "<symbol overflow=\"visible\" id=\"glyph0-9\">\n",
       "<path style=\"stroke:none;\" d=\"M 0.859375 -7.78125 L 0.859375 0 L 2.875 0 L 2.875 -4.671875 C 2.875 -5.625 3.40625 -6.1875 4.265625 -6.1875 C 4.9375 -6.1875 5.359375 -5.8125 5.359375 -5.1875 L 5.359375 0 L 7.375 0 L 7.375 -4.671875 C 7.375 -5.625 7.890625 -6.1875 8.765625 -6.1875 C 9.4375 -6.1875 9.859375 -5.8125 9.859375 -5.1875 L 9.859375 0 L 11.875 0 L 11.875 -5.5 C 11.875 -7.015625 10.953125 -7.90625 9.390625 -7.90625 C 8.40625 -7.90625 7.71875 -7.5625 7.109375 -6.75 C 6.734375 -7.484375 5.96875 -7.90625 5 -7.90625 C 4.109375 -7.90625 3.53125 -7.609375 2.859375 -6.8125 L 2.859375 -7.78125 Z M 0.859375 -7.78125 \"/>\n",
       "</symbol>\n",
       "<symbol overflow=\"visible\" id=\"glyph0-10\">\n",
       "<path style=\"stroke:none;\" d=\"\"/>\n",
       "</symbol>\n",
       "<symbol overflow=\"visible\" id=\"glyph0-11\">\n",
       "<path style=\"stroke:none;\" d=\"M 4.515625 -7.625 L 3.3125 -7.625 L 3.3125 -8.390625 C 3.3125 -8.78125 3.484375 -8.984375 3.859375 -8.984375 C 4.03125 -8.984375 4.265625 -8.96875 4.4375 -8.953125 L 4.4375 -10.453125 C 4.0625 -10.484375 3.5625 -10.5 3.28125 -10.5 C 1.9375 -10.5 1.296875 -9.875 1.296875 -8.5625 L 1.296875 -7.625 L 0.203125 -7.625 L 0.203125 -6.28125 L 1.296875 -6.28125 L 1.296875 0 L 3.3125 0 L 3.3125 -6.28125 L 4.515625 -6.28125 Z M 4.515625 -7.625 \"/>\n",
       "</symbol>\n",
       "<symbol overflow=\"visible\" id=\"glyph0-12\">\n",
       "<path style=\"stroke:none;\" d=\"M 0.90625 -7.78125 L 0.90625 0 L 2.921875 0 L 2.921875 -4.671875 C 2.921875 -5.59375 3.578125 -6.1875 4.546875 -6.1875 C 5.421875 -6.1875 5.84375 -5.71875 5.84375 -4.796875 L 5.84375 0 L 7.859375 0 L 7.859375 -5.21875 C 7.859375 -6.921875 6.921875 -7.90625 5.265625 -7.90625 C 4.203125 -7.90625 3.5 -7.515625 2.921875 -6.65625 L 2.921875 -7.78125 Z M 0.90625 -7.78125 \"/>\n",
       "</symbol>\n",
       "<symbol overflow=\"visible\" id=\"glyph0-13\">\n",
       "<path style=\"stroke:none;\" d=\"M 7.546875 -3.25 C 7.5625 -3.421875 7.5625 -3.5 7.5625 -3.59375 C 7.5625 -4.375 7.453125 -5.09375 7.265625 -5.640625 C 6.734375 -7.0625 5.484375 -7.90625 3.921875 -7.90625 C 1.6875 -7.90625 0.3125 -6.296875 0.3125 -3.6875 C 0.3125 -1.203125 1.671875 0.328125 3.875 0.328125 C 5.625 0.328125 7.03125 -0.65625 7.484375 -2.1875 L 5.484375 -2.1875 C 5.25 -1.5625 4.6875 -1.203125 3.953125 -1.203125 C 3.375 -1.203125 2.90625 -1.453125 2.625 -1.890625 C 2.4375 -2.171875 2.359375 -2.515625 2.328125 -3.25 Z M 2.359375 -4.59375 C 2.5 -5.78125 3 -6.375 3.890625 -6.375 C 4.390625 -6.375 4.859375 -6.125 5.140625 -5.71875 C 5.328125 -5.4375 5.421875 -5.125 5.453125 -4.59375 Z M 2.359375 -4.59375 \"/>\n",
       "</symbol>\n",
       "<symbol overflow=\"visible\" id=\"glyph0-14\">\n",
       "<path style=\"stroke:none;\" d=\"M 8.828125 0 L 11.03125 -7.78125 L 8.953125 -7.78125 L 7.765625 -2.328125 L 6.59375 -7.78125 L 4.578125 -7.78125 L 3.40625 -2.328125 L 2.15625 -7.78125 L 0.078125 -7.78125 L 2.265625 0 L 4.34375 0 L 5.578125 -5.484375 L 6.734375 0 Z M 8.828125 0 \"/>\n",
       "</symbol>\n",
       "<symbol overflow=\"visible\" id=\"glyph0-15\">\n",
       "<path style=\"stroke:none;\" d=\"M 8.328125 1.734375 L -0.3125 1.734375 L -0.3125 2.71875 L 8.328125 2.71875 Z M 8.328125 1.734375 \"/>\n",
       "</symbol>\n",
       "<symbol overflow=\"visible\" id=\"glyph0-16\">\n",
       "<path style=\"stroke:none;\" d=\"M 5.828125 0 L 7.84375 0 L 7.84375 -10.5 L 5.828125 -10.5 L 5.828125 -6.765625 C 5.328125 -7.546875 4.65625 -7.90625 3.6875 -7.90625 C 1.828125 -7.90625 0.421875 -6.125 0.421875 -3.78125 C 0.421875 -2.71875 0.734375 -1.65625 1.25 -0.90625 C 1.78125 -0.15625 2.734375 0.328125 3.6875 0.328125 C 4.65625 0.328125 5.328125 -0.03125 5.828125 -0.796875 Z M 4.140625 -6.21875 C 5.15625 -6.21875 5.828125 -5.234375 5.828125 -3.75 C 5.828125 -2.328125 5.140625 -1.359375 4.140625 -1.359375 C 3.125 -1.359375 2.4375 -2.34375 2.4375 -3.78125 C 2.4375 -5.21875 3.125 -6.21875 4.140625 -6.21875 Z M 4.140625 -6.21875 \"/>\n",
       "</symbol>\n",
       "<symbol overflow=\"visible\" id=\"glyph0-17\">\n",
       "<path style=\"stroke:none;\" d=\"M 4.4375 -10.5 L 0.953125 -10.5 L 0.953125 2.875 L 4.4375 2.875 L 4.4375 1.40625 L 2.828125 1.40625 L 2.828125 -9.03125 L 4.4375 -9.03125 Z M 4.4375 -10.5 \"/>\n",
       "</symbol>\n",
       "<symbol overflow=\"visible\" id=\"glyph0-18\">\n",
       "<path style=\"stroke:none;\" d=\"M 7.453125 -7.171875 C 7.421875 -8.96875 6.296875 -10.109375 4.484375 -10.21875 L 4.484375 -10.984375 L 3.5 -10.984375 L 3.5 -10.21875 C 1.640625 -10.046875 0.5625 -8.984375 0.5625 -7.375 C 0.5625 -5.78125 1.5625 -4.75 3.5 -4.3125 L 3.5 -1.234375 C 2.6875 -1.390625 2.25 -1.96875 2.203125 -2.984375 L 0.3125 -2.984375 L 0.3125 -2.859375 C 0.3125 -1.796875 0.75 -0.9375 1.5625 -0.359375 C 2.109375 0.03125 2.640625 0.21875 3.5 0.296875 L 3.5 1.8125 L 4.484375 1.8125 L 4.484375 0.296875 C 5.265625 0.21875 5.875 0.015625 6.359375 -0.28125 C 7.125 -0.796875 7.59375 -1.734375 7.59375 -2.8125 C 7.59375 -4.390625 6.71875 -5.25 4.484375 -5.859375 L 4.484375 -8.765625 C 5.21875 -8.65625 5.640625 -8.046875 5.609375 -7.171875 Z M 3.5 -6.15625 C 2.6875 -6.40625 2.328125 -6.796875 2.328125 -7.4375 C 2.328125 -8.171875 2.703125 -8.59375 3.5 -8.765625 Z M 4.484375 -4.0625 C 5.28125 -3.8125 5.6875 -3.328125 5.6875 -2.640625 C 5.6875 -1.921875 5.28125 -1.4375 4.484375 -1.234375 Z M 4.484375 -4.0625 \"/>\n",
       "</symbol>\n",
       "<symbol overflow=\"visible\" id=\"glyph0-19\">\n",
       "<path style=\"stroke:none;\" d=\"M 5.671875 -7.78125 L 4.0625 -2.125 L 2.34375 -7.78125 L 0.125 -7.78125 L 3.03125 0.3125 L 3.03125 0.375 C 3.03125 1.109375 2.484375 1.671875 1.765625 1.671875 C 1.609375 1.671875 1.5 1.65625 1.234375 1.578125 L 1.234375 3.09375 C 1.546875 3.140625 1.71875 3.15625 1.953125 3.15625 C 2.46875 3.15625 3.0625 3.046875 3.421875 2.90625 C 3.96875 2.671875 4.21875 2.34375 4.546875 1.421875 L 7.75 -7.78125 Z M 5.671875 -7.78125 \"/>\n",
       "</symbol>\n",
       "<symbol overflow=\"visible\" id=\"glyph0-20\">\n",
       "<path style=\"stroke:none;\" d=\"M 7.625 -6.828125 L 0.578125 -4.21875 L 0.578125 -2.484375 L 7.625 0.140625 L 7.625 -1.453125 L 2.125 -3.34375 L 7.625 -5.265625 Z M 7.625 -6.828125 \"/>\n",
       "</symbol>\n",
       "<symbol overflow=\"visible\" id=\"glyph0-21\">\n",
       "<path style=\"stroke:none;\" d=\"M 3.125 -4.5625 C 3.828125 -4.5625 3.96875 -4.546875 4.3125 -4.46875 C 4.984375 -4.28125 5.421875 -3.6875 5.421875 -2.9375 C 5.421875 -2.046875 4.78125 -1.390625 3.90625 -1.390625 C 2.953125 -1.390625 2.4375 -1.9375 2.375 -3 L 0.421875 -3 C 0.4375 -0.953125 1.765625 0.328125 3.859375 0.328125 C 6.03125 0.328125 7.4375 -0.953125 7.4375 -2.9375 C 7.4375 -4.140625 6.921875 -4.90625 5.765625 -5.46875 C 6.71875 -6.0625 7.109375 -6.71875 7.109375 -7.65625 C 7.109375 -9.34375 5.828125 -10.4375 3.859375 -10.4375 C 2.6875 -10.4375 1.71875 -10.03125 1.140625 -9.28125 C 0.734375 -8.765625 0.546875 -8.078125 0.546875 -7.171875 L 0.546875 -7 L 2.421875 -7 C 2.4375 -7.546875 2.484375 -7.828125 2.578125 -8.078125 C 2.765625 -8.53125 3.234375 -8.796875 3.8125 -8.796875 C 4.625 -8.796875 5.078125 -8.3125 5.078125 -7.46875 C 5.078125 -6.4375 4.5 -5.921875 3.296875 -5.921875 L 3.125 -5.921875 Z M 3.125 -4.5625 \"/>\n",
       "</symbol>\n",
       "<symbol overflow=\"visible\" id=\"glyph0-22\">\n",
       "<path style=\"stroke:none;\" d=\"M 7.296875 -7.890625 C 7.203125 -8.5625 7.078125 -8.890625 6.8125 -9.265625 C 6.28125 -10 5.34375 -10.4375 4.234375 -10.4375 C 2.96875 -10.4375 1.9375 -9.875 1.3125 -8.84375 C 0.703125 -7.84375 0.46875 -6.71875 0.46875 -4.859375 C 0.46875 -3.09375 0.671875 -2 1.203125 -1.1875 C 1.78125 -0.234375 2.859375 0.328125 4.0625 0.328125 C 6.09375 0.328125 7.484375 -1.203125 7.484375 -3.421875 C 7.484375 -5.375 6.265625 -6.734375 4.515625 -6.734375 C 3.671875 -6.734375 3.109375 -6.484375 2.484375 -5.8125 C 2.515625 -6.90625 2.515625 -6.90625 2.609375 -7.328125 C 2.796875 -8.25 3.375 -8.796875 4.171875 -8.796875 C 4.828125 -8.796875 5.171875 -8.546875 5.4375 -7.890625 Z M 4.015625 -5.140625 C 4.953125 -5.140625 5.5625 -4.40625 5.5625 -3.28125 C 5.5625 -2.1875 4.890625 -1.390625 4 -1.390625 C 3.078125 -1.390625 2.453125 -2.15625 2.453125 -3.234375 C 2.453125 -4.359375 3.078125 -5.140625 4.015625 -5.140625 Z M 4.015625 -5.140625 \"/>\n",
       "</symbol>\n",
       "<symbol overflow=\"visible\" id=\"glyph0-23\">\n",
       "<path style=\"stroke:none;\" d=\"M 7.046875 -10.21875 L 1.578125 -10.21875 L 0.671875 -4.53125 L 2.5 -4.53125 C 2.703125 -5.03125 3.171875 -5.296875 3.78125 -5.296875 C 4.8125 -5.296875 5.4375 -4.5625 5.4375 -3.328125 C 5.4375 -2.125 4.796875 -1.390625 3.78125 -1.390625 C 2.90625 -1.390625 2.421875 -1.84375 2.375 -2.671875 L 0.390625 -2.671875 C 0.421875 -0.875 1.765625 0.328125 3.765625 0.328125 C 5.953125 0.328125 7.453125 -1.171875 7.453125 -3.375 C 7.453125 -5.453125 6.15625 -6.90625 4.265625 -6.90625 C 3.59375 -6.90625 3.078125 -6.734375 2.5 -6.28125 L 2.828125 -8.40625 L 7.046875 -8.40625 Z M 7.046875 -10.21875 \"/>\n",
       "</symbol>\n",
       "<symbol overflow=\"visible\" id=\"glyph0-24\">\n",
       "<path style=\"stroke:none;\" d=\"M 0.921875 -2.109375 L 0.921875 0 L 2.15625 0 L 2.15625 0.046875 C 2.15625 1.015625 1.765625 1.53125 0.921875 1.703125 L 0.921875 2.5 C 1.515625 2.4375 1.921875 2.28125 2.3125 1.96875 C 2.875 1.53125 3.078125 1 3.078125 -0.125 L 3.078125 -2.109375 Z M 0.921875 -2.109375 \"/>\n",
       "</symbol>\n",
       "<symbol overflow=\"visible\" id=\"glyph0-25\">\n",
       "<path style=\"stroke:none;\" d=\"M 0.265625 2.875 L 3.75 2.875 L 3.75 -10.5 L 0.265625 -10.5 L 0.265625 -9.03125 L 1.875 -9.03125 L 1.875 1.40625 L 0.265625 1.40625 Z M 0.265625 2.875 \"/>\n",
       "</symbol>\n",
       "<symbol overflow=\"visible\" id=\"glyph1-0\">\n",
       "<path style=\"stroke:none;\" d=\"\"/>\n",
       "</symbol>\n",
       "<symbol overflow=\"visible\" id=\"glyph1-1\">\n",
       "<path style=\"stroke:none;\" d=\"M 0.84375 -6.28125 L 0.84375 0 L 1.84375 0 L 1.84375 -3.46875 C 1.84375 -4.75 2.515625 -5.59375 3.546875 -5.59375 C 4.34375 -5.59375 4.84375 -5.109375 4.84375 -4.359375 L 4.84375 0 L 5.84375 0 L 5.84375 -4.75 C 5.84375 -5.796875 5.0625 -6.46875 3.859375 -6.46875 C 2.921875 -6.46875 2.3125 -6.109375 1.765625 -5.234375 L 1.765625 -6.28125 Z M 0.84375 -6.28125 \"/>\n",
       "</symbol>\n",
       "<symbol overflow=\"visible\" id=\"glyph1-2\">\n",
       "<path style=\"stroke:none;\" d=\"M 6.15625 -2.8125 C 6.15625 -3.765625 6.078125 -4.34375 5.90625 -4.8125 C 5.5 -5.84375 4.53125 -6.46875 3.359375 -6.46875 C 1.609375 -6.46875 0.484375 -5.125 0.484375 -3.0625 C 0.484375 -1 1.578125 0.28125 3.34375 0.28125 C 4.78125 0.28125 5.765625 -0.546875 6.03125 -1.90625 L 5.015625 -1.90625 C 4.734375 -1.078125 4.171875 -0.640625 3.375 -0.640625 C 2.734375 -0.640625 2.203125 -0.9375 1.859375 -1.46875 C 1.625 -1.828125 1.53125 -2.1875 1.53125 -2.8125 Z M 1.546875 -3.625 C 1.625 -4.78125 2.34375 -5.546875 3.34375 -5.546875 C 4.328125 -5.546875 5.09375 -4.734375 5.09375 -3.703125 C 5.09375 -3.671875 5.09375 -3.640625 5.078125 -3.625 Z M 1.546875 -3.625 \"/>\n",
       "</symbol>\n",
       "<symbol overflow=\"visible\" id=\"glyph1-3\">\n",
       "<path style=\"stroke:none;\" d=\"M 6.640625 0 L 8.5 -6.28125 L 7.375 -6.28125 L 6.125 -1.390625 L 4.890625 -6.28125 L 3.65625 -6.28125 L 2.453125 -1.390625 L 1.171875 -6.28125 L 0.078125 -6.28125 L 1.890625 0 L 3.03125 0 L 4.234375 -4.9375 L 5.515625 0 Z M 6.640625 0 \"/>\n",
       "</symbol>\n",
       "<symbol overflow=\"visible\" id=\"glyph1-4\">\n",
       "<path style=\"stroke:none;\" d=\"M 6.9375 1.515625 L -0.265625 1.515625 L -0.265625 2.109375 L 6.9375 2.109375 Z M 6.9375 1.515625 \"/>\n",
       "</symbol>\n",
       "<symbol overflow=\"visible\" id=\"glyph1-5\">\n",
       "<path style=\"stroke:none;\" d=\"M 3.046875 -6.28125 L 2.015625 -6.28125 L 2.015625 -8.015625 L 1.015625 -8.015625 L 1.015625 -6.28125 L 0.171875 -6.28125 L 0.171875 -5.46875 L 1.015625 -5.46875 L 1.015625 -0.71875 C 1.015625 -0.078125 1.453125 0.28125 2.234375 0.28125 C 2.46875 0.28125 2.71875 0.25 3.046875 0.1875 L 3.046875 -0.640625 C 2.921875 -0.609375 2.765625 -0.59375 2.5625 -0.59375 C 2.140625 -0.59375 2.015625 -0.71875 2.015625 -1.15625 L 2.015625 -5.46875 L 3.046875 -5.46875 Z M 3.046875 -6.28125 \"/>\n",
       "</symbol>\n",
       "<symbol overflow=\"visible\" id=\"glyph1-6\">\n",
       "<path style=\"stroke:none;\" d=\"M 0.828125 -6.28125 L 0.828125 0 L 1.84375 0 L 1.84375 -3.265625 C 1.84375 -4.15625 2.0625 -4.75 2.546875 -5.09375 C 2.859375 -5.328125 3.15625 -5.40625 3.859375 -5.40625 L 3.859375 -6.4375 C 3.6875 -6.453125 3.59375 -6.46875 3.46875 -6.46875 C 2.8125 -6.46875 2.328125 -6.078125 1.75 -5.140625 L 1.75 -6.28125 Z M 0.828125 -6.28125 \"/>\n",
       "</symbol>\n",
       "<symbol overflow=\"visible\" id=\"glyph1-7\">\n",
       "<path style=\"stroke:none;\" d=\"M 6.421875 -0.59375 C 6.3125 -0.5625 6.265625 -0.5625 6.203125 -0.5625 C 5.859375 -0.5625 5.65625 -0.75 5.65625 -1.0625 L 5.65625 -4.75 C 5.65625 -5.875 4.84375 -6.46875 3.296875 -6.46875 C 2.390625 -6.46875 1.625 -6.203125 1.21875 -5.734375 C 0.921875 -5.40625 0.796875 -5.046875 0.78125 -4.421875 L 1.78125 -4.421875 C 1.875 -5.203125 2.328125 -5.546875 3.265625 -5.546875 C 4.15625 -5.546875 4.671875 -5.203125 4.671875 -4.609375 L 4.671875 -4.34375 C 4.671875 -3.921875 4.421875 -3.75 3.625 -3.640625 C 2.203125 -3.46875 1.984375 -3.421875 1.609375 -3.265625 C 0.875 -2.96875 0.5 -2.40625 0.5 -1.578125 C 0.5 -0.4375 1.296875 0.28125 2.5625 0.28125 C 3.359375 0.28125 4 0 4.703125 -0.640625 C 4.78125 -0.015625 5.09375 0.28125 5.734375 0.28125 C 5.9375 0.28125 6.09375 0.25 6.421875 0.171875 Z M 4.671875 -1.984375 C 4.671875 -1.640625 4.578125 -1.4375 4.265625 -1.15625 C 3.859375 -0.796875 3.375 -0.59375 2.78125 -0.59375 C 2 -0.59375 1.546875 -0.96875 1.546875 -1.609375 C 1.546875 -2.265625 1.984375 -2.609375 3.0625 -2.765625 C 4.109375 -2.90625 4.328125 -2.953125 4.671875 -3.109375 Z M 4.671875 -1.984375 \"/>\n",
       "</symbol>\n",
       "<symbol overflow=\"visible\" id=\"glyph1-8\">\n",
       "<path style=\"stroke:none;\" d=\"M 1.796875 -6.28125 L 0.796875 -6.28125 L 0.796875 0 L 1.796875 0 Z M 1.796875 -8.75 L 0.796875 -8.75 L 0.796875 -7.484375 L 1.796875 -7.484375 Z M 1.796875 -8.75 \"/>\n",
       "</symbol>\n",
       "<symbol overflow=\"visible\" id=\"glyph1-9\">\n",
       "<path style=\"stroke:none;\" d=\"M 5.9375 -8.75 L 4.9375 -8.75 L 4.9375 -5.5 C 4.53125 -6.125 3.859375 -6.46875 3.015625 -6.46875 C 1.375 -6.46875 0.3125 -5.15625 0.3125 -3.15625 C 0.3125 -1.03125 1.359375 0.28125 3.046875 0.28125 C 3.90625 0.28125 4.515625 -0.046875 5.046875 -0.828125 L 5.046875 0 L 5.9375 0 Z M 3.1875 -5.53125 C 4.265625 -5.53125 4.9375 -4.578125 4.9375 -3.078125 C 4.9375 -1.625 4.25 -0.65625 3.1875 -0.65625 C 2.09375 -0.65625 1.359375 -1.625 1.359375 -3.09375 C 1.359375 -4.5625 2.09375 -5.53125 3.1875 -5.53125 Z M 3.1875 -5.53125 \"/>\n",
       "</symbol>\n",
       "<symbol overflow=\"visible\" id=\"glyph1-10\">\n",
       "<path style=\"stroke:none;\" d=\"M 3.09375 -6.28125 L 2.046875 -6.28125 L 2.046875 -7.265625 C 2.046875 -7.6875 2.296875 -7.90625 2.75 -7.90625 C 2.828125 -7.90625 2.875 -7.90625 3.09375 -7.890625 L 3.09375 -8.71875 C 2.875 -8.765625 2.734375 -8.78125 2.53125 -8.78125 C 1.609375 -8.78125 1.0625 -8.25 1.0625 -7.359375 L 1.0625 -6.28125 L 0.21875 -6.28125 L 0.21875 -5.46875 L 1.0625 -5.46875 L 1.0625 0 L 2.046875 0 L 2.046875 -5.46875 L 3.09375 -5.46875 Z M 3.09375 -6.28125 \"/>\n",
       "</symbol>\n",
       "<symbol overflow=\"visible\" id=\"glyph1-11\">\n",
       "<path style=\"stroke:none;\" d=\"M 3 -8.75 L 0.765625 -8.75 L 0.765625 2.546875 L 3 2.546875 L 3 1.6875 L 1.765625 1.6875 L 1.765625 -7.890625 L 3 -7.890625 Z M 3 -8.75 \"/>\n",
       "</symbol>\n",
       "<symbol overflow=\"visible\" id=\"glyph1-12\">\n",
       "<path style=\"stroke:none;\" d=\"M 2.921875 -9.234375 L 2.921875 -8.59375 C 1.375 -8.40625 0.546875 -7.5625 0.546875 -6.1875 C 0.546875 -5.4375 0.84375 -4.84375 1.40625 -4.4375 C 1.71875 -4.21875 2.046875 -4.078125 2.921875 -3.8125 L 2.921875 -0.546875 C 2.375 -0.625 1.921875 -0.859375 1.640625 -1.234375 C 1.46875 -1.515625 1.421875 -1.71875 1.34375 -2.5 L 0.390625 -2.5 C 0.3125 -0.828125 1.21875 0.171875 2.921875 0.28125 L 2.921875 1.515625 L 3.625 1.515625 L 3.625 0.28125 C 4.265625 0.234375 4.71875 0.09375 5.109375 -0.140625 C 5.8125 -0.578125 6.21875 -1.40625 6.21875 -2.34375 C 6.21875 -3.1875 5.890625 -3.796875 5.203125 -4.1875 C 4.890625 -4.375 4.734375 -4.421875 3.625 -4.765625 L 3.625 -7.75 C 4.421875 -7.71875 4.984375 -7.109375 5 -6.234375 L 5.953125 -6.234375 C 5.953125 -7.59375 5.078125 -8.484375 3.625 -8.59375 L 3.625 -9.234375 Z M 2.921875 -4.859375 C 1.96875 -5.109375 1.53125 -5.578125 1.53125 -6.3125 C 1.53125 -7.109375 2.03125 -7.625 2.921875 -7.734375 Z M 3.625 -3.703125 C 4.84375 -3.34375 5.234375 -2.984375 5.234375 -2.203125 C 5.234375 -1.734375 5.046875 -1.3125 4.734375 -1 C 4.4375 -0.71875 4.140625 -0.609375 3.625 -0.546875 Z M 3.625 -3.703125 \"/>\n",
       "</symbol>\n",
       "<symbol overflow=\"visible\" id=\"glyph1-13\">\n",
       "<path style=\"stroke:none;\" d=\"M 4.9375 -6.28125 L 4.9375 -5.375 C 4.4375 -6.125 3.828125 -6.46875 3.03125 -6.46875 C 1.421875 -6.46875 0.34375 -5.078125 0.34375 -3.03125 C 0.34375 -2 0.625 -1.15625 1.140625 -0.5625 C 1.609375 -0.03125 2.28125 0.28125 2.9375 0.28125 C 3.734375 0.28125 4.28125 -0.0625 4.84375 -0.859375 L 4.84375 -0.53125 C 4.84375 0.328125 4.734375 0.84375 4.484375 1.1875 C 4.21875 1.5625 3.703125 1.78125 3.09375 1.78125 C 2.640625 1.78125 2.234375 1.65625 1.953125 1.4375 C 1.734375 1.265625 1.625 1.09375 1.578125 0.71875 L 0.546875 0.71875 C 0.65625 1.90625 1.578125 2.609375 3.0625 2.609375 C 4 2.609375 4.796875 2.3125 5.203125 1.8125 C 5.6875 1.234375 5.875 0.4375 5.875 -1.03125 L 5.875 -6.28125 Z M 3.125 -5.546875 C 4.21875 -5.546875 4.84375 -4.625 4.84375 -3.0625 C 4.84375 -1.5625 4.203125 -0.640625 3.140625 -0.640625 C 2.046875 -0.640625 1.390625 -1.578125 1.390625 -3.09375 C 1.390625 -4.609375 2.0625 -5.546875 3.125 -5.546875 Z M 3.125 -5.546875 \"/>\n",
       "</symbol>\n",
       "<symbol overflow=\"visible\" id=\"glyph1-14\">\n",
       "<path style=\"stroke:none;\" d=\"M 4.65625 -6.28125 L 2.921875 -1.390625 L 1.3125 -6.28125 L 0.234375 -6.28125 L 2.359375 0.03125 L 1.984375 1.015625 C 1.828125 1.46875 1.59375 1.625 1.171875 1.625 C 1.03125 1.625 0.859375 1.609375 0.640625 1.5625 L 0.640625 2.453125 C 0.859375 2.5625 1.0625 2.609375 1.3125 2.609375 C 1.640625 2.609375 1.984375 2.515625 2.25 2.3125 C 2.5625 2.09375 2.75 1.828125 2.9375 1.3125 L 5.734375 -6.28125 Z M 4.65625 -6.28125 \"/>\n",
       "</symbol>\n",
       "<symbol overflow=\"visible\" id=\"glyph1-15\">\n",
       "<path style=\"stroke:none;\" d=\"M 5.25 -4.53125 C 5.25 -5.765625 4.421875 -6.46875 2.96875 -6.46875 C 1.515625 -6.46875 0.5625 -5.71875 0.5625 -4.546875 C 0.5625 -3.5625 1.0625 -3.09375 2.5625 -2.734375 L 3.484375 -2.515625 C 4.1875 -2.34375 4.46875 -2.09375 4.46875 -1.625 C 4.46875 -1.046875 3.875 -0.640625 3 -0.640625 C 2.453125 -0.640625 2 -0.796875 1.75 -1.0625 C 1.59375 -1.25 1.53125 -1.421875 1.46875 -1.875 L 0.40625 -1.875 C 0.453125 -0.421875 1.265625 0.28125 2.921875 0.28125 C 4.5 0.28125 5.515625 -0.5 5.515625 -1.71875 C 5.515625 -2.65625 4.984375 -3.171875 3.734375 -3.46875 L 2.765625 -3.703125 C 1.953125 -3.890625 1.609375 -4.15625 1.609375 -4.59375 C 1.609375 -5.171875 2.125 -5.546875 2.9375 -5.546875 C 3.75 -5.546875 4.171875 -5.203125 4.203125 -4.53125 Z M 5.25 -4.53125 \"/>\n",
       "</symbol>\n",
       "<symbol overflow=\"visible\" id=\"glyph1-16\">\n",
       "<path style=\"stroke:none;\" d=\"\"/>\n",
       "</symbol>\n",
       "<symbol overflow=\"visible\" id=\"glyph1-17\">\n",
       "<path style=\"stroke:none;\" d=\"M 0.546875 -2.375 L 6.40625 0.109375 L 6.40625 -0.84375 L 1.6875 -2.8125 L 6.40625 -4.734375 L 6.40625 -5.6875 L 0.546875 -3.203125 Z M 0.546875 -2.375 \"/>\n",
       "</symbol>\n",
       "<symbol overflow=\"visible\" id=\"glyph1-18\">\n",
       "<path style=\"stroke:none;\" d=\"M 2.65625 -3.90625 L 3.234375 -3.90625 C 4.390625 -3.90625 4.984375 -3.390625 4.984375 -2.359375 C 4.984375 -1.296875 4.328125 -0.65625 3.234375 -0.65625 C 2.078125 -0.65625 1.515625 -1.234375 1.4375 -2.46875 L 0.390625 -2.46875 C 0.4375 -1.78125 0.546875 -1.34375 0.75 -0.953125 C 1.1875 -0.140625 2.03125 0.28125 3.1875 0.28125 C 4.9375 0.28125 6.078125 -0.765625 6.078125 -2.375 C 6.078125 -3.453125 5.65625 -4.0625 4.625 -4.40625 C 5.421875 -4.71875 5.8125 -5.3125 5.8125 -6.171875 C 5.8125 -7.625 4.84375 -8.515625 3.234375 -8.515625 C 1.515625 -8.515625 0.59375 -7.578125 0.5625 -5.765625 L 1.625 -5.765625 C 1.625 -6.28125 1.6875 -6.5625 1.8125 -6.828125 C 2.046875 -7.296875 2.578125 -7.578125 3.234375 -7.578125 C 4.171875 -7.578125 4.734375 -7.03125 4.734375 -6.125 C 4.734375 -5.53125 4.53125 -5.171875 4.0625 -4.984375 C 3.765625 -4.859375 3.390625 -4.8125 2.65625 -4.796875 Z M 2.65625 -3.90625 \"/>\n",
       "</symbol>\n",
       "<symbol overflow=\"visible\" id=\"glyph1-19\">\n",
       "<path style=\"stroke:none;\" d=\"M 5.96875 -6.28125 C 5.765625 -7.6875 4.859375 -8.515625 3.5625 -8.515625 C 2.625 -8.515625 1.78125 -8.046875 1.28125 -7.296875 C 0.75 -6.46875 0.515625 -5.421875 0.515625 -3.875 C 0.515625 -2.453125 0.734375 -1.53125 1.234375 -0.78125 C 1.6875 -0.09375 2.4375 0.28125 3.375 0.28125 C 4.984375 0.28125 6.15625 -0.921875 6.15625 -2.59375 C 6.15625 -4.171875 5.078125 -5.296875 3.546875 -5.296875 C 2.71875 -5.296875 2.046875 -4.96875 1.59375 -4.34375 C 1.609375 -6.421875 2.28125 -7.578125 3.484375 -7.578125 C 4.234375 -7.578125 4.75 -7.109375 4.921875 -6.28125 Z M 3.421875 -4.359375 C 4.4375 -4.359375 5.078125 -3.640625 5.078125 -2.515625 C 5.078125 -1.4375 4.359375 -0.65625 3.390625 -0.65625 C 2.40625 -0.65625 1.65625 -1.46875 1.65625 -2.5625 C 1.65625 -3.625 2.375 -4.359375 3.421875 -4.359375 Z M 3.421875 -4.359375 \"/>\n",
       "</symbol>\n",
       "<symbol overflow=\"visible\" id=\"glyph1-20\">\n",
       "<path style=\"stroke:none;\" d=\"M 5.71875 -8.515625 L 1.3125 -8.515625 L 0.6875 -3.875 L 1.65625 -3.875 C 2.140625 -4.46875 2.5625 -4.671875 3.21875 -4.671875 C 4.359375 -4.671875 5.078125 -3.890625 5.078125 -2.625 C 5.078125 -1.40625 4.375 -0.65625 3.21875 -0.65625 C 2.296875 -0.65625 1.734375 -1.125 1.46875 -2.09375 L 0.421875 -2.09375 C 0.5625 -1.390625 0.6875 -1.0625 0.9375 -0.75 C 1.421875 -0.09375 2.28125 0.28125 3.234375 0.28125 C 4.953125 0.28125 6.15625 -0.96875 6.15625 -2.765625 C 6.15625 -4.453125 5.046875 -5.609375 3.40625 -5.609375 C 2.8125 -5.609375 2.328125 -5.453125 1.84375 -5.09375 L 2.171875 -7.46875 L 5.71875 -7.46875 Z M 5.71875 -8.515625 \"/>\n",
       "</symbol>\n",
       "<symbol overflow=\"visible\" id=\"glyph1-21\">\n",
       "<path style=\"stroke:none;\" d=\"M 1.046875 -1.25 L 1.046875 0 L 1.765625 0 L 1.765625 0.21875 C 1.765625 1.046875 1.609375 1.28125 1.046875 1.3125 L 1.046875 1.765625 C 1.890625 1.765625 2.296875 1.21875 2.296875 0.1875 L 2.296875 -1.25 Z M 1.046875 -1.25 \"/>\n",
       "</symbol>\n",
       "<symbol overflow=\"visible\" id=\"glyph1-22\">\n",
       "<path style=\"stroke:none;\" d=\"M 0.28125 2.546875 L 2.515625 2.546875 L 2.515625 -8.75 L 0.28125 -8.75 L 0.28125 -7.890625 L 1.515625 -7.890625 L 1.515625 1.6875 L 0.28125 1.6875 Z M 0.28125 2.546875 \"/>\n",
       "</symbol>\n",
       "<symbol overflow=\"visible\" id=\"glyph1-23\">\n",
       "<path style=\"stroke:none;\" d=\"M 3.296875 -8.515625 C 2.515625 -8.515625 1.78125 -8.15625 1.34375 -7.578125 C 0.796875 -6.828125 0.515625 -5.6875 0.515625 -4.109375 C 0.515625 -1.25 1.46875 0.28125 3.296875 0.28125 C 5.09375 0.28125 6.078125 -1.25 6.078125 -4.046875 C 6.078125 -5.703125 5.8125 -6.796875 5.25 -7.578125 C 4.8125 -8.171875 4.109375 -8.515625 3.296875 -8.515625 Z M 3.296875 -7.578125 C 4.4375 -7.578125 5 -6.421875 5 -4.140625 C 5 -1.734375 4.453125 -0.59375 3.28125 -0.59375 C 2.15625 -0.59375 1.59375 -1.78125 1.59375 -4.109375 C 1.59375 -6.4375 2.15625 -7.578125 3.296875 -7.578125 Z M 3.296875 -7.578125 \"/>\n",
       "</symbol>\n",
       "<symbol overflow=\"visible\" id=\"glyph1-24\">\n",
       "<path style=\"stroke:none;\" d=\"M 3.109375 -6.0625 L 3.109375 0 L 4.15625 0 L 4.15625 -8.515625 L 3.46875 -8.515625 C 3.09375 -7.203125 2.859375 -7.015625 1.21875 -6.8125 L 1.21875 -6.0625 Z M 3.109375 -6.0625 \"/>\n",
       "</symbol>\n",
       "<symbol overflow=\"visible\" id=\"glyph1-25\">\n",
       "<path style=\"stroke:none;\" d=\"M 6.078125 -1.046875 L 1.59375 -1.046875 C 1.703125 -1.734375 2.09375 -2.1875 3.125 -2.796875 L 4.328125 -3.4375 C 5.515625 -4.09375 6.125 -4.96875 6.125 -6.015625 C 6.125 -6.71875 5.84375 -7.375 5.34375 -7.84375 C 4.84375 -8.296875 4.21875 -8.515625 3.40625 -8.515625 C 2.328125 -8.515625 1.53125 -8.125 1.0625 -7.40625 C 0.75 -6.953125 0.625 -6.421875 0.59375 -5.5625 L 1.65625 -5.5625 C 1.6875 -6.125 1.765625 -6.484375 1.90625 -6.75 C 2.1875 -7.265625 2.734375 -7.578125 3.375 -7.578125 C 4.328125 -7.578125 5.046875 -6.90625 5.046875 -5.984375 C 5.046875 -5.3125 4.65625 -4.734375 3.90625 -4.3125 L 2.796875 -3.6875 C 1.015625 -2.671875 0.5 -1.875 0.40625 0 L 6.078125 0 Z M 6.078125 -1.046875 \"/>\n",
       "</symbol>\n",
       "<symbol overflow=\"visible\" id=\"glyph2-0\">\n",
       "<path style=\"stroke:none;\" d=\"\"/>\n",
       "</symbol>\n",
       "<symbol overflow=\"visible\" id=\"glyph2-1\">\n",
       "<path style=\"stroke:none;\" d=\"M -3.984375 -2.203125 L -3.984375 -6.375 L -4.96875 -6.375 L -4.96875 -2.203125 L -7.765625 -2.203125 L -7.765625 -6.953125 L -8.75 -6.953125 L -8.75 -1.078125 L 0 -1.078125 L 0 -2.203125 Z M -3.984375 -2.203125 \"/>\n",
       "</symbol>\n",
       "<symbol overflow=\"visible\" id=\"glyph2-2\">\n",
       "<path style=\"stroke:none;\" d=\"M -6.28125 -0.828125 L 0 -0.828125 L 0 -1.84375 L -3.265625 -1.84375 C -4.15625 -1.84375 -4.75 -2.0625 -5.09375 -2.546875 C -5.328125 -2.859375 -5.40625 -3.15625 -5.40625 -3.859375 L -6.4375 -3.859375 C -6.453125 -3.6875 -6.46875 -3.59375 -6.46875 -3.46875 C -6.46875 -2.8125 -6.078125 -2.328125 -5.140625 -1.75 L -6.28125 -1.75 Z M -6.28125 -0.828125 \"/>\n",
       "</symbol>\n",
       "<symbol overflow=\"visible\" id=\"glyph2-3\">\n",
       "<path style=\"stroke:none;\" d=\"M -2.8125 -6.15625 C -3.765625 -6.15625 -4.34375 -6.078125 -4.8125 -5.90625 C -5.84375 -5.5 -6.46875 -4.53125 -6.46875 -3.359375 C -6.46875 -1.609375 -5.125 -0.484375 -3.0625 -0.484375 C -1 -0.484375 0.28125 -1.578125 0.28125 -3.34375 C 0.28125 -4.78125 -0.546875 -5.765625 -1.90625 -6.03125 L -1.90625 -5.015625 C -1.078125 -4.734375 -0.640625 -4.171875 -0.640625 -3.375 C -0.640625 -2.734375 -0.9375 -2.203125 -1.46875 -1.859375 C -1.828125 -1.625 -2.1875 -1.53125 -2.8125 -1.53125 Z M -3.625 -1.546875 C -4.78125 -1.625 -5.546875 -2.34375 -5.546875 -3.34375 C -5.546875 -4.328125 -4.734375 -5.09375 -3.703125 -5.09375 C -3.671875 -5.09375 -3.640625 -5.09375 -3.625 -5.078125 Z M -3.625 -1.546875 \"/>\n",
       "</symbol>\n",
       "<symbol overflow=\"visible\" id=\"glyph2-4\">\n",
       "<path style=\"stroke:none;\" d=\"M 2.609375 -5.9375 L -6.28125 -5.9375 L -6.28125 -5.046875 L -5.453125 -5.046875 C -6.109375 -4.578125 -6.46875 -3.875 -6.46875 -3.046875 C -6.46875 -1.390625 -5.109375 -0.3125 -3.03125 -0.3125 C -0.984375 -0.3125 0.28125 -1.34375 0.28125 -3 C 0.28125 -3.875 -0.03125 -4.46875 -0.71875 -4.9375 L 2.609375 -4.9375 Z M -5.53125 -3.1875 C -5.53125 -4.265625 -4.578125 -4.9375 -3.0625 -4.9375 C -1.625 -4.9375 -0.65625 -4.25 -0.65625 -3.1875 C -0.65625 -2.09375 -1.625 -1.359375 -3.09375 -1.359375 C -4.546875 -1.359375 -5.53125 -2.09375 -5.53125 -3.1875 Z M -5.53125 -3.1875 \"/>\n",
       "</symbol>\n",
       "<symbol overflow=\"visible\" id=\"glyph2-5\">\n",
       "<path style=\"stroke:none;\" d=\"M 0 -5.78125 L -6.28125 -5.78125 L -6.28125 -4.78125 L -2.71875 -4.78125 C -1.4375 -4.78125 -0.59375 -4.109375 -0.59375 -3.078125 C -0.59375 -2.28125 -1.078125 -1.78125 -1.84375 -1.78125 L -6.28125 -1.78125 L -6.28125 -0.78125 L -1.4375 -0.78125 C -0.390625 -0.78125 0.28125 -1.5625 0.28125 -2.78125 C 0.28125 -3.703125 -0.046875 -4.296875 -0.875 -4.890625 L 0 -4.890625 Z M 0 -5.78125 \"/>\n",
       "</symbol>\n",
       "<symbol overflow=\"visible\" id=\"glyph2-6\">\n",
       "<path style=\"stroke:none;\" d=\"M -6.28125 -0.84375 L 0 -0.84375 L 0 -1.84375 L -3.46875 -1.84375 C -4.75 -1.84375 -5.59375 -2.515625 -5.59375 -3.546875 C -5.59375 -4.34375 -5.109375 -4.84375 -4.359375 -4.84375 L 0 -4.84375 L 0 -5.84375 L -4.75 -5.84375 C -5.796875 -5.84375 -6.46875 -5.0625 -6.46875 -3.859375 C -6.46875 -2.921875 -6.109375 -2.3125 -5.234375 -1.765625 L -6.28125 -1.765625 Z M -6.28125 -0.84375 \"/>\n",
       "</symbol>\n",
       "<symbol overflow=\"visible\" id=\"glyph2-7\">\n",
       "<path style=\"stroke:none;\" d=\"M -4.171875 -5.65625 C -4.78125 -5.609375 -5.1875 -5.46875 -5.53125 -5.234375 C -6.125 -4.796875 -6.46875 -4.046875 -6.46875 -3.171875 C -6.46875 -1.46875 -5.125 -0.375 -3.03125 -0.375 C -1.015625 -0.375 0.28125 -1.453125 0.28125 -3.15625 C 0.28125 -4.65625 -0.625 -5.609375 -2.15625 -5.71875 L -2.15625 -4.71875 C -1.15625 -4.546875 -0.640625 -4.03125 -0.640625 -3.1875 C -0.640625 -2.078125 -1.546875 -1.421875 -3.03125 -1.421875 C -4.609375 -1.421875 -5.546875 -2.0625 -5.546875 -3.15625 C -5.546875 -4 -5.046875 -4.53125 -4.171875 -4.640625 Z M -4.171875 -5.65625 \"/>\n",
       "</symbol>\n",
       "<symbol overflow=\"visible\" id=\"glyph2-8\">\n",
       "<path style=\"stroke:none;\" d=\"M -6.28125 -4.65625 L -1.390625 -2.921875 L -6.28125 -1.3125 L -6.28125 -0.234375 L 0.03125 -2.359375 L 1.015625 -1.984375 C 1.46875 -1.828125 1.625 -1.59375 1.625 -1.171875 C 1.625 -1.03125 1.609375 -0.859375 1.5625 -0.640625 L 2.453125 -0.640625 C 2.5625 -0.859375 2.609375 -1.0625 2.609375 -1.3125 C 2.609375 -1.640625 2.515625 -1.984375 2.3125 -2.25 C 2.09375 -2.5625 1.828125 -2.75 1.3125 -2.9375 L -6.28125 -5.734375 Z M -6.28125 -4.65625 \"/>\n",
       "</symbol>\n",
       "<symbol overflow=\"visible\" id=\"glyph2-9\">\n",
       "<path style=\"stroke:none;\" d=\"M -8.515625 -3.296875 C -8.515625 -2.515625 -8.15625 -1.78125 -7.578125 -1.34375 C -6.828125 -0.796875 -5.6875 -0.515625 -4.109375 -0.515625 C -1.25 -0.515625 0.28125 -1.46875 0.28125 -3.296875 C 0.28125 -5.09375 -1.25 -6.078125 -4.046875 -6.078125 C -5.703125 -6.078125 -6.796875 -5.8125 -7.578125 -5.25 C -8.171875 -4.8125 -8.515625 -4.109375 -8.515625 -3.296875 Z M -7.578125 -3.296875 C -7.578125 -4.4375 -6.421875 -5 -4.140625 -5 C -1.734375 -5 -0.59375 -4.453125 -0.59375 -3.28125 C -0.59375 -2.15625 -1.78125 -1.59375 -4.109375 -1.59375 C -6.4375 -1.59375 -7.578125 -2.15625 -7.578125 -3.296875 Z M -7.578125 -3.296875 \"/>\n",
       "</symbol>\n",
       "<symbol overflow=\"visible\" id=\"glyph2-10\">\n",
       "<path style=\"stroke:none;\" d=\"M -8.515625 -5.71875 L -8.515625 -1.3125 L -3.875 -0.6875 L -3.875 -1.65625 C -4.46875 -2.140625 -4.671875 -2.5625 -4.671875 -3.21875 C -4.671875 -4.359375 -3.890625 -5.078125 -2.625 -5.078125 C -1.40625 -5.078125 -0.65625 -4.375 -0.65625 -3.21875 C -0.65625 -2.296875 -1.125 -1.734375 -2.09375 -1.46875 L -2.09375 -0.421875 C -1.390625 -0.5625 -1.0625 -0.6875 -0.75 -0.9375 C -0.09375 -1.421875 0.28125 -2.28125 0.28125 -3.234375 C 0.28125 -4.953125 -0.96875 -6.15625 -2.765625 -6.15625 C -4.453125 -6.15625 -5.609375 -5.046875 -5.609375 -3.40625 C -5.609375 -2.8125 -5.453125 -2.328125 -5.09375 -1.84375 L -7.46875 -2.171875 L -7.46875 -5.71875 Z M -8.515625 -5.71875 \"/>\n",
       "</symbol>\n",
       "<symbol overflow=\"visible\" id=\"glyph2-11\">\n",
       "<path style=\"stroke:none;\" d=\"M -6.0625 -3.109375 L 0 -3.109375 L 0 -4.15625 L -8.515625 -4.15625 L -8.515625 -3.46875 C -7.203125 -3.09375 -7.015625 -2.859375 -6.8125 -1.21875 L -6.0625 -1.21875 Z M -6.0625 -3.109375 \"/>\n",
       "</symbol>\n",
       "<symbol overflow=\"visible\" id=\"glyph2-12\">\n",
       "<path style=\"stroke:none;\" d=\"M -1.046875 -6.078125 L -1.046875 -1.59375 C -1.734375 -1.703125 -2.1875 -2.09375 -2.796875 -3.125 L -3.4375 -4.328125 C -4.09375 -5.515625 -4.96875 -6.125 -6.015625 -6.125 C -6.71875 -6.125 -7.375 -5.84375 -7.84375 -5.34375 C -8.296875 -4.84375 -8.515625 -4.21875 -8.515625 -3.40625 C -8.515625 -2.328125 -8.125 -1.53125 -7.40625 -1.0625 C -6.953125 -0.75 -6.421875 -0.625 -5.5625 -0.59375 L -5.5625 -1.65625 C -6.125 -1.6875 -6.484375 -1.765625 -6.75 -1.90625 C -7.265625 -2.1875 -7.578125 -2.734375 -7.578125 -3.375 C -7.578125 -4.328125 -6.90625 -5.046875 -5.984375 -5.046875 C -5.3125 -5.046875 -4.734375 -4.65625 -4.3125 -3.90625 L -3.6875 -2.796875 C -2.671875 -1.015625 -1.875 -0.5 0 -0.40625 L 0 -6.078125 Z M -1.046875 -6.078125 \"/>\n",
       "</symbol>\n",
       "<symbol overflow=\"visible\" id=\"glyph2-13\">\n",
       "<path style=\"stroke:none;\" d=\"M -3.90625 -2.65625 L -3.90625 -3.234375 C -3.90625 -4.390625 -3.390625 -4.984375 -2.359375 -4.984375 C -1.296875 -4.984375 -0.65625 -4.328125 -0.65625 -3.234375 C -0.65625 -2.078125 -1.234375 -1.515625 -2.46875 -1.4375 L -2.46875 -0.390625 C -1.78125 -0.4375 -1.34375 -0.546875 -0.953125 -0.75 C -0.140625 -1.1875 0.28125 -2.03125 0.28125 -3.1875 C 0.28125 -4.9375 -0.765625 -6.078125 -2.375 -6.078125 C -3.453125 -6.078125 -4.0625 -5.65625 -4.40625 -4.625 C -4.71875 -5.421875 -5.3125 -5.8125 -6.171875 -5.8125 C -7.625 -5.8125 -8.515625 -4.84375 -8.515625 -3.234375 C -8.515625 -1.515625 -7.578125 -0.59375 -5.765625 -0.5625 L -5.765625 -1.625 C -6.28125 -1.625 -6.5625 -1.6875 -6.828125 -1.8125 C -7.296875 -2.046875 -7.578125 -2.578125 -7.578125 -3.234375 C -7.578125 -4.171875 -7.03125 -4.734375 -6.125 -4.734375 C -5.53125 -4.734375 -5.171875 -4.53125 -4.984375 -4.0625 C -4.859375 -3.765625 -4.8125 -3.390625 -4.796875 -2.65625 Z M -3.90625 -2.65625 \"/>\n",
       "</symbol>\n",
       "</g>\n",
       "</defs>\n",
       "<g id=\"surface157\">\n",
       "<rect x=\"0\" y=\"0\" width=\"504\" height=\"504\" style=\"fill:rgb(100%,100%,100%);fill-opacity:1;stroke:none;\"/>\n",
       "<g style=\"fill:rgb(0%,0%,0%);fill-opacity:1;\">\n",
       "  <use xlink:href=\"#glyph0-1\" x=\"7.398438\" y=\"34.116211\"/>\n",
       "  <use xlink:href=\"#glyph0-2\" x=\"17.799805\" y=\"34.116211\"/>\n",
       "  <use xlink:href=\"#glyph0-3\" x=\"21.804688\" y=\"34.116211\"/>\n",
       "  <use xlink:href=\"#glyph0-4\" x=\"29.814453\" y=\"34.116211\"/>\n",
       "  <use xlink:href=\"#glyph0-5\" x=\"34.611328\" y=\"34.116211\"/>\n",
       "  <use xlink:href=\"#glyph0-6\" x=\"43.413086\" y=\"34.116211\"/>\n",
       "  <use xlink:href=\"#glyph0-7\" x=\"52.214844\" y=\"34.116211\"/>\n",
       "  <use xlink:href=\"#glyph0-8\" x=\"57.819336\" y=\"34.116211\"/>\n",
       "  <use xlink:href=\"#glyph0-9\" x=\"65.829102\" y=\"34.116211\"/>\n",
       "  <use xlink:href=\"#glyph0-10\" x=\"78.635742\" y=\"34.116211\"/>\n",
       "  <use xlink:href=\"#glyph0-5\" x=\"82.640625\" y=\"34.116211\"/>\n",
       "  <use xlink:href=\"#glyph0-11\" x=\"91.442383\" y=\"34.116211\"/>\n",
       "  <use xlink:href=\"#glyph0-10\" x=\"96.239258\" y=\"34.116211\"/>\n",
       "  <use xlink:href=\"#glyph0-12\" x=\"100.244141\" y=\"34.116211\"/>\n",
       "  <use xlink:href=\"#glyph0-13\" x=\"109.045898\" y=\"34.116211\"/>\n",
       "  <use xlink:href=\"#glyph0-14\" x=\"117.055664\" y=\"34.116211\"/>\n",
       "  <use xlink:href=\"#glyph0-15\" x=\"128.263672\" y=\"34.116211\"/>\n",
       "  <use xlink:href=\"#glyph0-4\" x=\"136.273438\" y=\"34.116211\"/>\n",
       "  <use xlink:href=\"#glyph0-7\" x=\"141.070312\" y=\"34.116211\"/>\n",
       "  <use xlink:href=\"#glyph0-8\" x=\"146.674805\" y=\"34.116211\"/>\n",
       "  <use xlink:href=\"#glyph0-2\" x=\"154.68457\" y=\"34.116211\"/>\n",
       "  <use xlink:href=\"#glyph0-12\" x=\"158.689453\" y=\"34.116211\"/>\n",
       "  <use xlink:href=\"#glyph0-15\" x=\"167.491211\" y=\"34.116211\"/>\n",
       "  <use xlink:href=\"#glyph0-16\" x=\"175.500977\" y=\"34.116211\"/>\n",
       "  <use xlink:href=\"#glyph0-11\" x=\"184.302734\" y=\"34.116211\"/>\n",
       "  <use xlink:href=\"#glyph0-17\" x=\"189.099609\" y=\"34.116211\"/>\n",
       "  <use xlink:href=\"#glyph0-12\" x=\"193.896484\" y=\"34.116211\"/>\n",
       "  <use xlink:href=\"#glyph0-13\" x=\"202.698242\" y=\"34.116211\"/>\n",
       "  <use xlink:href=\"#glyph0-14\" x=\"210.708008\" y=\"34.116211\"/>\n",
       "  <use xlink:href=\"#glyph0-15\" x=\"221.916016\" y=\"34.116211\"/>\n",
       "  <use xlink:href=\"#glyph0-4\" x=\"229.925781\" y=\"34.116211\"/>\n",
       "  <use xlink:href=\"#glyph0-7\" x=\"234.722656\" y=\"34.116211\"/>\n",
       "  <use xlink:href=\"#glyph0-8\" x=\"240.327148\" y=\"34.116211\"/>\n",
       "  <use xlink:href=\"#glyph0-2\" x=\"248.336914\" y=\"34.116211\"/>\n",
       "  <use xlink:href=\"#glyph0-12\" x=\"252.341797\" y=\"34.116211\"/>\n",
       "  <use xlink:href=\"#glyph0-15\" x=\"261.143555\" y=\"34.116211\"/>\n",
       "  <use xlink:href=\"#glyph0-16\" x=\"269.15332\" y=\"34.116211\"/>\n",
       "  <use xlink:href=\"#glyph0-11\" x=\"277.955078\" y=\"34.116211\"/>\n",
       "  <use xlink:href=\"#glyph0-18\" x=\"282.751953\" y=\"34.116211\"/>\n",
       "  <use xlink:href=\"#glyph0-8\" x=\"290.761719\" y=\"34.116211\"/>\n",
       "  <use xlink:href=\"#glyph0-6\" x=\"298.771484\" y=\"34.116211\"/>\n",
       "  <use xlink:href=\"#glyph0-13\" x=\"307.573242\" y=\"34.116211\"/>\n",
       "  <use xlink:href=\"#glyph0-15\" x=\"315.583008\" y=\"34.116211\"/>\n",
       "  <use xlink:href=\"#glyph0-2\" x=\"323.592773\" y=\"34.116211\"/>\n",
       "  <use xlink:href=\"#glyph0-12\" x=\"327.597656\" y=\"34.116211\"/>\n",
       "  <use xlink:href=\"#glyph0-15\" x=\"336.399414\" y=\"34.116211\"/>\n",
       "  <use xlink:href=\"#glyph0-16\" x=\"344.40918\" y=\"34.116211\"/>\n",
       "  <use xlink:href=\"#glyph0-8\" x=\"353.210938\" y=\"34.116211\"/>\n",
       "  <use xlink:href=\"#glyph0-19\" x=\"361.220703\" y=\"34.116211\"/>\n",
       "  <use xlink:href=\"#glyph0-3\" x=\"369.230469\" y=\"34.116211\"/>\n",
       "  <use xlink:href=\"#glyph0-10\" x=\"377.240234\" y=\"34.116211\"/>\n",
       "  <use xlink:href=\"#glyph0-20\" x=\"381.245117\" y=\"34.116211\"/>\n",
       "  <use xlink:href=\"#glyph0-10\" x=\"389.658203\" y=\"34.116211\"/>\n",
       "  <use xlink:href=\"#glyph0-21\" x=\"393.663086\" y=\"34.116211\"/>\n",
       "  <use xlink:href=\"#glyph0-22\" x=\"401.672852\" y=\"34.116211\"/>\n",
       "  <use xlink:href=\"#glyph0-23\" x=\"409.682617\" y=\"34.116211\"/>\n",
       "  <use xlink:href=\"#glyph0-24\" x=\"417.692383\" y=\"34.116211\"/>\n",
       "  <use xlink:href=\"#glyph0-10\" x=\"421.697266\" y=\"34.116211\"/>\n",
       "  <use xlink:href=\"#glyph0-25\" x=\"425.702148\" y=\"34.116211\"/>\n",
       "  <use xlink:href=\"#glyph0-18\" x=\"430.499023\" y=\"34.116211\"/>\n",
       "  <use xlink:href=\"#glyph0-8\" x=\"438.508789\" y=\"34.116211\"/>\n",
       "  <use xlink:href=\"#glyph0-6\" x=\"446.518555\" y=\"34.116211\"/>\n",
       "  <use xlink:href=\"#glyph0-13\" x=\"455.320312\" y=\"34.116211\"/>\n",
       "  <use xlink:href=\"#glyph0-15\" x=\"463.330078\" y=\"34.116211\"/>\n",
       "  <use xlink:href=\"#glyph0-2\" x=\"471.339844\" y=\"34.116211\"/>\n",
       "  <use xlink:href=\"#glyph0-12\" x=\"475.344727\" y=\"34.116211\"/>\n",
       "  <use xlink:href=\"#glyph0-15\" x=\"484.146484\" y=\"34.116211\"/>\n",
       "  <use xlink:href=\"#glyph0-16\" x=\"492.15625\" y=\"34.116211\"/>\n",
       "  <use xlink:href=\"#glyph0-8\" x=\"500.958008\" y=\"34.116211\"/>\n",
       "  <use xlink:href=\"#glyph0-19\" x=\"508.967773\" y=\"34.116211\"/>\n",
       "  <use xlink:href=\"#glyph0-3\" x=\"516.977539\" y=\"34.116211\"/>\n",
       "</g>\n",
       "<g style=\"fill:rgb(0%,0%,0%);fill-opacity:1;\">\n",
       "  <use xlink:href=\"#glyph1-1\" x=\"99.398438\" y=\"484.716797\"/>\n",
       "  <use xlink:href=\"#glyph1-2\" x=\"106.070312\" y=\"484.716797\"/>\n",
       "  <use xlink:href=\"#glyph1-3\" x=\"112.742188\" y=\"484.716797\"/>\n",
       "  <use xlink:href=\"#glyph1-4\" x=\"121.40625\" y=\"484.716797\"/>\n",
       "  <use xlink:href=\"#glyph1-5\" x=\"128.078125\" y=\"484.716797\"/>\n",
       "  <use xlink:href=\"#glyph1-6\" x=\"131.414062\" y=\"484.716797\"/>\n",
       "  <use xlink:href=\"#glyph1-7\" x=\"135.410156\" y=\"484.716797\"/>\n",
       "  <use xlink:href=\"#glyph1-8\" x=\"142.082031\" y=\"484.716797\"/>\n",
       "  <use xlink:href=\"#glyph1-1\" x=\"144.746094\" y=\"484.716797\"/>\n",
       "  <use xlink:href=\"#glyph1-4\" x=\"151.417969\" y=\"484.716797\"/>\n",
       "  <use xlink:href=\"#glyph1-9\" x=\"158.089844\" y=\"484.716797\"/>\n",
       "  <use xlink:href=\"#glyph1-10\" x=\"164.761719\" y=\"484.716797\"/>\n",
       "  <use xlink:href=\"#glyph1-11\" x=\"168.097656\" y=\"484.716797\"/>\n",
       "  <use xlink:href=\"#glyph1-1\" x=\"171.433594\" y=\"484.716797\"/>\n",
       "  <use xlink:href=\"#glyph1-2\" x=\"178.105469\" y=\"484.716797\"/>\n",
       "  <use xlink:href=\"#glyph1-3\" x=\"184.777344\" y=\"484.716797\"/>\n",
       "  <use xlink:href=\"#glyph1-4\" x=\"193.441406\" y=\"484.716797\"/>\n",
       "  <use xlink:href=\"#glyph1-5\" x=\"200.113281\" y=\"484.716797\"/>\n",
       "  <use xlink:href=\"#glyph1-6\" x=\"203.449219\" y=\"484.716797\"/>\n",
       "  <use xlink:href=\"#glyph1-7\" x=\"207.445312\" y=\"484.716797\"/>\n",
       "  <use xlink:href=\"#glyph1-8\" x=\"214.117188\" y=\"484.716797\"/>\n",
       "  <use xlink:href=\"#glyph1-1\" x=\"216.78125\" y=\"484.716797\"/>\n",
       "  <use xlink:href=\"#glyph1-4\" x=\"223.453125\" y=\"484.716797\"/>\n",
       "  <use xlink:href=\"#glyph1-9\" x=\"230.125\" y=\"484.716797\"/>\n",
       "  <use xlink:href=\"#glyph1-10\" x=\"236.796875\" y=\"484.716797\"/>\n",
       "  <use xlink:href=\"#glyph1-12\" x=\"240.132812\" y=\"484.716797\"/>\n",
       "  <use xlink:href=\"#glyph1-7\" x=\"246.804688\" y=\"484.716797\"/>\n",
       "  <use xlink:href=\"#glyph1-13\" x=\"253.476562\" y=\"484.716797\"/>\n",
       "  <use xlink:href=\"#glyph1-2\" x=\"260.148438\" y=\"484.716797\"/>\n",
       "  <use xlink:href=\"#glyph1-4\" x=\"266.820312\" y=\"484.716797\"/>\n",
       "  <use xlink:href=\"#glyph1-8\" x=\"273.492188\" y=\"484.716797\"/>\n",
       "  <use xlink:href=\"#glyph1-1\" x=\"276.15625\" y=\"484.716797\"/>\n",
       "  <use xlink:href=\"#glyph1-4\" x=\"282.828125\" y=\"484.716797\"/>\n",
       "  <use xlink:href=\"#glyph1-9\" x=\"289.5\" y=\"484.716797\"/>\n",
       "  <use xlink:href=\"#glyph1-7\" x=\"296.171875\" y=\"484.716797\"/>\n",
       "  <use xlink:href=\"#glyph1-14\" x=\"302.84375\" y=\"484.716797\"/>\n",
       "  <use xlink:href=\"#glyph1-15\" x=\"308.84375\" y=\"484.716797\"/>\n",
       "  <use xlink:href=\"#glyph1-16\" x=\"314.84375\" y=\"484.716797\"/>\n",
       "  <use xlink:href=\"#glyph1-17\" x=\"318.179688\" y=\"484.716797\"/>\n",
       "  <use xlink:href=\"#glyph1-16\" x=\"325.1875\" y=\"484.716797\"/>\n",
       "  <use xlink:href=\"#glyph1-18\" x=\"328.523438\" y=\"484.716797\"/>\n",
       "  <use xlink:href=\"#glyph1-19\" x=\"335.195312\" y=\"484.716797\"/>\n",
       "  <use xlink:href=\"#glyph1-20\" x=\"341.867188\" y=\"484.716797\"/>\n",
       "  <use xlink:href=\"#glyph1-21\" x=\"348.539062\" y=\"484.716797\"/>\n",
       "  <use xlink:href=\"#glyph1-16\" x=\"351.875\" y=\"484.716797\"/>\n",
       "  <use xlink:href=\"#glyph1-22\" x=\"355.210938\" y=\"484.716797\"/>\n",
       "  <use xlink:href=\"#glyph1-12\" x=\"358.546875\" y=\"484.716797\"/>\n",
       "  <use xlink:href=\"#glyph1-7\" x=\"365.21875\" y=\"484.716797\"/>\n",
       "  <use xlink:href=\"#glyph1-13\" x=\"371.890625\" y=\"484.716797\"/>\n",
       "  <use xlink:href=\"#glyph1-2\" x=\"378.5625\" y=\"484.716797\"/>\n",
       "  <use xlink:href=\"#glyph1-4\" x=\"385.234375\" y=\"484.716797\"/>\n",
       "  <use xlink:href=\"#glyph1-8\" x=\"391.90625\" y=\"484.716797\"/>\n",
       "  <use xlink:href=\"#glyph1-1\" x=\"394.570312\" y=\"484.716797\"/>\n",
       "  <use xlink:href=\"#glyph1-4\" x=\"401.242188\" y=\"484.716797\"/>\n",
       "  <use xlink:href=\"#glyph1-9\" x=\"407.914062\" y=\"484.716797\"/>\n",
       "  <use xlink:href=\"#glyph1-7\" x=\"414.585938\" y=\"484.716797\"/>\n",
       "  <use xlink:href=\"#glyph1-14\" x=\"421.257812\" y=\"484.716797\"/>\n",
       "  <use xlink:href=\"#glyph1-15\" x=\"427.257812\" y=\"484.716797\"/>\n",
       "</g>\n",
       "<g style=\"fill:rgb(0%,0%,0%);fill-opacity:1;\">\n",
       "  <use xlink:href=\"#glyph2-1\" x=\"12.396484\" y=\"273.300781\"/>\n",
       "  <use xlink:href=\"#glyph2-2\" x=\"12.396484\" y=\"265.96875\"/>\n",
       "  <use xlink:href=\"#glyph2-3\" x=\"12.396484\" y=\"261.972656\"/>\n",
       "  <use xlink:href=\"#glyph2-4\" x=\"12.396484\" y=\"255.300781\"/>\n",
       "  <use xlink:href=\"#glyph2-5\" x=\"12.396484\" y=\"248.628906\"/>\n",
       "  <use xlink:href=\"#glyph2-3\" x=\"12.396484\" y=\"241.957031\"/>\n",
       "  <use xlink:href=\"#glyph2-6\" x=\"12.396484\" y=\"235.285156\"/>\n",
       "  <use xlink:href=\"#glyph2-7\" x=\"12.396484\" y=\"228.613281\"/>\n",
       "  <use xlink:href=\"#glyph2-8\" x=\"12.396484\" y=\"222.613281\"/>\n",
       "</g>\n",
       "<path style=\"fill:none;stroke-width:0.75;stroke-linecap:round;stroke-linejoin:round;stroke:rgb(0%,0%,0%);stroke-opacity:1;stroke-miterlimit:10;\" d=\"M 74.398438 430.558594 L 423.492188 430.558594 \"/>\n",
       "<path style=\"fill:none;stroke-width:0.75;stroke-linecap:round;stroke-linejoin:round;stroke:rgb(0%,0%,0%);stroke-opacity:1;stroke-miterlimit:10;\" d=\"M 74.398438 430.558594 L 74.398438 437.761719 \"/>\n",
       "<path style=\"fill:none;stroke-width:0.75;stroke-linecap:round;stroke-linejoin:round;stroke:rgb(0%,0%,0%);stroke-opacity:1;stroke-miterlimit:10;\" d=\"M 132.582031 430.558594 L 132.582031 437.761719 \"/>\n",
       "<path style=\"fill:none;stroke-width:0.75;stroke-linecap:round;stroke-linejoin:round;stroke:rgb(0%,0%,0%);stroke-opacity:1;stroke-miterlimit:10;\" d=\"M 190.761719 430.558594 L 190.761719 437.761719 \"/>\n",
       "<path style=\"fill:none;stroke-width:0.75;stroke-linecap:round;stroke-linejoin:round;stroke:rgb(0%,0%,0%);stroke-opacity:1;stroke-miterlimit:10;\" d=\"M 248.945312 430.558594 L 248.945312 437.761719 \"/>\n",
       "<path style=\"fill:none;stroke-width:0.75;stroke-linecap:round;stroke-linejoin:round;stroke:rgb(0%,0%,0%);stroke-opacity:1;stroke-miterlimit:10;\" d=\"M 307.128906 430.558594 L 307.128906 437.761719 \"/>\n",
       "<path style=\"fill:none;stroke-width:0.75;stroke-linecap:round;stroke-linejoin:round;stroke:rgb(0%,0%,0%);stroke-opacity:1;stroke-miterlimit:10;\" d=\"M 365.308594 430.558594 L 365.308594 437.761719 \"/>\n",
       "<path style=\"fill:none;stroke-width:0.75;stroke-linecap:round;stroke-linejoin:round;stroke:rgb(0%,0%,0%);stroke-opacity:1;stroke-miterlimit:10;\" d=\"M 423.492188 430.558594 L 423.492188 437.761719 \"/>\n",
       "<g style=\"fill:rgb(0%,0%,0%);fill-opacity:1;\">\n",
       "  <use xlink:href=\"#glyph1-23\" x=\"70.898438\" y=\"455.916016\"/>\n",
       "</g>\n",
       "<g style=\"fill:rgb(0%,0%,0%);fill-opacity:1;\">\n",
       "  <use xlink:href=\"#glyph1-20\" x=\"125.582031\" y=\"455.916016\"/>\n",
       "  <use xlink:href=\"#glyph1-23\" x=\"132.253906\" y=\"455.916016\"/>\n",
       "</g>\n",
       "<g style=\"fill:rgb(0%,0%,0%);fill-opacity:1;\">\n",
       "  <use xlink:href=\"#glyph1-24\" x=\"180.261719\" y=\"455.916016\"/>\n",
       "  <use xlink:href=\"#glyph1-23\" x=\"186.933594\" y=\"455.916016\"/>\n",
       "  <use xlink:href=\"#glyph1-23\" x=\"193.605469\" y=\"455.916016\"/>\n",
       "</g>\n",
       "<g style=\"fill:rgb(0%,0%,0%);fill-opacity:1;\">\n",
       "  <use xlink:href=\"#glyph1-24\" x=\"238.445312\" y=\"455.916016\"/>\n",
       "  <use xlink:href=\"#glyph1-20\" x=\"245.117188\" y=\"455.916016\"/>\n",
       "  <use xlink:href=\"#glyph1-23\" x=\"251.789062\" y=\"455.916016\"/>\n",
       "</g>\n",
       "<g style=\"fill:rgb(0%,0%,0%);fill-opacity:1;\">\n",
       "  <use xlink:href=\"#glyph1-25\" x=\"296.628906\" y=\"455.916016\"/>\n",
       "  <use xlink:href=\"#glyph1-23\" x=\"303.300781\" y=\"455.916016\"/>\n",
       "  <use xlink:href=\"#glyph1-23\" x=\"309.972656\" y=\"455.916016\"/>\n",
       "</g>\n",
       "<g style=\"fill:rgb(0%,0%,0%);fill-opacity:1;\">\n",
       "  <use xlink:href=\"#glyph1-25\" x=\"354.808594\" y=\"455.916016\"/>\n",
       "  <use xlink:href=\"#glyph1-20\" x=\"361.480469\" y=\"455.916016\"/>\n",
       "  <use xlink:href=\"#glyph1-23\" x=\"368.152344\" y=\"455.916016\"/>\n",
       "</g>\n",
       "<g style=\"fill:rgb(0%,0%,0%);fill-opacity:1;\">\n",
       "  <use xlink:href=\"#glyph1-18\" x=\"412.992188\" y=\"455.916016\"/>\n",
       "  <use xlink:href=\"#glyph1-23\" x=\"419.664062\" y=\"455.916016\"/>\n",
       "  <use xlink:href=\"#glyph1-23\" x=\"426.335938\" y=\"455.916016\"/>\n",
       "</g>\n",
       "<path style=\"fill:none;stroke-width:0.75;stroke-linecap:round;stroke-linejoin:round;stroke:rgb(0%,0%,0%);stroke-opacity:1;stroke-miterlimit:10;\" d=\"M 59.039062 416.800781 L 59.039062 62.371094 \"/>\n",
       "<path style=\"fill:none;stroke-width:0.75;stroke-linecap:round;stroke-linejoin:round;stroke:rgb(0%,0%,0%);stroke-opacity:1;stroke-miterlimit:10;\" d=\"M 59.039062 416.800781 L 51.839844 416.800781 \"/>\n",
       "<path style=\"fill:none;stroke-width:0.75;stroke-linecap:round;stroke-linejoin:round;stroke:rgb(0%,0%,0%);stroke-opacity:1;stroke-miterlimit:10;\" d=\"M 59.039062 366.167969 L 51.839844 366.167969 \"/>\n",
       "<path style=\"fill:none;stroke-width:0.75;stroke-linecap:round;stroke-linejoin:round;stroke:rgb(0%,0%,0%);stroke-opacity:1;stroke-miterlimit:10;\" d=\"M 59.039062 315.535156 L 51.839844 315.535156 \"/>\n",
       "<path style=\"fill:none;stroke-width:0.75;stroke-linecap:round;stroke-linejoin:round;stroke:rgb(0%,0%,0%);stroke-opacity:1;stroke-miterlimit:10;\" d=\"M 59.039062 264.902344 L 51.839844 264.902344 \"/>\n",
       "<path style=\"fill:none;stroke-width:0.75;stroke-linecap:round;stroke-linejoin:round;stroke:rgb(0%,0%,0%);stroke-opacity:1;stroke-miterlimit:10;\" d=\"M 59.039062 214.269531 L 51.839844 214.269531 \"/>\n",
       "<path style=\"fill:none;stroke-width:0.75;stroke-linecap:round;stroke-linejoin:round;stroke:rgb(0%,0%,0%);stroke-opacity:1;stroke-miterlimit:10;\" d=\"M 59.039062 163.636719 L 51.839844 163.636719 \"/>\n",
       "<path style=\"fill:none;stroke-width:0.75;stroke-linecap:round;stroke-linejoin:round;stroke:rgb(0%,0%,0%);stroke-opacity:1;stroke-miterlimit:10;\" d=\"M 59.039062 113.003906 L 51.839844 113.003906 \"/>\n",
       "<path style=\"fill:none;stroke-width:0.75;stroke-linecap:round;stroke-linejoin:round;stroke:rgb(0%,0%,0%);stroke-opacity:1;stroke-miterlimit:10;\" d=\"M 59.039062 62.371094 L 51.839844 62.371094 \"/>\n",
       "<g style=\"fill:rgb(0%,0%,0%);fill-opacity:1;\">\n",
       "  <use xlink:href=\"#glyph2-9\" x=\"41.197266\" y=\"420.300781\"/>\n",
       "</g>\n",
       "<g style=\"fill:rgb(0%,0%,0%);fill-opacity:1;\">\n",
       "  <use xlink:href=\"#glyph2-10\" x=\"41.197266\" y=\"376.667969\"/>\n",
       "  <use xlink:href=\"#glyph2-9\" x=\"41.197266\" y=\"369.996094\"/>\n",
       "  <use xlink:href=\"#glyph2-9\" x=\"41.197266\" y=\"363.324219\"/>\n",
       "</g>\n",
       "<g style=\"fill:rgb(0%,0%,0%);fill-opacity:1;\">\n",
       "  <use xlink:href=\"#glyph2-11\" x=\"41.197266\" y=\"329.035156\"/>\n",
       "  <use xlink:href=\"#glyph2-9\" x=\"41.197266\" y=\"322.363281\"/>\n",
       "  <use xlink:href=\"#glyph2-9\" x=\"41.197266\" y=\"315.691406\"/>\n",
       "  <use xlink:href=\"#glyph2-9\" x=\"41.197266\" y=\"309.019531\"/>\n",
       "</g>\n",
       "<g style=\"fill:rgb(0%,0%,0%);fill-opacity:1;\">\n",
       "  <use xlink:href=\"#glyph2-11\" x=\"41.197266\" y=\"278.402344\"/>\n",
       "  <use xlink:href=\"#glyph2-10\" x=\"41.197266\" y=\"271.730469\"/>\n",
       "  <use xlink:href=\"#glyph2-9\" x=\"41.197266\" y=\"265.058594\"/>\n",
       "  <use xlink:href=\"#glyph2-9\" x=\"41.197266\" y=\"258.386719\"/>\n",
       "</g>\n",
       "<g style=\"fill:rgb(0%,0%,0%);fill-opacity:1;\">\n",
       "  <use xlink:href=\"#glyph2-12\" x=\"41.197266\" y=\"227.769531\"/>\n",
       "  <use xlink:href=\"#glyph2-9\" x=\"41.197266\" y=\"221.097656\"/>\n",
       "  <use xlink:href=\"#glyph2-9\" x=\"41.197266\" y=\"214.425781\"/>\n",
       "  <use xlink:href=\"#glyph2-9\" x=\"41.197266\" y=\"207.753906\"/>\n",
       "</g>\n",
       "<g style=\"fill:rgb(0%,0%,0%);fill-opacity:1;\">\n",
       "  <use xlink:href=\"#glyph2-12\" x=\"41.197266\" y=\"177.136719\"/>\n",
       "  <use xlink:href=\"#glyph2-10\" x=\"41.197266\" y=\"170.464844\"/>\n",
       "  <use xlink:href=\"#glyph2-9\" x=\"41.197266\" y=\"163.792969\"/>\n",
       "  <use xlink:href=\"#glyph2-9\" x=\"41.197266\" y=\"157.121094\"/>\n",
       "</g>\n",
       "<g style=\"fill:rgb(0%,0%,0%);fill-opacity:1;\">\n",
       "  <use xlink:href=\"#glyph2-13\" x=\"41.197266\" y=\"126.503906\"/>\n",
       "  <use xlink:href=\"#glyph2-9\" x=\"41.197266\" y=\"119.832031\"/>\n",
       "  <use xlink:href=\"#glyph2-9\" x=\"41.197266\" y=\"113.160156\"/>\n",
       "  <use xlink:href=\"#glyph2-9\" x=\"41.197266\" y=\"106.488281\"/>\n",
       "</g>\n",
       "<g style=\"fill:rgb(0%,0%,0%);fill-opacity:1;\">\n",
       "  <use xlink:href=\"#glyph2-13\" x=\"41.197266\" y=\"75.871094\"/>\n",
       "  <use xlink:href=\"#glyph2-10\" x=\"41.197266\" y=\"69.199219\"/>\n",
       "  <use xlink:href=\"#glyph2-9\" x=\"41.197266\" y=\"62.527344\"/>\n",
       "  <use xlink:href=\"#glyph2-9\" x=\"41.197266\" y=\"55.855469\"/>\n",
       "</g>\n",
       "<path style=\"fill:none;stroke-width:0.75;stroke-linecap:round;stroke-linejoin:round;stroke:rgb(0%,0%,0%);stroke-opacity:1;stroke-miterlimit:10;\" d=\"M 74.398438 416.800781 L 86.035156 416.800781 L 86.035156 342.167969 L 74.398438 342.167969 Z M 74.398438 416.800781 \"/>\n",
       "<path style=\"fill:none;stroke-width:0.75;stroke-linecap:round;stroke-linejoin:round;stroke:rgb(0%,0%,0%);stroke-opacity:1;stroke-miterlimit:10;\" d=\"M 86.035156 416.800781 L 97.671875 416.800781 L 97.671875 363.230469 L 86.035156 363.230469 Z M 86.035156 416.800781 \"/>\n",
       "<path style=\"fill:none;stroke-width:0.75;stroke-linecap:round;stroke-linejoin:round;stroke:rgb(0%,0%,0%);stroke-opacity:1;stroke-miterlimit:10;\" d=\"M 97.671875 416.800781 L 109.308594 416.800781 L 109.308594 186.523438 L 97.671875 186.523438 Z M 97.671875 416.800781 \"/>\n",
       "<path style=\"fill:none;stroke-width:0.75;stroke-linecap:round;stroke-linejoin:round;stroke:rgb(0%,0%,0%);stroke-opacity:1;stroke-miterlimit:10;\" d=\"M 109.308594 416.800781 L 120.945312 416.800781 L 120.945312 415.6875 L 109.308594 415.6875 Z M 109.308594 416.800781 \"/>\n",
       "<path style=\"fill:none;stroke-width:0.75;stroke-linecap:round;stroke-linejoin:round;stroke:rgb(0%,0%,0%);stroke-opacity:1;stroke-miterlimit:10;\" d=\"M 120.945312 416.800781 L 132.582031 416.800781 Z M 120.945312 416.800781 \"/>\n",
       "<path style=\"fill:none;stroke-width:0.75;stroke-linecap:round;stroke-linejoin:round;stroke:rgb(0%,0%,0%);stroke-opacity:1;stroke-miterlimit:10;\" d=\"M 132.582031 416.800781 L 144.21875 416.800781 L 144.21875 72.800781 L 132.582031 72.800781 Z M 132.582031 416.800781 \"/>\n",
       "<path style=\"fill:none;stroke-width:0.75;stroke-linecap:round;stroke-linejoin:round;stroke:rgb(0%,0%,0%);stroke-opacity:1;stroke-miterlimit:10;\" d=\"M 144.21875 416.800781 L 155.855469 416.800781 Z M 144.21875 416.800781 \"/>\n",
       "<path style=\"fill:none;stroke-width:0.75;stroke-linecap:round;stroke-linejoin:round;stroke:rgb(0%,0%,0%);stroke-opacity:1;stroke-miterlimit:10;\" d=\"M 155.855469 416.800781 L 167.492188 416.800781 Z M 155.855469 416.800781 \"/>\n",
       "<path style=\"fill:none;stroke-width:0.75;stroke-linecap:round;stroke-linejoin:round;stroke:rgb(0%,0%,0%);stroke-opacity:1;stroke-miterlimit:10;\" d=\"M 167.492188 416.800781 L 179.128906 416.800781 L 179.128906 287.484375 L 167.492188 287.484375 Z M 167.492188 416.800781 \"/>\n",
       "<path style=\"fill:none;stroke-width:0.75;stroke-linecap:round;stroke-linejoin:round;stroke:rgb(0%,0%,0%);stroke-opacity:1;stroke-miterlimit:10;\" d=\"M 179.128906 416.800781 L 190.765625 416.800781 Z M 179.128906 416.800781 \"/>\n",
       "<path style=\"fill:none;stroke-width:0.75;stroke-linecap:round;stroke-linejoin:round;stroke:rgb(0%,0%,0%);stroke-opacity:1;stroke-miterlimit:10;\" d=\"M 190.761719 416.800781 L 202.398438 416.800781 Z M 190.761719 416.800781 \"/>\n",
       "<path style=\"fill:none;stroke-width:0.75;stroke-linecap:round;stroke-linejoin:round;stroke:rgb(0%,0%,0%);stroke-opacity:1;stroke-miterlimit:10;\" d=\"M 202.398438 416.800781 L 214.035156 416.800781 L 214.035156 326.875 L 202.398438 326.875 Z M 202.398438 416.800781 \"/>\n",
       "<path style=\"fill:none;stroke-width:0.75;stroke-linecap:round;stroke-linejoin:round;stroke:rgb(0%,0%,0%);stroke-opacity:1;stroke-miterlimit:10;\" d=\"M 214.035156 416.800781 L 225.671875 416.800781 Z M 214.035156 416.800781 \"/>\n",
       "<path style=\"fill:none;stroke-width:0.75;stroke-linecap:round;stroke-linejoin:round;stroke:rgb(0%,0%,0%);stroke-opacity:1;stroke-miterlimit:10;\" d=\"M 225.671875 416.800781 L 237.308594 416.800781 Z M 225.671875 416.800781 \"/>\n",
       "<path style=\"fill:none;stroke-width:0.75;stroke-linecap:round;stroke-linejoin:round;stroke:rgb(0%,0%,0%);stroke-opacity:1;stroke-miterlimit:10;\" d=\"M 237.308594 416.800781 L 248.945312 416.800781 L 248.945312 350.777344 L 237.308594 350.777344 Z M 237.308594 416.800781 \"/>\n",
       "<path style=\"fill:none;stroke-width:0.75;stroke-linecap:round;stroke-linejoin:round;stroke:rgb(0%,0%,0%);stroke-opacity:1;stroke-miterlimit:10;\" d=\"M 248.945312 416.800781 L 260.582031 416.800781 Z M 248.945312 416.800781 \"/>\n",
       "<path style=\"fill:none;stroke-width:0.75;stroke-linecap:round;stroke-linejoin:round;stroke:rgb(0%,0%,0%);stroke-opacity:1;stroke-miterlimit:10;\" d=\"M 260.582031 416.800781 L 272.21875 416.800781 Z M 260.582031 416.800781 \"/>\n",
       "<path style=\"fill:none;stroke-width:0.75;stroke-linecap:round;stroke-linejoin:round;stroke:rgb(0%,0%,0%);stroke-opacity:1;stroke-miterlimit:10;\" d=\"M 272.21875 416.800781 L 283.855469 416.800781 L 283.855469 357.257812 L 272.21875 357.257812 Z M 272.21875 416.800781 \"/>\n",
       "<path style=\"fill:none;stroke-width:0.75;stroke-linecap:round;stroke-linejoin:round;stroke:rgb(0%,0%,0%);stroke-opacity:1;stroke-miterlimit:10;\" d=\"M 283.855469 416.800781 L 295.492188 416.800781 Z M 283.855469 416.800781 \"/>\n",
       "<path style=\"fill:none;stroke-width:0.75;stroke-linecap:round;stroke-linejoin:round;stroke:rgb(0%,0%,0%);stroke-opacity:1;stroke-miterlimit:10;\" d=\"M 295.492188 416.800781 L 307.128906 416.800781 Z M 295.492188 416.800781 \"/>\n",
       "<path style=\"fill:none;stroke-width:0.75;stroke-linecap:round;stroke-linejoin:round;stroke:rgb(0%,0%,0%);stroke-opacity:1;stroke-miterlimit:10;\" d=\"M 307.128906 416.800781 L 318.765625 416.800781 L 318.765625 387.636719 L 307.128906 387.636719 Z M 307.128906 416.800781 \"/>\n",
       "<path style=\"fill:none;stroke-width:0.75;stroke-linecap:round;stroke-linejoin:round;stroke:rgb(0%,0%,0%);stroke-opacity:1;stroke-miterlimit:10;\" d=\"M 318.761719 416.800781 L 330.398438 416.800781 Z M 318.761719 416.800781 \"/>\n",
       "<path style=\"fill:none;stroke-width:0.75;stroke-linecap:round;stroke-linejoin:round;stroke:rgb(0%,0%,0%);stroke-opacity:1;stroke-miterlimit:10;\" d=\"M 330.398438 416.800781 L 342.035156 416.800781 Z M 330.398438 416.800781 \"/>\n",
       "<path style=\"fill:none;stroke-width:0.75;stroke-linecap:round;stroke-linejoin:round;stroke:rgb(0%,0%,0%);stroke-opacity:1;stroke-miterlimit:10;\" d=\"M 342.035156 416.800781 L 353.671875 416.800781 L 353.671875 376.09375 L 342.035156 376.09375 Z M 342.035156 416.800781 \"/>\n",
       "<path style=\"fill:none;stroke-width:0.75;stroke-linecap:round;stroke-linejoin:round;stroke:rgb(0%,0%,0%);stroke-opacity:1;stroke-miterlimit:10;\" d=\"M 353.671875 416.800781 L 365.308594 416.800781 Z M 353.671875 416.800781 \"/>\n",
       "<path style=\"fill:none;stroke-width:0.75;stroke-linecap:round;stroke-linejoin:round;stroke:rgb(0%,0%,0%);stroke-opacity:1;stroke-miterlimit:10;\" d=\"M 365.308594 416.800781 L 376.945312 416.800781 Z M 365.308594 416.800781 \"/>\n",
       "<path style=\"fill:none;stroke-width:0.75;stroke-linecap:round;stroke-linejoin:round;stroke:rgb(0%,0%,0%);stroke-opacity:1;stroke-miterlimit:10;\" d=\"M 376.945312 416.800781 L 388.582031 416.800781 L 388.582031 394.117188 L 376.945312 394.117188 Z M 376.945312 416.800781 \"/>\n",
       "<path style=\"fill:none;stroke-width:0.75;stroke-linecap:round;stroke-linejoin:round;stroke:rgb(0%,0%,0%);stroke-opacity:1;stroke-miterlimit:10;\" d=\"M 388.582031 416.800781 L 400.21875 416.800781 Z M 388.582031 416.800781 \"/>\n",
       "<path style=\"fill:none;stroke-width:0.75;stroke-linecap:round;stroke-linejoin:round;stroke:rgb(0%,0%,0%);stroke-opacity:1;stroke-miterlimit:10;\" d=\"M 400.21875 416.800781 L 411.855469 416.800781 Z M 400.21875 416.800781 \"/>\n",
       "<path style=\"fill:none;stroke-width:0.75;stroke-linecap:round;stroke-linejoin:round;stroke:rgb(0%,0%,0%);stroke-opacity:1;stroke-miterlimit:10;\" d=\"M 411.855469 416.800781 L 423.492188 416.800781 L 423.492188 370.523438 L 411.855469 370.523438 Z M 411.855469 416.800781 \"/>\n",
       "<path style=\"fill:none;stroke-width:0.75;stroke-linecap:round;stroke-linejoin:round;stroke:rgb(0%,0%,0%);stroke-opacity:1;stroke-miterlimit:10;\" d=\"M 423.492188 416.800781 L 435.128906 416.800781 Z M 423.492188 416.800781 \"/>\n",
       "<path style=\"fill:none;stroke-width:0.75;stroke-linecap:round;stroke-linejoin:round;stroke:rgb(0%,0%,0%);stroke-opacity:1;stroke-miterlimit:10;\" d=\"M 435.128906 416.800781 L 446.765625 416.800781 Z M 435.128906 416.800781 \"/>\n",
       "<path style=\"fill:none;stroke-width:0.75;stroke-linecap:round;stroke-linejoin:round;stroke:rgb(0%,0%,0%);stroke-opacity:1;stroke-miterlimit:10;\" d=\"M 446.761719 416.800781 L 458.398438 416.800781 L 458.398438 399.992188 L 446.761719 399.992188 Z M 446.761719 416.800781 \"/>\n",
       "</g>\n",
       "</svg>\n"
      ],
      "text/plain": [
       "Plot with title \"Histogram of new_train_df[new_train_df$age_in_days < 365, ]$age_in_days\""
      ]
     },
     "metadata": {
      "image/svg+xml": {
       "isolated": true
      }
     },
     "output_type": "display_data"
    }
   ],
   "source": [
    "hist(new_train_df[new_train_df$age_in_days < 365,]$age_in_days, breaks=30)"
   ]
  },
  {
   "cell_type": "code",
   "execution_count": 95,
   "metadata": {
    "collapsed": false
   },
   "outputs": [],
   "source": [
    "all_colors <- unique(train_df$Color)\n",
    "return_color_vector <- function(multi_color_str) {\n",
    "    in_color_vector <- strsplit(multi_color_str, '/', fixed=TRUE)\n",
    "    color_vector_out <- setNames(logical(length(all_colors)), all_colors)\n",
    "    for(i in in_color_vector) color_vector_out[i] <- TRUE\n",
    "    return(color_vector_out)\n",
    "}"
   ]
  },
  {
   "cell_type": "code",
   "execution_count": 100,
   "metadata": {
    "collapsed": false
   },
   "outputs": [
    {
     "ename": "ERROR",
     "evalue": "Error in data.frame(`Brown/White` = structure(c(FALSE, FALSE, FALSE, FALSE, : arguments imply differing number of rows: 366, 367\n",
     "output_type": "error",
     "traceback": [
      "Error in data.frame(`Brown/White` = structure(c(FALSE, FALSE, FALSE, FALSE, : arguments imply differing number of rows: 366, 367\n"
     ]
    }
   ],
   "source": [
    "color_vectors <- mapply(return_color_vector, new_train_df$Color)\n",
    "new_train_df <- cbind(new_train_df, color_vectors)"
   ]
  },
  {
   "cell_type": "code",
   "execution_count": null,
   "metadata": {
    "collapsed": true
   },
   "outputs": [],
   "source": []
  }
 ],
 "metadata": {
  "kernelspec": {
   "display_name": "R",
   "language": "R",
   "name": "ir"
  },
  "language_info": {
   "codemirror_mode": "r",
   "file_extension": ".r",
   "mimetype": "text/x-r-source",
   "name": "R",
   "pygments_lexer": "r",
   "version": "3.2.2"
  }
 },
 "nbformat": 4,
 "nbformat_minor": 0
}
