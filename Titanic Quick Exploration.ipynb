{
 "cells": [
  {
   "cell_type": "markdown",
   "metadata": {},
   "source": [
    "Prompt:\n",
    "Take two hours and do as much as you can of the following (feel free to use whichever tools and technology you are most comfortable with):\n",
    "\n",
    "1.      Download this dataset. (http://biostat.mc.vanderbilt.edu/wiki/pub/Main/DataSets/titanic3.xls)\n",
    "\n",
    "2.      Explore and describe the dataset (charts, written descriptions, or whatever you think fits best).\n",
    "\n",
    "3.      Pick and describe an appropriate model to quickly predict the target outcome of this dataset (survival).\n",
    "\n",
    "4.      How would you handle missing data? What are some potential pitfalls?\n",
    "\n",
    "5.      Rank each feature in order of importance.\n",
    "\n",
    "6.      Fit a simple model of your choice and show how well it predicts.\n",
    "\n",
    "7.      What steps would you take to improve this model?"
   ]
  },
  {
   "cell_type": "markdown",
   "metadata": {},
   "source": [
    "I am not familiar with this data set and was supplied no data dictionary.  Poking around on the website link also didn't seem to yield any quick results.  However, the name and the fields lead me to believe that this is some type of data set related to the famous HMS Titanic disaster.  I'll try to go along and write down observations as I code an exploration."
   ]
  },
  {
   "cell_type": "code",
   "execution_count": 4,
   "metadata": {
    "collapsed": false
   },
   "outputs": [],
   "source": [
    "import matplotlib as plt\n",
    "import pandas as pd\n",
    "import numpy as np\n",
    "\n",
    "from sklearn import cross_validation, linear_model, metrics\n",
    "\n",
    "%matplotlib inline"
   ]
  },
  {
   "cell_type": "code",
   "execution_count": 5,
   "metadata": {
    "collapsed": false
   },
   "outputs": [
    {
     "data": {
      "text/html": [
       "<div>\n",
       "<table border=\"1\" class=\"dataframe\">\n",
       "  <thead>\n",
       "    <tr style=\"text-align: right;\">\n",
       "      <th></th>\n",
       "      <th>pclass</th>\n",
       "      <th>survived</th>\n",
       "      <th>name</th>\n",
       "      <th>sex</th>\n",
       "      <th>age</th>\n",
       "      <th>sibsp</th>\n",
       "      <th>parch</th>\n",
       "      <th>ticket</th>\n",
       "      <th>fare</th>\n",
       "      <th>cabin</th>\n",
       "      <th>embarked</th>\n",
       "      <th>boat</th>\n",
       "      <th>body</th>\n",
       "      <th>home.dest</th>\n",
       "    </tr>\n",
       "  </thead>\n",
       "  <tbody>\n",
       "    <tr>\n",
       "      <th>0</th>\n",
       "      <td>1</td>\n",
       "      <td>1</td>\n",
       "      <td>Allen, Miss. Elisabeth Walton</td>\n",
       "      <td>female</td>\n",
       "      <td>29.0000</td>\n",
       "      <td>0</td>\n",
       "      <td>0</td>\n",
       "      <td>24160</td>\n",
       "      <td>211.3375</td>\n",
       "      <td>B5</td>\n",
       "      <td>S</td>\n",
       "      <td>2</td>\n",
       "      <td>NaN</td>\n",
       "      <td>St Louis, MO</td>\n",
       "    </tr>\n",
       "    <tr>\n",
       "      <th>1</th>\n",
       "      <td>1</td>\n",
       "      <td>1</td>\n",
       "      <td>Allison, Master. Hudson Trevor</td>\n",
       "      <td>male</td>\n",
       "      <td>0.9167</td>\n",
       "      <td>1</td>\n",
       "      <td>2</td>\n",
       "      <td>113781</td>\n",
       "      <td>151.5500</td>\n",
       "      <td>C22 C26</td>\n",
       "      <td>S</td>\n",
       "      <td>11</td>\n",
       "      <td>NaN</td>\n",
       "      <td>Montreal, PQ / Chesterville, ON</td>\n",
       "    </tr>\n",
       "    <tr>\n",
       "      <th>2</th>\n",
       "      <td>1</td>\n",
       "      <td>0</td>\n",
       "      <td>Allison, Miss. Helen Loraine</td>\n",
       "      <td>female</td>\n",
       "      <td>2.0000</td>\n",
       "      <td>1</td>\n",
       "      <td>2</td>\n",
       "      <td>113781</td>\n",
       "      <td>151.5500</td>\n",
       "      <td>C22 C26</td>\n",
       "      <td>S</td>\n",
       "      <td>NaN</td>\n",
       "      <td>NaN</td>\n",
       "      <td>Montreal, PQ / Chesterville, ON</td>\n",
       "    </tr>\n",
       "    <tr>\n",
       "      <th>3</th>\n",
       "      <td>1</td>\n",
       "      <td>0</td>\n",
       "      <td>Allison, Mr. Hudson Joshua Creighton</td>\n",
       "      <td>male</td>\n",
       "      <td>30.0000</td>\n",
       "      <td>1</td>\n",
       "      <td>2</td>\n",
       "      <td>113781</td>\n",
       "      <td>151.5500</td>\n",
       "      <td>C22 C26</td>\n",
       "      <td>S</td>\n",
       "      <td>NaN</td>\n",
       "      <td>135</td>\n",
       "      <td>Montreal, PQ / Chesterville, ON</td>\n",
       "    </tr>\n",
       "    <tr>\n",
       "      <th>4</th>\n",
       "      <td>1</td>\n",
       "      <td>0</td>\n",
       "      <td>Allison, Mrs. Hudson J C (Bessie Waldo Daniels)</td>\n",
       "      <td>female</td>\n",
       "      <td>25.0000</td>\n",
       "      <td>1</td>\n",
       "      <td>2</td>\n",
       "      <td>113781</td>\n",
       "      <td>151.5500</td>\n",
       "      <td>C22 C26</td>\n",
       "      <td>S</td>\n",
       "      <td>NaN</td>\n",
       "      <td>NaN</td>\n",
       "      <td>Montreal, PQ / Chesterville, ON</td>\n",
       "    </tr>\n",
       "  </tbody>\n",
       "</table>\n",
       "</div>"
      ],
      "text/plain": [
       "   pclass  survived                                             name     sex  \\\n",
       "0       1         1                    Allen, Miss. Elisabeth Walton  female   \n",
       "1       1         1                   Allison, Master. Hudson Trevor    male   \n",
       "2       1         0                     Allison, Miss. Helen Loraine  female   \n",
       "3       1         0             Allison, Mr. Hudson Joshua Creighton    male   \n",
       "4       1         0  Allison, Mrs. Hudson J C (Bessie Waldo Daniels)  female   \n",
       "\n",
       "       age  sibsp  parch  ticket      fare    cabin embarked boat  body  \\\n",
       "0  29.0000      0      0   24160  211.3375       B5        S    2   NaN   \n",
       "1   0.9167      1      2  113781  151.5500  C22 C26        S   11   NaN   \n",
       "2   2.0000      1      2  113781  151.5500  C22 C26        S  NaN   NaN   \n",
       "3  30.0000      1      2  113781  151.5500  C22 C26        S  NaN   135   \n",
       "4  25.0000      1      2  113781  151.5500  C22 C26        S  NaN   NaN   \n",
       "\n",
       "                         home.dest  \n",
       "0                     St Louis, MO  \n",
       "1  Montreal, PQ / Chesterville, ON  \n",
       "2  Montreal, PQ / Chesterville, ON  \n",
       "3  Montreal, PQ / Chesterville, ON  \n",
       "4  Montreal, PQ / Chesterville, ON  "
      ]
     },
     "execution_count": 5,
     "metadata": {},
     "output_type": "execute_result"
    }
   ],
   "source": [
    "titanic_xls = pd.read_excel('http://biostat.mc.vanderbilt.edu/wiki/pub/Main/DataSets/titanic3.xls')\n",
    "titanic_xls.head()"
   ]
  },
  {
   "cell_type": "markdown",
   "metadata": {},
   "source": [
    "14 fields exist in what looks like:\n",
    "* a class of passenger\n",
    "* a binary indicator on whether or not they survived the disaster\n",
    "* the name, sex, and age of the passenger\n",
    "* two fields that I'm not quite sure about\n",
    "* what looks like a ticket number (possibly grouped by family or cabins)\n",
    "* the fare paid\n",
    "* some cabin identifiers\n",
    "* a field called embarked that may or may not indicate whether the passengers began the journey or not\n",
    "* a field called \"boat\" that may refer to the boat the passengers survived on\n",
    "* a field called \"body\" that may refer to an identifier if they didn't survive\n",
    "* their destination"
   ]
  },
  {
   "cell_type": "code",
   "execution_count": 6,
   "metadata": {
    "collapsed": false
   },
   "outputs": [
    {
     "data": {
      "text/html": [
       "<div>\n",
       "<table border=\"1\" class=\"dataframe\">\n",
       "  <thead>\n",
       "    <tr style=\"text-align: right;\">\n",
       "      <th></th>\n",
       "      <th>pclass</th>\n",
       "      <th>survived</th>\n",
       "      <th>age</th>\n",
       "      <th>sibsp</th>\n",
       "      <th>parch</th>\n",
       "      <th>fare</th>\n",
       "      <th>body</th>\n",
       "    </tr>\n",
       "  </thead>\n",
       "  <tbody>\n",
       "    <tr>\n",
       "      <th>count</th>\n",
       "      <td>1309.000000</td>\n",
       "      <td>1309.000000</td>\n",
       "      <td>1046.000000</td>\n",
       "      <td>1309.000000</td>\n",
       "      <td>1309.000000</td>\n",
       "      <td>1308.000000</td>\n",
       "      <td>121.000000</td>\n",
       "    </tr>\n",
       "    <tr>\n",
       "      <th>mean</th>\n",
       "      <td>2.294882</td>\n",
       "      <td>0.381971</td>\n",
       "      <td>29.881135</td>\n",
       "      <td>0.498854</td>\n",
       "      <td>0.385027</td>\n",
       "      <td>33.295479</td>\n",
       "      <td>160.809917</td>\n",
       "    </tr>\n",
       "    <tr>\n",
       "      <th>std</th>\n",
       "      <td>0.837836</td>\n",
       "      <td>0.486055</td>\n",
       "      <td>14.413500</td>\n",
       "      <td>1.041658</td>\n",
       "      <td>0.865560</td>\n",
       "      <td>51.758668</td>\n",
       "      <td>97.696922</td>\n",
       "    </tr>\n",
       "    <tr>\n",
       "      <th>min</th>\n",
       "      <td>1.000000</td>\n",
       "      <td>0.000000</td>\n",
       "      <td>0.166700</td>\n",
       "      <td>0.000000</td>\n",
       "      <td>0.000000</td>\n",
       "      <td>0.000000</td>\n",
       "      <td>1.000000</td>\n",
       "    </tr>\n",
       "    <tr>\n",
       "      <th>25%</th>\n",
       "      <td>2.000000</td>\n",
       "      <td>0.000000</td>\n",
       "      <td>21.000000</td>\n",
       "      <td>0.000000</td>\n",
       "      <td>0.000000</td>\n",
       "      <td>7.895800</td>\n",
       "      <td>72.000000</td>\n",
       "    </tr>\n",
       "    <tr>\n",
       "      <th>50%</th>\n",
       "      <td>3.000000</td>\n",
       "      <td>0.000000</td>\n",
       "      <td>28.000000</td>\n",
       "      <td>0.000000</td>\n",
       "      <td>0.000000</td>\n",
       "      <td>14.454200</td>\n",
       "      <td>155.000000</td>\n",
       "    </tr>\n",
       "    <tr>\n",
       "      <th>75%</th>\n",
       "      <td>3.000000</td>\n",
       "      <td>1.000000</td>\n",
       "      <td>39.000000</td>\n",
       "      <td>1.000000</td>\n",
       "      <td>0.000000</td>\n",
       "      <td>31.275000</td>\n",
       "      <td>256.000000</td>\n",
       "    </tr>\n",
       "    <tr>\n",
       "      <th>max</th>\n",
       "      <td>3.000000</td>\n",
       "      <td>1.000000</td>\n",
       "      <td>80.000000</td>\n",
       "      <td>8.000000</td>\n",
       "      <td>9.000000</td>\n",
       "      <td>512.329200</td>\n",
       "      <td>328.000000</td>\n",
       "    </tr>\n",
       "  </tbody>\n",
       "</table>\n",
       "</div>"
      ],
      "text/plain": [
       "            pclass     survived          age        sibsp        parch  \\\n",
       "count  1309.000000  1309.000000  1046.000000  1309.000000  1309.000000   \n",
       "mean      2.294882     0.381971    29.881135     0.498854     0.385027   \n",
       "std       0.837836     0.486055    14.413500     1.041658     0.865560   \n",
       "min       1.000000     0.000000     0.166700     0.000000     0.000000   \n",
       "25%       2.000000     0.000000    21.000000     0.000000     0.000000   \n",
       "50%       3.000000     0.000000    28.000000     0.000000     0.000000   \n",
       "75%       3.000000     1.000000    39.000000     1.000000     0.000000   \n",
       "max       3.000000     1.000000    80.000000     8.000000     9.000000   \n",
       "\n",
       "              fare        body  \n",
       "count  1308.000000  121.000000  \n",
       "mean     33.295479  160.809917  \n",
       "std      51.758668   97.696922  \n",
       "min       0.000000    1.000000  \n",
       "25%       7.895800   72.000000  \n",
       "50%      14.454200  155.000000  \n",
       "75%      31.275000  256.000000  \n",
       "max     512.329200  328.000000  "
      ]
     },
     "execution_count": 6,
     "metadata": {},
     "output_type": "execute_result"
    }
   ],
   "source": [
    "titanic_xls.describe()"
   ]
  },
  {
   "cell_type": "markdown",
   "metadata": {},
   "source": [
    "Much of the above is useless, as pclass I'm sure is a discrete field.  38% of the passengers survived if that field is in fact a binary indicator.  The passengers were slightly younger than 30, with a really young baby but at least a few 80 year olds aboard.  'parch' is still a mystery.  The median fare is about 14 somethings (I'll assume pounds through the rest of this as they were traveling out of jolly old England) with most people paying in the 14-30 pound range, although one person has paid 512 pounds for the pleasure of journeying on this cruise."
   ]
  },
  {
   "cell_type": "code",
   "execution_count": 7,
   "metadata": {
    "collapsed": false
   },
   "outputs": [
    {
     "data": {
      "text/plain": [
       "male      843\n",
       "female    466\n",
       "Name: sex, dtype: int64"
      ]
     },
     "execution_count": 7,
     "metadata": {},
     "output_type": "execute_result"
    }
   ],
   "source": [
    "titanic_xls['sex'].value_counts()"
   ]
  },
  {
   "cell_type": "code",
   "execution_count": 8,
   "metadata": {
    "collapsed": false
   },
   "outputs": [
    {
     "data": {
      "text/plain": [
       "<matplotlib.axes._subplots.AxesSubplot at 0x7fcb3fe21990>"
      ]
     },
     "execution_count": 8,
     "metadata": {},
     "output_type": "execute_result"
    },
    {
     "data": {
      "image/png": "[encoded data removed]",
      "text/plain": [
       "<matplotlib.figure.Figure at 0x7fcb3fe5e890>"
      ]
     },
     "metadata": {},
     "output_type": "display_data"
    }
   ],
   "source": [
    "titanic_xls['age'].hist()"
   ]
  },
  {
   "cell_type": "code",
   "execution_count": 9,
   "metadata": {
    "collapsed": false
   },
   "outputs": [
    {
     "data": {
      "text/plain": [
       "<matplotlib.axes._subplots.AxesSubplot at 0x7fcb3fe00150>"
      ]
     },
     "execution_count": 9,
     "metadata": {},
     "output_type": "execute_result"
    },
    {
     "data": {
      "image/png": "[encoded data removed]",
      "text/plain": [
       "<matplotlib.figure.Figure at 0x7fcb3fd03850>"
      ]
     },
     "metadata": {},
     "output_type": "display_data"
    }
   ],
   "source": [
    "titanic_xls['fare'].hist()"
   ]
  },
  {
   "cell_type": "code",
   "execution_count": 10,
   "metadata": {
    "collapsed": false
   },
   "outputs": [
    {
     "data": {
      "text/plain": [
       "<matplotlib.axes._subplots.AxesSubplot at 0x7fcb3fc95c90>"
      ]
     },
     "execution_count": 10,
     "metadata": {},
     "output_type": "execute_result"
    },
    {
     "data": {
      "image/png": "[encoded data removed]",
      "text/plain": [
       "<matplotlib.figure.Figure at 0x7fcb3fce64d0>"
      ]
     },
     "metadata": {},
     "output_type": "display_data"
    }
   ],
   "source": [
    "titanic_xls.plot.scatter(x='age', y='fare')"
   ]
  },
  {
   "cell_type": "markdown",
   "metadata": {},
   "source": [
    "I thought there might be a nifty \"older people pay more because they have more money\" thing that goes on in some financial data sets, but it looks like the titanics passengers all paid alike regardless of their age."
   ]
  },
  {
   "cell_type": "code",
   "execution_count": 11,
   "metadata": {
    "collapsed": false
   },
   "outputs": [
    {
     "data": {
      "image/png": "[encoded data removed]",
      "text/plain": [
       "<matplotlib.figure.Figure at 0x7fcb3fb1e090>"
      ]
     },
     "metadata": {},
     "output_type": "display_data"
    }
   ],
   "source": [
    "fare = titanic_xls[titanic_xls['fare']<200].boxplot(column='fare', by='pclass')"
   ]
  },
  {
   "cell_type": "markdown",
   "metadata": {},
   "source": [
    "The pclass field does indeed seem to match intuition as a class of passenger.  The fare boxplots shown here (with outliers removed to give a better visualisation of spread) show the same as the fare description above.  We could probably break this field down more if we cared about investigating this type of thing but I'll leave it at this for the moment."
   ]
  },
  {
   "cell_type": "code",
   "execution_count": 12,
   "metadata": {
    "collapsed": false
   },
   "outputs": [
    {
     "data": {
      "text/plain": [
       "S    914\n",
       "C    270\n",
       "Q    123\n",
       "Name: embarked, dtype: int64"
      ]
     },
     "execution_count": 12,
     "metadata": {},
     "output_type": "execute_result"
    }
   ],
   "source": [
    "titanic_xls.embarked.value_counts()"
   ]
  },
  {
   "cell_type": "code",
   "execution_count": 13,
   "metadata": {
    "collapsed": false
   },
   "outputs": [
    {
     "data": {
      "text/plain": [
       "survived  embarked\n",
       "0         S           610\n",
       "          C           120\n",
       "          Q            79\n",
       "1         S           304\n",
       "          C           150\n",
       "          Q            44\n",
       "dtype: int64"
      ]
     },
     "execution_count": 13,
     "metadata": {},
     "output_type": "execute_result"
    }
   ],
   "source": [
    "titanic_xls.groupby('survived')['embarked'].value_counts()"
   ]
  },
  {
   "cell_type": "markdown",
   "metadata": {},
   "source": [
    "Originally I thought that perhaps we could exclude some passengers by dent of their not actually being on board the boat when it set sail.  Alas, it appears as though no easy win can be had as members of all three types of 'embarked' both lived and died as matters had it."
   ]
  },
  {
   "cell_type": "code",
   "execution_count": 14,
   "metadata": {
    "collapsed": false
   },
   "outputs": [
    {
     "data": {
      "text/plain": [
       "New York, NY                                 64\n",
       "London                                       14\n",
       "Montreal, PQ                                 10\n",
       "Paris, France                                 9\n",
       "Cornwall / Akron, OH                          9\n",
       "Philadelphia, PA                              8\n",
       "Winnipeg, MB                                  8\n",
       "Wiltshire, England Niagara Falls, NY          8\n",
       "Belfast                                       7\n",
       "Brooklyn, NY                                  7\n",
       "Sweden Winnipeg, MN                           7\n",
       "Rotherfield, Sussex, England Essex Co, MA     5\n",
       "Bulgaria Chicago, IL                          5\n",
       "Somerset / Bernardsville, NJ                  5\n",
       "Sweden Worcester, MA                          5\n",
       "Haverford, PA / Cooperstown, NY               5\n",
       "Ottawa, ON                                    5\n",
       "Minneapolis, MN                               4\n",
       "Syria New York, NY                            4\n",
       "Ruotsinphytaa, Finland New York, NY           4\n",
       "Bryn Mawr, PA                                 4\n",
       "Guntur, India / Benton Harbour, MI            4\n",
       "Youngstown, OH                                4\n",
       "Bournmouth, England                           4\n",
       "Chicago, IL                                   4\n",
       "London, England                               4\n",
       "Austria                                       4\n",
       "St Louis, MO                                  4\n",
       "Ireland Chicago, IL                           4\n",
       "San Francisco, CA                             4\n",
       "                                             ..\n",
       "Liverpool, England / Belfast                  1\n",
       "Hartford, Huntingdonshire                     1\n",
       "Columbus, OH                                  1\n",
       "Green Bay, WI                                 1\n",
       "Pennsylvania                                  1\n",
       "St Austall, Cornwall                          1\n",
       "England Oglesby, IL                           1\n",
       "Dagsas, Sweden Fower, MN                      1\n",
       "Provo, UT                                     1\n",
       "Gallipolis, Ohio / ? Paris / New York         1\n",
       "Cologne, Germany                              1\n",
       "Copenhagen, Denmark                           1\n",
       "Sweden / Arlington, NJ                        1\n",
       "Paris, France New York, NY                    1\n",
       "Co Cork, Ireland Roxbury, MA                  1\n",
       "St Andrews, Guernsey                          1\n",
       "Goteborg, Sweden / Rockford, IL               1\n",
       "Ireland Brooklyn, NY                          1\n",
       "Lyndhurst, England                            1\n",
       "Worcester, England                            1\n",
       "Effington Rut, SD                             1\n",
       "London / Birmingham                           1\n",
       "Windsor, England New York, NY                 1\n",
       "Brockton, MA                                  1\n",
       "Pondersend, England / New Durham, NJ          1\n",
       "Goteborg, Sweden Huntley, IL                  1\n",
       "London / Chicago, IL                          1\n",
       "Yoevil, England / Cottage Grove, OR           1\n",
       "Seattle, WA                                   1\n",
       "Stoughton, MA                                 1\n",
       "Name: home.dest, dtype: int64"
      ]
     },
     "execution_count": 14,
     "metadata": {},
     "output_type": "execute_result"
    }
   ],
   "source": [
    "titanic_xls['home.dest'].value_counts()"
   ]
  },
  {
   "cell_type": "markdown",
   "metadata": {},
   "source": [
    "I don't really understand the destinations as if the Titanic was sailing from England why would you book passage to London but perhaps round trip tickets or tickets good for a certain amount of time with an eventual destination were issued back then."
   ]
  },
  {
   "cell_type": "code",
   "execution_count": 15,
   "metadata": {
    "collapsed": false
   },
   "outputs": [
    {
     "name": "stdout",
     "output_type": "stream",
     "text": [
      "1309 of passengers in the data set\n",
      "500 passengers who survived\n",
      "809 passengers who did not survive\n",
      "0 passengers who survived and who have something listed in the body column\n",
      "121 passengers who did not survive and who have something listed in the body column\n",
      "477 passengers who did survived and who have something listed in the boat column\n",
      "9 passengers who did not survive and who have something listed in the boat column\n"
     ]
    }
   ],
   "source": [
    "tot = len(titanic_xls)\n",
    "survived = len(titanic_xls[titanic_xls['survived']==1])\n",
    "dead = tot - survived\n",
    "\n",
    "survived_and_body_recovered = titanic_xls[(titanic_xls['survived']==1) & titanic_xls['body']]\n",
    "dead_and_body_recovered = titanic_xls[(titanic_xls['survived']==0) & titanic_xls['body']]\n",
    "\n",
    "survived_and_boat = titanic_xls[(titanic_xls['survived']==1) & titanic_xls['boat']]\n",
    "dead_and_boat = titanic_xls[(titanic_xls['survived']==0) & (titanic_xls['boat'])]\n",
    "\n",
    "\n",
    "print \"{} of passengers in the data set\".format(tot)\n",
    "print \"{} passengers who survived\".format(survived)\n",
    "print \"{} passengers who did not survive\".format(dead)\n",
    "print \"{} passengers who survived and who have something listed in the body column\".format(len(survived_and_body_recovered))\n",
    "print \"{} passengers who did not survive and who have something listed in the body column\".format(len(dead_and_body_recovered))\n",
    "print \"{} passengers who did survived and who have something listed in the boat column\".format(len(survived_and_boat))\n",
    "print \"{} passengers who did not survive and who have something listed in the boat column\".format(len(dead_and_boat))"
   ]
  },
  {
   "cell_type": "markdown",
   "metadata": {},
   "source": [
    "Initially I thought that the body field might be the identifier of the body that was found later on and thus would be an insufficient field to predict on.  The above confirms this as no one who survived has a body associated.  A sobering 809 passengers did not survive however, although from the movie and my limited knowledge of the event, I didn't imagine that 500 had survived, so thats nice.\n",
    "\n",
    "What's more puzzling is how 23 of them did it without a boat being associated with the rescue.  Perhaps an error in the data?  I'm not sure what it is but it shouldn't affect what we're trying to predict so I'll leave it at that."
   ]
  },
  {
   "cell_type": "code",
   "execution_count": 16,
   "metadata": {
    "collapsed": false
   },
   "outputs": [
    {
     "data": {
      "text/plain": [
       "sex     survived\n",
       "female  0           0.272532\n",
       "        1           0.727468\n",
       "male    0           0.809015\n",
       "        1           0.190985\n",
       "dtype: float64"
      ]
     },
     "execution_count": 16,
     "metadata": {},
     "output_type": "execute_result"
    }
   ],
   "source": [
    "titanic_xls.groupby('sex')['survived'].value_counts(normalize=True).sort_index()"
   ]
  },
  {
   "cell_type": "code",
   "execution_count": 17,
   "metadata": {
    "collapsed": false
   },
   "outputs": [
    {
     "data": {
      "text/plain": [
       "pclass  survived\n",
       "1       0           0.380805\n",
       "        1           0.619195\n",
       "2       0           0.570397\n",
       "        1           0.429603\n",
       "3       0           0.744711\n",
       "        1           0.255289\n",
       "dtype: float64"
      ]
     },
     "execution_count": 17,
     "metadata": {},
     "output_type": "execute_result"
    }
   ],
   "source": [
    "titanic_xls.groupby('pclass')['survived'].value_counts(normalize=True).sort_index()"
   ]
  },
  {
   "cell_type": "code",
   "execution_count": 18,
   "metadata": {
    "collapsed": false
   },
   "outputs": [
    {
     "data": {
      "text/plain": [
       "pclass  sex     survived\n",
       "1       female  0           0.034722\n",
       "                1           0.965278\n",
       "        male    0           0.659218\n",
       "                1           0.340782\n",
       "2       female  0           0.113208\n",
       "                1           0.886792\n",
       "        male    0           0.853801\n",
       "                1           0.146199\n",
       "3       female  0           0.509259\n",
       "                1           0.490741\n",
       "        male    0           0.847870\n",
       "                1           0.152130\n",
       "dtype: float64"
      ]
     },
     "execution_count": 18,
     "metadata": {},
     "output_type": "execute_result"
    }
   ],
   "source": [
    "titanic_xls.groupby(['pclass', 'sex'])['survived'].value_counts(normalize=True).sort_index()"
   ]
  },
  {
   "cell_type": "markdown",
   "metadata": {},
   "source": [
    "According to the famous cry \"women and children first\" it makes sense that females have a 3 to 1 odds of making it alive off the boat however, we should wrinkle our noses at the fact that it seems to be interesting that male passengers riding in first class end up surviving more often than their bretheren in second and third class."
   ]
  },
  {
   "cell_type": "code",
   "execution_count": 25,
   "metadata": {
    "collapsed": false
   },
   "outputs": [],
   "source": [
    "data = titanic_xls[['pclass', 'sex', 'age', 'sibsp', 'parch', 'ticket', 'cabin']]\n",
    "label = titanic_xls['survived']\n",
    "\n",
    "scores = cross_validation.cross_val_score(LogisticRegression(), data, label, scoring='accuracy', cv=10)\n",
    "print scores\n",
    "print scores.mean()"
   ]
  },
  {
   "cell_type": "markdown",
   "metadata": {
    "collapsed": true
   },
   "source": [
    "Logistic regression parameter weights are useless for feature selection as well known, but its fairly clear that pclass, sex, age, seem to have the most importance in whether or not someone survived the Titanic attempt.  T"
   ]
  },
  {
   "cell_type": "code",
   "execution_count": null,
   "metadata": {
    "collapsed": true
   },
   "outputs": [],
   "source": []
  }
 ],
 "metadata": {
  "kernelspec": {
   "display_name": "Python 2",
   "language": "python",
   "name": "python2"
  },
  "language_info": {
   "codemirror_mode": {
    "name": "ipython",
    "version": 2
   },
   "file_extension": ".py",
   "mimetype": "text/x-python",
   "name": "python",
   "nbconvert_exporter": "python",
   "pygments_lexer": "ipython2",
   "version": "2.7.11"
  }
 },
 "nbformat": 4,
 "nbformat_minor": 0
}
